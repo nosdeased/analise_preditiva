{
  "cells": [
    {
      "cell_type": "markdown",
      "metadata": {
        "id": "view-in-github",
        "colab_type": "text"
      },
      "source": [
        "<a href=\"https://colab.research.google.com/github/nosdeased/analise_preditiva/blob/main/analise_preditiva.ipynb\" target=\"_parent\"><img src=\"https://colab.research.google.com/assets/colab-badge.svg\" alt=\"Open In Colab\"/></a>"
      ]
    },
    {
      "cell_type": "code",
      "execution_count": 20,
      "metadata": {
        "colab": {
          "base_uri": "https://localhost:8080/"
        },
        "id": "gG474sDz9-Ll",
        "outputId": "e40b0cf6-a1ef-4924-f49b-9fc0d894f257"
      },
      "outputs": [
        {
          "output_type": "stream",
          "name": "stdout",
          "text": [
            "Looking in indexes: https://pypi.org/simple, https://us-python.pkg.dev/colab-wheels/public/simple/\n",
            "Requirement already satisfied: yfinance in /usr/local/lib/python3.8/dist-packages (0.2.10)\n",
            "Requirement already satisfied: requests>=2.26 in /usr/local/lib/python3.8/dist-packages (from yfinance) (2.28.2)\n",
            "Requirement already satisfied: cryptography>=3.3.2 in /usr/local/lib/python3.8/dist-packages (from yfinance) (39.0.1)\n",
            "Requirement already satisfied: frozendict>=2.3.4 in /usr/local/lib/python3.8/dist-packages (from yfinance) (2.3.4)\n",
            "Requirement already satisfied: html5lib>=1.1 in /usr/local/lib/python3.8/dist-packages (from yfinance) (1.1)\n",
            "Requirement already satisfied: appdirs>=1.4.4 in /usr/local/lib/python3.8/dist-packages (from yfinance) (1.4.4)\n",
            "Requirement already satisfied: pytz>=2022.5 in /usr/local/lib/python3.8/dist-packages (from yfinance) (2022.7.1)\n",
            "Requirement already satisfied: lxml>=4.9.1 in /usr/local/lib/python3.8/dist-packages (from yfinance) (4.9.2)\n",
            "Requirement already satisfied: beautifulsoup4>=4.11.1 in /usr/local/lib/python3.8/dist-packages (from yfinance) (4.11.2)\n",
            "Requirement already satisfied: pandas>=1.3.0 in /usr/local/lib/python3.8/dist-packages (from yfinance) (1.3.5)\n",
            "Requirement already satisfied: multitasking>=0.0.7 in /usr/local/lib/python3.8/dist-packages (from yfinance) (0.0.11)\n",
            "Requirement already satisfied: numpy>=1.16.5 in /usr/local/lib/python3.8/dist-packages (from yfinance) (1.21.6)\n",
            "Requirement already satisfied: soupsieve>1.2 in /usr/local/lib/python3.8/dist-packages (from beautifulsoup4>=4.11.1->yfinance) (2.3.2.post1)\n",
            "Requirement already satisfied: cffi>=1.12 in /usr/local/lib/python3.8/dist-packages (from cryptography>=3.3.2->yfinance) (1.15.1)\n",
            "Requirement already satisfied: six>=1.9 in /usr/local/lib/python3.8/dist-packages (from html5lib>=1.1->yfinance) (1.15.0)\n",
            "Requirement already satisfied: webencodings in /usr/local/lib/python3.8/dist-packages (from html5lib>=1.1->yfinance) (0.5.1)\n",
            "Requirement already satisfied: python-dateutil>=2.7.3 in /usr/local/lib/python3.8/dist-packages (from pandas>=1.3.0->yfinance) (2.8.2)\n",
            "Requirement already satisfied: certifi>=2017.4.17 in /usr/local/lib/python3.8/dist-packages (from requests>=2.26->yfinance) (2022.12.7)\n",
            "Requirement already satisfied: idna<4,>=2.5 in /usr/local/lib/python3.8/dist-packages (from requests>=2.26->yfinance) (2.10)\n",
            "Requirement already satisfied: charset-normalizer<4,>=2 in /usr/local/lib/python3.8/dist-packages (from requests>=2.26->yfinance) (2.1.1)\n",
            "Requirement already satisfied: urllib3<1.27,>=1.21.1 in /usr/local/lib/python3.8/dist-packages (from requests>=2.26->yfinance) (1.24.3)\n",
            "Requirement already satisfied: pycparser in /usr/local/lib/python3.8/dist-packages (from cffi>=1.12->cryptography>=3.3.2->yfinance) (2.21)\n"
          ]
        }
      ],
      "source": [
        "#instalar esses pácotes\n",
        "#Mercado financeiro B3\n",
        "!pip install yfinance --upgrade --no-cache-dir"
      ]
    },
    {
      "cell_type": "code",
      "execution_count": 21,
      "metadata": {
        "id": "XcaQpM-h-VOl"
      },
      "outputs": [],
      "source": [
        "# Libs necessarias\n",
        "\n",
        "# Pacotes analise de dados\n",
        "import pandas as pd\n",
        "import pandas_datareader.data as web\n",
        "import numpy as np\n",
        "\n",
        "# Pacotes analise gráfica\n",
        "import matplotlib.pyplot as plt\n",
        "import seaborn as sns\n",
        "import plotly.graph_objects as go\n",
        "import plotly.express as px\n",
        "from plotly.subplots import make_subplots\n",
        "\n",
        "# Função para data\n",
        "from datetime import datetime\n",
        "\n",
        "# YFinance\n",
        "import yfinance as yf\n",
        "yf.pdr_override()\n",
        "\n",
        "# import warnings\n",
        "import warnings\n",
        "warnings.filterwarnings('ignore')\n"
      ]
    },
    {
      "cell_type": "markdown",
      "metadata": {
        "id": "PcOxKnivAVVm"
      },
      "source": [
        "**API Yahoo Finance**\n",
        "\n",
        "O yfinance oferece uma maneira segmentada e Pythonic de baixar dados de mercado do Yahoo!Ⓡ finanças .\n"
      ]
    },
    {
      "cell_type": "code",
      "execution_count": 22,
      "metadata": {
        "colab": {
          "base_uri": "https://localhost:8080/"
        },
        "id": "gN0gMCFRAebi",
        "outputId": "a5338a75-5f2c-4965-ac1e-170507b51185"
      },
      "outputs": [
        {
          "output_type": "stream",
          "name": "stdout",
          "text": [
            "\r[*********************100%***********************]  1 of 1 completed\n"
          ]
        },
        {
          "output_type": "execute_result",
          "data": {
            "text/plain": [
              "(252, 6)"
            ]
          },
          "metadata": {},
          "execution_count": 22
        }
      ],
      "source": [
        "# Coletando os dados\n",
        "Dados = web.get_data_yahoo( 'WEGE3.SA', period='1y' )\n",
        "\n",
        "# Shape\n",
        "Dados.shape"
      ]
    },
    {
      "cell_type": "code",
      "execution_count": 23,
      "metadata": {
        "colab": {
          "base_uri": "https://localhost:8080/",
          "height": 237
        },
        "id": "3KOOkmhCCTto",
        "outputId": "790f807e-ecf9-4cf6-fd80-d7191fa89131"
      },
      "outputs": [
        {
          "output_type": "execute_result",
          "data": {
            "text/plain": [
              "                 Open       High        Low      Close  Adj Close    Volume\n",
              "Date                                                                       \n",
              "2022-02-08  30.770000  30.940001  30.049999  30.219999  29.690409   6430500\n",
              "2022-02-09  30.540001  30.969999  30.270000  30.290001  29.759182   5009700\n",
              "2022-02-10  30.290001  30.549999  29.620001  29.740000  29.218821   8569200\n",
              "2022-02-11  29.799999  30.010000  29.459999  29.530001  29.012503   9352700\n",
              "2022-02-14  29.500000  30.940001  29.500000  30.440001  29.906553  10962400"
            ],
            "text/html": [
              "\n",
              "  <div id=\"df-5d4fd61b-1cd2-473f-aca5-8afdafb87dcd\">\n",
              "    <div class=\"colab-df-container\">\n",
              "      <div>\n",
              "<style scoped>\n",
              "    .dataframe tbody tr th:only-of-type {\n",
              "        vertical-align: middle;\n",
              "    }\n",
              "\n",
              "    .dataframe tbody tr th {\n",
              "        vertical-align: top;\n",
              "    }\n",
              "\n",
              "    .dataframe thead th {\n",
              "        text-align: right;\n",
              "    }\n",
              "</style>\n",
              "<table border=\"1\" class=\"dataframe\">\n",
              "  <thead>\n",
              "    <tr style=\"text-align: right;\">\n",
              "      <th></th>\n",
              "      <th>Open</th>\n",
              "      <th>High</th>\n",
              "      <th>Low</th>\n",
              "      <th>Close</th>\n",
              "      <th>Adj Close</th>\n",
              "      <th>Volume</th>\n",
              "    </tr>\n",
              "    <tr>\n",
              "      <th>Date</th>\n",
              "      <th></th>\n",
              "      <th></th>\n",
              "      <th></th>\n",
              "      <th></th>\n",
              "      <th></th>\n",
              "      <th></th>\n",
              "    </tr>\n",
              "  </thead>\n",
              "  <tbody>\n",
              "    <tr>\n",
              "      <th>2022-02-08</th>\n",
              "      <td>30.770000</td>\n",
              "      <td>30.940001</td>\n",
              "      <td>30.049999</td>\n",
              "      <td>30.219999</td>\n",
              "      <td>29.690409</td>\n",
              "      <td>6430500</td>\n",
              "    </tr>\n",
              "    <tr>\n",
              "      <th>2022-02-09</th>\n",
              "      <td>30.540001</td>\n",
              "      <td>30.969999</td>\n",
              "      <td>30.270000</td>\n",
              "      <td>30.290001</td>\n",
              "      <td>29.759182</td>\n",
              "      <td>5009700</td>\n",
              "    </tr>\n",
              "    <tr>\n",
              "      <th>2022-02-10</th>\n",
              "      <td>30.290001</td>\n",
              "      <td>30.549999</td>\n",
              "      <td>29.620001</td>\n",
              "      <td>29.740000</td>\n",
              "      <td>29.218821</td>\n",
              "      <td>8569200</td>\n",
              "    </tr>\n",
              "    <tr>\n",
              "      <th>2022-02-11</th>\n",
              "      <td>29.799999</td>\n",
              "      <td>30.010000</td>\n",
              "      <td>29.459999</td>\n",
              "      <td>29.530001</td>\n",
              "      <td>29.012503</td>\n",
              "      <td>9352700</td>\n",
              "    </tr>\n",
              "    <tr>\n",
              "      <th>2022-02-14</th>\n",
              "      <td>29.500000</td>\n",
              "      <td>30.940001</td>\n",
              "      <td>29.500000</td>\n",
              "      <td>30.440001</td>\n",
              "      <td>29.906553</td>\n",
              "      <td>10962400</td>\n",
              "    </tr>\n",
              "  </tbody>\n",
              "</table>\n",
              "</div>\n",
              "      <button class=\"colab-df-convert\" onclick=\"convertToInteractive('df-5d4fd61b-1cd2-473f-aca5-8afdafb87dcd')\"\n",
              "              title=\"Convert this dataframe to an interactive table.\"\n",
              "              style=\"display:none;\">\n",
              "        \n",
              "  <svg xmlns=\"http://www.w3.org/2000/svg\" height=\"24px\"viewBox=\"0 0 24 24\"\n",
              "       width=\"24px\">\n",
              "    <path d=\"M0 0h24v24H0V0z\" fill=\"none\"/>\n",
              "    <path d=\"M18.56 5.44l.94 2.06.94-2.06 2.06-.94-2.06-.94-.94-2.06-.94 2.06-2.06.94zm-11 1L8.5 8.5l.94-2.06 2.06-.94-2.06-.94L8.5 2.5l-.94 2.06-2.06.94zm10 10l.94 2.06.94-2.06 2.06-.94-2.06-.94-.94-2.06-.94 2.06-2.06.94z\"/><path d=\"M17.41 7.96l-1.37-1.37c-.4-.4-.92-.59-1.43-.59-.52 0-1.04.2-1.43.59L10.3 9.45l-7.72 7.72c-.78.78-.78 2.05 0 2.83L4 21.41c.39.39.9.59 1.41.59.51 0 1.02-.2 1.41-.59l7.78-7.78 2.81-2.81c.8-.78.8-2.07 0-2.86zM5.41 20L4 18.59l7.72-7.72 1.47 1.35L5.41 20z\"/>\n",
              "  </svg>\n",
              "      </button>\n",
              "      \n",
              "  <style>\n",
              "    .colab-df-container {\n",
              "      display:flex;\n",
              "      flex-wrap:wrap;\n",
              "      gap: 12px;\n",
              "    }\n",
              "\n",
              "    .colab-df-convert {\n",
              "      background-color: #E8F0FE;\n",
              "      border: none;\n",
              "      border-radius: 50%;\n",
              "      cursor: pointer;\n",
              "      display: none;\n",
              "      fill: #1967D2;\n",
              "      height: 32px;\n",
              "      padding: 0 0 0 0;\n",
              "      width: 32px;\n",
              "    }\n",
              "\n",
              "    .colab-df-convert:hover {\n",
              "      background-color: #E2EBFA;\n",
              "      box-shadow: 0px 1px 2px rgba(60, 64, 67, 0.3), 0px 1px 3px 1px rgba(60, 64, 67, 0.15);\n",
              "      fill: #174EA6;\n",
              "    }\n",
              "\n",
              "    [theme=dark] .colab-df-convert {\n",
              "      background-color: #3B4455;\n",
              "      fill: #D2E3FC;\n",
              "    }\n",
              "\n",
              "    [theme=dark] .colab-df-convert:hover {\n",
              "      background-color: #434B5C;\n",
              "      box-shadow: 0px 1px 3px 1px rgba(0, 0, 0, 0.15);\n",
              "      filter: drop-shadow(0px 1px 2px rgba(0, 0, 0, 0.3));\n",
              "      fill: #FFFFFF;\n",
              "    }\n",
              "  </style>\n",
              "\n",
              "      <script>\n",
              "        const buttonEl =\n",
              "          document.querySelector('#df-5d4fd61b-1cd2-473f-aca5-8afdafb87dcd button.colab-df-convert');\n",
              "        buttonEl.style.display =\n",
              "          google.colab.kernel.accessAllowed ? 'block' : 'none';\n",
              "\n",
              "        async function convertToInteractive(key) {\n",
              "          const element = document.querySelector('#df-5d4fd61b-1cd2-473f-aca5-8afdafb87dcd');\n",
              "          const dataTable =\n",
              "            await google.colab.kernel.invokeFunction('convertToInteractive',\n",
              "                                                     [key], {});\n",
              "          if (!dataTable) return;\n",
              "\n",
              "          const docLinkHtml = 'Like what you see? Visit the ' +\n",
              "            '<a target=\"_blank\" href=https://colab.research.google.com/notebooks/data_table.ipynb>data table notebook</a>'\n",
              "            + ' to learn more about interactive tables.';\n",
              "          element.innerHTML = '';\n",
              "          dataTable['output_type'] = 'display_data';\n",
              "          await google.colab.output.renderOutput(dataTable, element);\n",
              "          const docLink = document.createElement('div');\n",
              "          docLink.innerHTML = docLinkHtml;\n",
              "          element.appendChild(docLink);\n",
              "        }\n",
              "      </script>\n",
              "    </div>\n",
              "  </div>\n",
              "  "
            ]
          },
          "metadata": {},
          "execution_count": 23
        }
      ],
      "source": [
        "# Verificando \n",
        "Dados.head()"
      ]
    },
    {
      "cell_type": "code",
      "execution_count": 24,
      "metadata": {
        "colab": {
          "base_uri": "https://localhost:8080/",
          "height": 237
        },
        "id": "wazd9IFRCcik",
        "outputId": "4cf9a812-7038-4690-b94b-9ec437bbda2d"
      },
      "outputs": [
        {
          "output_type": "execute_result",
          "data": {
            "text/plain": [
              "                 Open       High        Low      Close  Adj Close   Volume\n",
              "Date                                                                      \n",
              "2023-02-02  38.130001  38.980000  37.709999  38.040001  38.040001  7112600\n",
              "2023-02-03  37.840000  38.599998  37.709999  37.910000  37.910000  8093400\n",
              "2023-02-06  37.840000  38.029999  37.220001  37.570000  37.570000  6881500\n",
              "2023-02-07  37.500000  37.889999  37.230000  37.669998  37.669998  8673800\n",
              "2023-02-08  37.650002  37.930000  37.650002  37.840000  37.840000   315500"
            ],
            "text/html": [
              "\n",
              "  <div id=\"df-fd6c7d98-41c2-41f2-bcdc-72c1a1b22d10\">\n",
              "    <div class=\"colab-df-container\">\n",
              "      <div>\n",
              "<style scoped>\n",
              "    .dataframe tbody tr th:only-of-type {\n",
              "        vertical-align: middle;\n",
              "    }\n",
              "\n",
              "    .dataframe tbody tr th {\n",
              "        vertical-align: top;\n",
              "    }\n",
              "\n",
              "    .dataframe thead th {\n",
              "        text-align: right;\n",
              "    }\n",
              "</style>\n",
              "<table border=\"1\" class=\"dataframe\">\n",
              "  <thead>\n",
              "    <tr style=\"text-align: right;\">\n",
              "      <th></th>\n",
              "      <th>Open</th>\n",
              "      <th>High</th>\n",
              "      <th>Low</th>\n",
              "      <th>Close</th>\n",
              "      <th>Adj Close</th>\n",
              "      <th>Volume</th>\n",
              "    </tr>\n",
              "    <tr>\n",
              "      <th>Date</th>\n",
              "      <th></th>\n",
              "      <th></th>\n",
              "      <th></th>\n",
              "      <th></th>\n",
              "      <th></th>\n",
              "      <th></th>\n",
              "    </tr>\n",
              "  </thead>\n",
              "  <tbody>\n",
              "    <tr>\n",
              "      <th>2023-02-02</th>\n",
              "      <td>38.130001</td>\n",
              "      <td>38.980000</td>\n",
              "      <td>37.709999</td>\n",
              "      <td>38.040001</td>\n",
              "      <td>38.040001</td>\n",
              "      <td>7112600</td>\n",
              "    </tr>\n",
              "    <tr>\n",
              "      <th>2023-02-03</th>\n",
              "      <td>37.840000</td>\n",
              "      <td>38.599998</td>\n",
              "      <td>37.709999</td>\n",
              "      <td>37.910000</td>\n",
              "      <td>37.910000</td>\n",
              "      <td>8093400</td>\n",
              "    </tr>\n",
              "    <tr>\n",
              "      <th>2023-02-06</th>\n",
              "      <td>37.840000</td>\n",
              "      <td>38.029999</td>\n",
              "      <td>37.220001</td>\n",
              "      <td>37.570000</td>\n",
              "      <td>37.570000</td>\n",
              "      <td>6881500</td>\n",
              "    </tr>\n",
              "    <tr>\n",
              "      <th>2023-02-07</th>\n",
              "      <td>37.500000</td>\n",
              "      <td>37.889999</td>\n",
              "      <td>37.230000</td>\n",
              "      <td>37.669998</td>\n",
              "      <td>37.669998</td>\n",
              "      <td>8673800</td>\n",
              "    </tr>\n",
              "    <tr>\n",
              "      <th>2023-02-08</th>\n",
              "      <td>37.650002</td>\n",
              "      <td>37.930000</td>\n",
              "      <td>37.650002</td>\n",
              "      <td>37.840000</td>\n",
              "      <td>37.840000</td>\n",
              "      <td>315500</td>\n",
              "    </tr>\n",
              "  </tbody>\n",
              "</table>\n",
              "</div>\n",
              "      <button class=\"colab-df-convert\" onclick=\"convertToInteractive('df-fd6c7d98-41c2-41f2-bcdc-72c1a1b22d10')\"\n",
              "              title=\"Convert this dataframe to an interactive table.\"\n",
              "              style=\"display:none;\">\n",
              "        \n",
              "  <svg xmlns=\"http://www.w3.org/2000/svg\" height=\"24px\"viewBox=\"0 0 24 24\"\n",
              "       width=\"24px\">\n",
              "    <path d=\"M0 0h24v24H0V0z\" fill=\"none\"/>\n",
              "    <path d=\"M18.56 5.44l.94 2.06.94-2.06 2.06-.94-2.06-.94-.94-2.06-.94 2.06-2.06.94zm-11 1L8.5 8.5l.94-2.06 2.06-.94-2.06-.94L8.5 2.5l-.94 2.06-2.06.94zm10 10l.94 2.06.94-2.06 2.06-.94-2.06-.94-.94-2.06-.94 2.06-2.06.94z\"/><path d=\"M17.41 7.96l-1.37-1.37c-.4-.4-.92-.59-1.43-.59-.52 0-1.04.2-1.43.59L10.3 9.45l-7.72 7.72c-.78.78-.78 2.05 0 2.83L4 21.41c.39.39.9.59 1.41.59.51 0 1.02-.2 1.41-.59l7.78-7.78 2.81-2.81c.8-.78.8-2.07 0-2.86zM5.41 20L4 18.59l7.72-7.72 1.47 1.35L5.41 20z\"/>\n",
              "  </svg>\n",
              "      </button>\n",
              "      \n",
              "  <style>\n",
              "    .colab-df-container {\n",
              "      display:flex;\n",
              "      flex-wrap:wrap;\n",
              "      gap: 12px;\n",
              "    }\n",
              "\n",
              "    .colab-df-convert {\n",
              "      background-color: #E8F0FE;\n",
              "      border: none;\n",
              "      border-radius: 50%;\n",
              "      cursor: pointer;\n",
              "      display: none;\n",
              "      fill: #1967D2;\n",
              "      height: 32px;\n",
              "      padding: 0 0 0 0;\n",
              "      width: 32px;\n",
              "    }\n",
              "\n",
              "    .colab-df-convert:hover {\n",
              "      background-color: #E2EBFA;\n",
              "      box-shadow: 0px 1px 2px rgba(60, 64, 67, 0.3), 0px 1px 3px 1px rgba(60, 64, 67, 0.15);\n",
              "      fill: #174EA6;\n",
              "    }\n",
              "\n",
              "    [theme=dark] .colab-df-convert {\n",
              "      background-color: #3B4455;\n",
              "      fill: #D2E3FC;\n",
              "    }\n",
              "\n",
              "    [theme=dark] .colab-df-convert:hover {\n",
              "      background-color: #434B5C;\n",
              "      box-shadow: 0px 1px 3px 1px rgba(0, 0, 0, 0.15);\n",
              "      filter: drop-shadow(0px 1px 2px rgba(0, 0, 0, 0.3));\n",
              "      fill: #FFFFFF;\n",
              "    }\n",
              "  </style>\n",
              "\n",
              "      <script>\n",
              "        const buttonEl =\n",
              "          document.querySelector('#df-fd6c7d98-41c2-41f2-bcdc-72c1a1b22d10 button.colab-df-convert');\n",
              "        buttonEl.style.display =\n",
              "          google.colab.kernel.accessAllowed ? 'block' : 'none';\n",
              "\n",
              "        async function convertToInteractive(key) {\n",
              "          const element = document.querySelector('#df-fd6c7d98-41c2-41f2-bcdc-72c1a1b22d10');\n",
              "          const dataTable =\n",
              "            await google.colab.kernel.invokeFunction('convertToInteractive',\n",
              "                                                     [key], {});\n",
              "          if (!dataTable) return;\n",
              "\n",
              "          const docLinkHtml = 'Like what you see? Visit the ' +\n",
              "            '<a target=\"_blank\" href=https://colab.research.google.com/notebooks/data_table.ipynb>data table notebook</a>'\n",
              "            + ' to learn more about interactive tables.';\n",
              "          element.innerHTML = '';\n",
              "          dataTable['output_type'] = 'display_data';\n",
              "          await google.colab.output.renderOutput(dataTable, element);\n",
              "          const docLink = document.createElement('div');\n",
              "          docLink.innerHTML = docLinkHtml;\n",
              "          element.appendChild(docLink);\n",
              "        }\n",
              "      </script>\n",
              "    </div>\n",
              "  </div>\n",
              "  "
            ]
          },
          "metadata": {},
          "execution_count": 24
        }
      ],
      "source": [
        "# Ultimos registros\n",
        "Dados.tail()"
      ]
    },
    {
      "cell_type": "code",
      "execution_count": 25,
      "metadata": {
        "colab": {
          "base_uri": "https://localhost:8080/",
          "height": 300
        },
        "id": "ElEJ6avOCjH3",
        "outputId": "f17af578-8917-400b-d1ee-747c8eed7bf7"
      },
      "outputs": [
        {
          "output_type": "execute_result",
          "data": {
            "text/plain": [
              "             Open        High         Low       Close   Adj Close  \\\n",
              "count  252.000000  252.000000  252.000000  252.000000  252.000000   \n",
              "mean    32.077580   32.635476   31.567262   32.095873   31.935054   \n",
              "std      4.744633    4.853895    4.685700    4.786608    4.858506   \n",
              "min     23.420000   23.629999   22.820000   22.830000   22.610670   \n",
              "25%     28.232501   28.639999   27.757500   28.257501   28.112460   \n",
              "50%     31.055000   31.820000   30.660000   31.230000   30.964751   \n",
              "75%     37.289999   37.892500   36.790000   37.335001   37.335001   \n",
              "max     40.900002   42.419998   40.480000   40.900002   40.840641   \n",
              "\n",
              "             Volume  \n",
              "count  2.520000e+02  \n",
              "mean   8.386398e+06  \n",
              "std    3.714873e+06  \n",
              "min    0.000000e+00  \n",
              "25%    6.000975e+06  \n",
              "50%    7.586550e+06  \n",
              "75%    1.014268e+07  \n",
              "max    2.981270e+07  "
            ],
            "text/html": [
              "\n",
              "  <div id=\"df-9aa1eefe-5e8a-4829-aed7-f06e509ad32a\">\n",
              "    <div class=\"colab-df-container\">\n",
              "      <div>\n",
              "<style scoped>\n",
              "    .dataframe tbody tr th:only-of-type {\n",
              "        vertical-align: middle;\n",
              "    }\n",
              "\n",
              "    .dataframe tbody tr th {\n",
              "        vertical-align: top;\n",
              "    }\n",
              "\n",
              "    .dataframe thead th {\n",
              "        text-align: right;\n",
              "    }\n",
              "</style>\n",
              "<table border=\"1\" class=\"dataframe\">\n",
              "  <thead>\n",
              "    <tr style=\"text-align: right;\">\n",
              "      <th></th>\n",
              "      <th>Open</th>\n",
              "      <th>High</th>\n",
              "      <th>Low</th>\n",
              "      <th>Close</th>\n",
              "      <th>Adj Close</th>\n",
              "      <th>Volume</th>\n",
              "    </tr>\n",
              "  </thead>\n",
              "  <tbody>\n",
              "    <tr>\n",
              "      <th>count</th>\n",
              "      <td>252.000000</td>\n",
              "      <td>252.000000</td>\n",
              "      <td>252.000000</td>\n",
              "      <td>252.000000</td>\n",
              "      <td>252.000000</td>\n",
              "      <td>2.520000e+02</td>\n",
              "    </tr>\n",
              "    <tr>\n",
              "      <th>mean</th>\n",
              "      <td>32.077580</td>\n",
              "      <td>32.635476</td>\n",
              "      <td>31.567262</td>\n",
              "      <td>32.095873</td>\n",
              "      <td>31.935054</td>\n",
              "      <td>8.386398e+06</td>\n",
              "    </tr>\n",
              "    <tr>\n",
              "      <th>std</th>\n",
              "      <td>4.744633</td>\n",
              "      <td>4.853895</td>\n",
              "      <td>4.685700</td>\n",
              "      <td>4.786608</td>\n",
              "      <td>4.858506</td>\n",
              "      <td>3.714873e+06</td>\n",
              "    </tr>\n",
              "    <tr>\n",
              "      <th>min</th>\n",
              "      <td>23.420000</td>\n",
              "      <td>23.629999</td>\n",
              "      <td>22.820000</td>\n",
              "      <td>22.830000</td>\n",
              "      <td>22.610670</td>\n",
              "      <td>0.000000e+00</td>\n",
              "    </tr>\n",
              "    <tr>\n",
              "      <th>25%</th>\n",
              "      <td>28.232501</td>\n",
              "      <td>28.639999</td>\n",
              "      <td>27.757500</td>\n",
              "      <td>28.257501</td>\n",
              "      <td>28.112460</td>\n",
              "      <td>6.000975e+06</td>\n",
              "    </tr>\n",
              "    <tr>\n",
              "      <th>50%</th>\n",
              "      <td>31.055000</td>\n",
              "      <td>31.820000</td>\n",
              "      <td>30.660000</td>\n",
              "      <td>31.230000</td>\n",
              "      <td>30.964751</td>\n",
              "      <td>7.586550e+06</td>\n",
              "    </tr>\n",
              "    <tr>\n",
              "      <th>75%</th>\n",
              "      <td>37.289999</td>\n",
              "      <td>37.892500</td>\n",
              "      <td>36.790000</td>\n",
              "      <td>37.335001</td>\n",
              "      <td>37.335001</td>\n",
              "      <td>1.014268e+07</td>\n",
              "    </tr>\n",
              "    <tr>\n",
              "      <th>max</th>\n",
              "      <td>40.900002</td>\n",
              "      <td>42.419998</td>\n",
              "      <td>40.480000</td>\n",
              "      <td>40.900002</td>\n",
              "      <td>40.840641</td>\n",
              "      <td>2.981270e+07</td>\n",
              "    </tr>\n",
              "  </tbody>\n",
              "</table>\n",
              "</div>\n",
              "      <button class=\"colab-df-convert\" onclick=\"convertToInteractive('df-9aa1eefe-5e8a-4829-aed7-f06e509ad32a')\"\n",
              "              title=\"Convert this dataframe to an interactive table.\"\n",
              "              style=\"display:none;\">\n",
              "        \n",
              "  <svg xmlns=\"http://www.w3.org/2000/svg\" height=\"24px\"viewBox=\"0 0 24 24\"\n",
              "       width=\"24px\">\n",
              "    <path d=\"M0 0h24v24H0V0z\" fill=\"none\"/>\n",
              "    <path d=\"M18.56 5.44l.94 2.06.94-2.06 2.06-.94-2.06-.94-.94-2.06-.94 2.06-2.06.94zm-11 1L8.5 8.5l.94-2.06 2.06-.94-2.06-.94L8.5 2.5l-.94 2.06-2.06.94zm10 10l.94 2.06.94-2.06 2.06-.94-2.06-.94-.94-2.06-.94 2.06-2.06.94z\"/><path d=\"M17.41 7.96l-1.37-1.37c-.4-.4-.92-.59-1.43-.59-.52 0-1.04.2-1.43.59L10.3 9.45l-7.72 7.72c-.78.78-.78 2.05 0 2.83L4 21.41c.39.39.9.59 1.41.59.51 0 1.02-.2 1.41-.59l7.78-7.78 2.81-2.81c.8-.78.8-2.07 0-2.86zM5.41 20L4 18.59l7.72-7.72 1.47 1.35L5.41 20z\"/>\n",
              "  </svg>\n",
              "      </button>\n",
              "      \n",
              "  <style>\n",
              "    .colab-df-container {\n",
              "      display:flex;\n",
              "      flex-wrap:wrap;\n",
              "      gap: 12px;\n",
              "    }\n",
              "\n",
              "    .colab-df-convert {\n",
              "      background-color: #E8F0FE;\n",
              "      border: none;\n",
              "      border-radius: 50%;\n",
              "      cursor: pointer;\n",
              "      display: none;\n",
              "      fill: #1967D2;\n",
              "      height: 32px;\n",
              "      padding: 0 0 0 0;\n",
              "      width: 32px;\n",
              "    }\n",
              "\n",
              "    .colab-df-convert:hover {\n",
              "      background-color: #E2EBFA;\n",
              "      box-shadow: 0px 1px 2px rgba(60, 64, 67, 0.3), 0px 1px 3px 1px rgba(60, 64, 67, 0.15);\n",
              "      fill: #174EA6;\n",
              "    }\n",
              "\n",
              "    [theme=dark] .colab-df-convert {\n",
              "      background-color: #3B4455;\n",
              "      fill: #D2E3FC;\n",
              "    }\n",
              "\n",
              "    [theme=dark] .colab-df-convert:hover {\n",
              "      background-color: #434B5C;\n",
              "      box-shadow: 0px 1px 3px 1px rgba(0, 0, 0, 0.15);\n",
              "      filter: drop-shadow(0px 1px 2px rgba(0, 0, 0, 0.3));\n",
              "      fill: #FFFFFF;\n",
              "    }\n",
              "  </style>\n",
              "\n",
              "      <script>\n",
              "        const buttonEl =\n",
              "          document.querySelector('#df-9aa1eefe-5e8a-4829-aed7-f06e509ad32a button.colab-df-convert');\n",
              "        buttonEl.style.display =\n",
              "          google.colab.kernel.accessAllowed ? 'block' : 'none';\n",
              "\n",
              "        async function convertToInteractive(key) {\n",
              "          const element = document.querySelector('#df-9aa1eefe-5e8a-4829-aed7-f06e509ad32a');\n",
              "          const dataTable =\n",
              "            await google.colab.kernel.invokeFunction('convertToInteractive',\n",
              "                                                     [key], {});\n",
              "          if (!dataTable) return;\n",
              "\n",
              "          const docLinkHtml = 'Like what you see? Visit the ' +\n",
              "            '<a target=\"_blank\" href=https://colab.research.google.com/notebooks/data_table.ipynb>data table notebook</a>'\n",
              "            + ' to learn more about interactive tables.';\n",
              "          element.innerHTML = '';\n",
              "          dataTable['output_type'] = 'display_data';\n",
              "          await google.colab.output.renderOutput(dataTable, element);\n",
              "          const docLink = document.createElement('div');\n",
              "          docLink.innerHTML = docLinkHtml;\n",
              "          element.appendChild(docLink);\n",
              "        }\n",
              "      </script>\n",
              "    </div>\n",
              "  </div>\n",
              "  "
            ]
          },
          "metadata": {},
          "execution_count": 25
        }
      ],
      "source": [
        "# Estatistica descritiva\n",
        "Dados.describe()"
      ]
    },
    {
      "cell_type": "code",
      "execution_count": 26,
      "metadata": {
        "colab": {
          "base_uri": "https://localhost:8080/"
        },
        "id": "dIqzMd5GCtRE",
        "outputId": "34ea3268-fc97-4846-cb68-feec3ed80051"
      },
      "outputs": [
        {
          "output_type": "stream",
          "name": "stdout",
          "text": [
            "<class 'pandas.core.frame.DataFrame'>\n",
            "DatetimeIndex: 252 entries, 2022-02-08 to 2023-02-08\n",
            "Data columns (total 6 columns):\n",
            " #   Column     Non-Null Count  Dtype  \n",
            "---  ------     --------------  -----  \n",
            " 0   Open       252 non-null    float64\n",
            " 1   High       252 non-null    float64\n",
            " 2   Low        252 non-null    float64\n",
            " 3   Close      252 non-null    float64\n",
            " 4   Adj Close  252 non-null    float64\n",
            " 5   Volume     252 non-null    int64  \n",
            "dtypes: float64(5), int64(1)\n",
            "memory usage: 13.8 KB\n"
          ]
        }
      ],
      "source": [
        "# Informações\n",
        "Dados.info()"
      ]
    },
    {
      "cell_type": "markdown",
      "metadata": {
        "id": "4zVPsiqWE64Y"
      },
      "source": [
        "## **Média Móvel**"
      ]
    },
    {
      "cell_type": "markdown",
      "metadata": {
        "id": "H_JWPkjwE8eG"
      },
      "source": [
        "A média móvel é um indicador que faz parte da Análise Técnica de ações. Com ela, é possível identificar o equilíbrio dos preços no mercado, observando tendências de alta, neutra ou baixa. A representação gráfica das médias móveis é normalmente feita por uma linha, que se movimenta conforme os dados novos recebidos para o cálculo.\n",
        "\n",
        "O que é a média móvel?\n",
        "\n",
        "A média móvel é um indicador importante que suaviza os dados dos preços das ações para formar um indicador que segue a tendência.\n",
        "\n",
        "E como fazer esse cálculo?\n",
        "Basta utilizar a fórmula: MMA = Soma dos preços de fechamento ÷ Número de dias\n",
        "\n",
        "Considere a média móvel aritmética de 5 dias e sua evolução ao longo de 3 dias, em que os preços diários de fechamento são:\n",
        "11,12,13,14,15,16 e 17.\n",
        "\n",
        "Primeiro dia da MMA de 5 dias: (11 + 12 + 13 + 14 + 15) ÷ 5 = 13\n",
        "Segundo dia da MMA de 5 dias: (12 + 13 + 14 + 15 + 16) ÷ 5 = 14\n",
        "Terceiro dia da MMA de 5 dias: (13 + 14 + 15 + 16 + 17) ÷ 5 = 15\n"
      ]
    },
    {
      "cell_type": "code",
      "execution_count": 27,
      "metadata": {
        "colab": {
          "base_uri": "https://localhost:8080/"
        },
        "id": "Dmb6sgCHFWv_",
        "outputId": "15a765f5-eefa-4d85-c5e3-47262dde2729"
      },
      "outputs": [
        {
          "output_type": "stream",
          "name": "stdout",
          "text": [
            "Media: 14\n",
            "Media: 14.0 \n"
          ]
        }
      ],
      "source": [
        "# Media Simples\n",
        "Lista = [11, 12, 13, 15, 16, 17]\n",
        "  \n",
        "from statistics import mean  as Media\n",
        "print(f'Media: { Media(Lista)}')\n",
        "print(f'Media: {(11+12+13+15+16+17) / len(Lista) } ')"
      ]
    },
    {
      "cell_type": "code",
      "execution_count": 28,
      "metadata": {
        "colab": {
          "base_uri": "https://localhost:8080/"
        },
        "id": "CCyqqXu2GUv-",
        "outputId": "509619c3-3980-4e2b-fe64-e2d1c2f2f303"
      },
      "outputs": [
        {
          "output_type": "execute_result",
          "data": {
            "text/plain": [
              "14"
            ]
          },
          "metadata": {},
          "execution_count": 28
        }
      ],
      "source": [
        "Media(Lista)"
      ]
    },
    {
      "cell_type": "code",
      "execution_count": 29,
      "metadata": {
        "colab": {
          "base_uri": "https://localhost:8080/"
        },
        "id": "119SY1uJGYMQ",
        "outputId": "a4d0e0ab-f487-433f-d360-740a72a3d28f"
      },
      "outputs": [
        {
          "output_type": "stream",
          "name": "stdout",
          "text": [
            "0ª Dia: 13.4\n",
            "1ª Dia: 11.2\n",
            "2ª Dia: 8.8\n"
          ]
        }
      ],
      "source": [
        "# Periodo da média móvel\n",
        "\n",
        "n = 5\n",
        "\n",
        "for Intervalo in range(3):\n",
        "  print(f'{Intervalo}ª Dia: { sum(Lista[Intervalo:n]) / 5 }')"
      ]
    },
    {
      "cell_type": "code",
      "execution_count": 30,
      "metadata": {
        "colab": {
          "base_uri": "https://localhost:8080/",
          "height": 298
        },
        "id": "9815AacyHtqE",
        "outputId": "c4d015e7-0aa5-4243-ca69-b4133347a03a"
      },
      "outputs": [
        {
          "output_type": "execute_result",
          "data": {
            "text/plain": [
              "Text(0.5, 1.0, 'Preço Fechamento')"
            ]
          },
          "metadata": {},
          "execution_count": 30
        },
        {
          "output_type": "display_data",
          "data": {
            "text/plain": [
              "<Figure size 432x288 with 1 Axes>"
            ],
            "image/png": "[encoded data removed]"
          },
          "metadata": {
            "needs_background": "light"
          }
        }
      ],
      "source": [
        "# Plot\n",
        "plt.plot( Dados['Close'])\n",
        "plt.title('Preço Fechamento')"
      ]
    },
    {
      "cell_type": "markdown",
      "metadata": {
        "id": "Pl5q3m0PIMDS"
      },
      "source": [
        "**Função rolling**\n",
        "\n",
        "A função rolling() é uma função do pandas que permite calcular estatísticas em janelas deslizantes de dados. <br>\n",
        "Ela é muito útil para calcular médias móveis, desvios padrão, somatórios, mínimos e máximos, entre outras estatísticas."
      ]
    },
    {
      "cell_type": "code",
      "execution_count": 31,
      "metadata": {
        "colab": {
          "base_uri": "https://localhost:8080/",
          "height": 404
        },
        "id": "LTzHGcTjIQq7",
        "outputId": "e3871ff2-ae57-43ce-a4be-7e70a30bbe6a"
      },
      "outputs": [
        {
          "output_type": "display_data",
          "data": {
            "text/plain": [
              "<Figure size 864x432 with 1 Axes>"
            ],
            "image/png": "[encoded data removed]"
          },
          "metadata": {
            "needs_background": "light"
          }
        }
      ],
      "source": [
        "from pandas.core  import window\n",
        "Periodo = 5\n",
        "Dados['Close'].rolling( window=Periodo ).mean()\n",
        "\n",
        "# Tamanho da imagem\n",
        "plt.figure( figsize=(12, 6) )\n",
        "\n",
        "plt.plot( Dados['Close'])\n",
        "plt.plot( Dados['Close'].rolling( window=Periodo ).mean())\n",
        "plt.plot( Dados['Close'].rolling( window=Periodo + 20 ).mean())\n",
        "plt.title('Preço Fechamento')\n",
        "plt.legend(['Close', 'Média 5 dias', 'Média 25 dias'])\n",
        "plt.ylabel('Valor de Fechamento')\n",
        "plt.xlabel('Periodo');"
      ]
    },
    {
      "cell_type": "markdown",
      "metadata": {
        "id": "egvzVaKkK1IE"
      },
      "source": [
        "## **Plotly**"
      ]
    },
    {
      "cell_type": "markdown",
      "metadata": {
        "id": "b--jvfAoK2TV"
      },
      "source": [
        "O PLOTLY é uma biblioteca Python de plotagem interativa e de código aberto que oferece suporte a mais de 40 tipos de gráficos exclusivos, abrangendo uma ampla variedade de casos de uso estatísticos, financeiros, geográficos, científicos e tridimensionais."
      ]
    },
    {
      "cell_type": "markdown",
      "metadata": {
        "id": "D2Y6mRj6K4ns"
      },
      "source": [
        "plotly.express (px) é uma maneira rápida e fácil de criar visualizações dinâmicas de dados.\n",
        "plotly.graph_objects (go) é a API de nível inferior que concede mais controle sobre suas visualizações, mas é mais intensiva em código.."
      ]
    },
    {
      "cell_type": "code",
      "execution_count": 32,
      "metadata": {
        "colab": {
          "base_uri": "https://localhost:8080/",
          "height": 542
        },
        "id": "IOLPyi7YK8a8",
        "outputId": "57a4ca85-529d-4ae5-ba75-d677a1ac33d7"
      },
      "outputs": [
        {
          "output_type": "display_data",
          "data": {
            "text/html": [
              "<html>\n",
              "<head><meta charset=\"utf-8\" /></head>\n",
              "<body>\n",
              "    <div>            <script src=\"https://cdnjs.cloudflare.com/ajax/libs/mathjax/2.7.5/MathJax.js?config=TeX-AMS-MML_SVG\"></script><script type=\"text/javascript\">if (window.MathJax) {MathJax.Hub.Config({SVG: {font: \"STIX-Web\"}});}</script>                <script type=\"text/javascript\">window.PlotlyConfig = {MathJaxConfig: 'local'};</script>\n",
              "        <script src=\"https://cdn.plot.ly/plotly-2.8.3.min.js\"></script>                <div id=\"5bda77d9-cb7d-4c90-b21e-42a74a6b08b7\" class=\"plotly-graph-div\" style=\"height:525px; width:100%;\"></div>            <script type=\"text/javascript\">                                    window.PLOTLYENV=window.PLOTLYENV || {};                                    if (document.getElementById(\"5bda77d9-cb7d-4c90-b21e-42a74a6b08b7\")) {                    Plotly.newPlot(                        \"5bda77d9-cb7d-4c90-b21e-42a74a6b08b7\",                        [{\"hovertemplate\":\"Date=%{x}<br>Close=%{y}<extra></extra>\",\"legendgroup\":\"\",\"line\":{\"color\":\"#636efa\",\"dash\":\"solid\"},\"marker\":{\"symbol\":\"circle\"},\"mode\":\"lines\",\"name\":\"\",\"orientation\":\"v\",\"showlegend\":false,\"x\":[\"2022-02-08T00:00:00\",\"2022-02-09T00:00:00\",\"2022-02-10T00:00:00\",\"2022-02-11T00:00:00\",\"2022-02-14T00:00:00\",\"2022-02-15T00:00:00\",\"2022-02-16T00:00:00\",\"2022-02-17T00:00:00\",\"2022-02-18T00:00:00\",\"2022-02-21T00:00:00\",\"2022-02-22T00:00:00\",\"2022-02-23T00:00:00\",\"2022-02-24T00:00:00\",\"2022-02-25T00:00:00\",\"2022-03-02T00:00:00\",\"2022-03-03T00:00:00\",\"2022-03-04T00:00:00\",\"2022-03-07T00:00:00\",\"2022-03-08T00:00:00\",\"2022-03-09T00:00:00\",\"2022-03-10T00:00:00\",\"2022-03-11T00:00:00\",\"2022-03-14T00:00:00\",\"2022-03-15T00:00:00\",\"2022-03-16T00:00:00\",\"2022-03-17T00:00:00\",\"2022-03-18T00:00:00\",\"2022-03-21T00:00:00\",\"2022-03-22T00:00:00\",\"2022-03-23T00:00:00\",\"2022-03-24T00:00:00\",\"2022-03-25T00:00:00\",\"2022-03-28T00:00:00\",\"2022-03-29T00:00:00\",\"2022-03-30T00:00:00\",\"2022-03-31T00:00:00\",\"2022-04-01T00:00:00\",\"2022-04-04T00:00:00\",\"2022-04-05T00:00:00\",\"2022-04-06T00:00:00\",\"2022-04-07T00:00:00\",\"2022-04-08T00:00:00\",\"2022-04-11T00:00:00\",\"2022-04-12T00:00:00\",\"2022-04-13T00:00:00\",\"2022-04-14T00:00:00\",\"2022-04-18T00:00:00\",\"2022-04-19T00:00:00\",\"2022-04-20T00:00:00\",\"2022-04-22T00:00:00\",\"2022-04-25T00:00:00\",\"2022-04-26T00:00:00\",\"2022-04-27T00:00:00\",\"2022-04-28T00:00:00\",\"2022-04-29T00:00:00\",\"2022-05-02T00:00:00\",\"2022-05-03T00:00:00\",\"2022-05-04T00:00:00\",\"2022-05-05T00:00:00\",\"2022-05-06T00:00:00\",\"2022-05-09T00:00:00\",\"2022-05-10T00:00:00\",\"2022-05-11T00:00:00\",\"2022-05-12T00:00:00\",\"2022-05-13T00:00:00\",\"2022-05-16T00:00:00\",\"2022-05-17T00:00:00\",\"2022-05-18T00:00:00\",\"2022-05-19T00:00:00\",\"2022-05-20T00:00:00\",\"2022-05-23T00:00:00\",\"2022-05-24T00:00:00\",\"2022-05-25T00:00:00\",\"2022-05-26T00:00:00\",\"2022-05-27T00:00:00\",\"2022-05-30T00:00:00\",\"2022-05-31T00:00:00\",\"2022-06-01T00:00:00\",\"2022-06-02T00:00:00\",\"2022-06-03T00:00:00\",\"2022-06-06T00:00:00\",\"2022-06-07T00:00:00\",\"2022-06-08T00:00:00\",\"2022-06-09T00:00:00\",\"2022-06-10T00:00:00\",\"2022-06-13T00:00:00\",\"2022-06-14T00:00:00\",\"2022-06-15T00:00:00\",\"2022-06-17T00:00:00\",\"2022-06-20T00:00:00\",\"2022-06-21T00:00:00\",\"2022-06-22T00:00:00\",\"2022-06-23T00:00:00\",\"2022-06-24T00:00:00\",\"2022-06-27T00:00:00\",\"2022-06-28T00:00:00\",\"2022-06-29T00:00:00\",\"2022-06-30T00:00:00\",\"2022-07-01T00:00:00\",\"2022-07-04T00:00:00\",\"2022-07-05T00:00:00\",\"2022-07-06T00:00:00\",\"2022-07-07T00:00:00\",\"2022-07-08T00:00:00\",\"2022-07-11T00:00:00\",\"2022-07-12T00:00:00\",\"2022-07-13T00:00:00\",\"2022-07-14T00:00:00\",\"2022-07-15T00:00:00\",\"2022-07-18T00:00:00\",\"2022-07-19T00:00:00\",\"2022-07-20T00:00:00\",\"2022-07-21T00:00:00\",\"2022-07-22T00:00:00\",\"2022-07-25T00:00:00\",\"2022-07-26T00:00:00\",\"2022-07-27T00:00:00\",\"2022-07-28T00:00:00\",\"2022-07-29T00:00:00\",\"2022-08-01T00:00:00\",\"2022-08-02T00:00:00\",\"2022-08-03T00:00:00\",\"2022-08-04T00:00:00\",\"2022-08-05T00:00:00\",\"2022-08-08T00:00:00\",\"2022-08-09T00:00:00\",\"2022-08-10T00:00:00\",\"2022-08-11T00:00:00\",\"2022-08-12T00:00:00\",\"2022-08-15T00:00:00\",\"2022-08-16T00:00:00\",\"2022-08-17T00:00:00\",\"2022-08-18T00:00:00\",\"2022-08-19T00:00:00\",\"2022-08-22T00:00:00\",\"2022-08-23T00:00:00\",\"2022-08-24T00:00:00\",\"2022-08-25T00:00:00\",\"2022-08-26T00:00:00\",\"2022-08-29T00:00:00\",\"2022-08-30T00:00:00\",\"2022-08-31T00:00:00\",\"2022-09-01T00:00:00\",\"2022-09-02T00:00:00\",\"2022-09-05T00:00:00\",\"2022-09-06T00:00:00\",\"2022-09-08T00:00:00\",\"2022-09-09T00:00:00\",\"2022-09-12T00:00:00\",\"2022-09-13T00:00:00\",\"2022-09-14T00:00:00\",\"2022-09-15T00:00:00\",\"2022-09-16T00:00:00\",\"2022-09-19T00:00:00\",\"2022-09-20T00:00:00\",\"2022-09-21T00:00:00\",\"2022-09-22T00:00:00\",\"2022-09-23T00:00:00\",\"2022-09-26T00:00:00\",\"2022-09-27T00:00:00\",\"2022-09-28T00:00:00\",\"2022-09-29T00:00:00\",\"2022-09-30T00:00:00\",\"2022-10-03T00:00:00\",\"2022-10-04T00:00:00\",\"2022-10-05T00:00:00\",\"2022-10-06T00:00:00\",\"2022-10-07T00:00:00\",\"2022-10-10T00:00:00\",\"2022-10-11T00:00:00\",\"2022-10-13T00:00:00\",\"2022-10-14T00:00:00\",\"2022-10-17T00:00:00\",\"2022-10-18T00:00:00\",\"2022-10-19T00:00:00\",\"2022-10-20T00:00:00\",\"2022-10-21T00:00:00\",\"2022-10-24T00:00:00\",\"2022-10-25T00:00:00\",\"2022-10-26T00:00:00\",\"2022-10-27T00:00:00\",\"2022-10-28T00:00:00\",\"2022-10-31T00:00:00\",\"2022-11-01T00:00:00\",\"2022-11-03T00:00:00\",\"2022-11-04T00:00:00\",\"2022-11-07T00:00:00\",\"2022-11-08T00:00:00\",\"2022-11-09T00:00:00\",\"2022-11-10T00:00:00\",\"2022-11-11T00:00:00\",\"2022-11-14T00:00:00\",\"2022-11-16T00:00:00\",\"2022-11-17T00:00:00\",\"2022-11-18T00:00:00\",\"2022-11-21T00:00:00\",\"2022-11-22T00:00:00\",\"2022-11-23T00:00:00\",\"2022-11-24T00:00:00\",\"2022-11-25T00:00:00\",\"2022-11-28T00:00:00\",\"2022-11-29T00:00:00\",\"2022-11-30T00:00:00\",\"2022-12-01T00:00:00\",\"2022-12-02T00:00:00\",\"2022-12-05T00:00:00\",\"2022-12-06T00:00:00\",\"2022-12-07T00:00:00\",\"2022-12-08T00:00:00\",\"2022-12-09T00:00:00\",\"2022-12-12T00:00:00\",\"2022-12-13T00:00:00\",\"2022-12-14T00:00:00\",\"2022-12-15T00:00:00\",\"2022-12-16T00:00:00\",\"2022-12-19T00:00:00\",\"2022-12-20T00:00:00\",\"2022-12-21T00:00:00\",\"2022-12-22T00:00:00\",\"2022-12-23T00:00:00\",\"2022-12-26T00:00:00\",\"2022-12-27T00:00:00\",\"2022-12-28T00:00:00\",\"2022-12-29T00:00:00\",\"2023-01-02T00:00:00\",\"2023-01-03T00:00:00\",\"2023-01-04T00:00:00\",\"2023-01-05T00:00:00\",\"2023-01-06T00:00:00\",\"2023-01-09T00:00:00\",\"2023-01-10T00:00:00\",\"2023-01-11T00:00:00\",\"2023-01-12T00:00:00\",\"2023-01-13T00:00:00\",\"2023-01-16T00:00:00\",\"2023-01-17T00:00:00\",\"2023-01-18T00:00:00\",\"2023-01-19T00:00:00\",\"2023-01-20T00:00:00\",\"2023-01-23T00:00:00\",\"2023-01-24T00:00:00\",\"2023-01-25T00:00:00\",\"2023-01-26T00:00:00\",\"2023-01-27T00:00:00\",\"2023-01-30T00:00:00\",\"2023-01-31T00:00:00\",\"2023-02-01T00:00:00\",\"2023-02-02T00:00:00\",\"2023-02-03T00:00:00\",\"2023-02-06T00:00:00\",\"2023-02-07T00:00:00\",\"2023-02-08T00:00:00\"],\"xaxis\":\"x\",\"y\":[30.219999313354492,30.290000915527344,29.739999771118164,29.530000686645508,30.440000534057617,32.880001068115234,31.299999237060547,30.649999618530273,29.809999465942383,29.520000457763672,29.530000686645508,28.600000381469727,29.31999969482422,29.399999618530273,30.25,31.25,31.510000228881836,31.079999923706055,31.56999969482422,32.66999816894531,31.719999313354492,31.389999389648438,31.020000457763672,30.200000762939453,31.979999542236328,33.099998474121094,33.290000915527344,32.54999923706055,33.0,32.75,33.130001068115234,32.880001068115234,33.599998474121094,33.95000076293945,34.150001525878906,34.869998931884766,35.380001068115234,35.02000045776367,34.630001068115234,34.33000183105469,34.119998931884766,34.13999938964844,32.54999923706055,32.369998931884766,32.560001373291016,32.290000915527344,31.90999984741211,31.3700008392334,31.420000076293945,31.309999465942383,31.209999084472656,29.979999542236328,31.6299991607666,31.1299991607666,30.100000381469727,28.940000534057617,28.40999984741211,28.940000534057617,28.15999984741211,27.149999618530273,26.65999984741211,26.1200008392334,26.100000381469727,26.40999984741211,26.5,26.200000762939453,26.90999984741211,26.43000030517578,25.530000686645508,25.989999771118164,26.56999969482422,26.079999923706055,25.309999465942383,25.709999084472656,26.219999313354492,25.540000915527344,25.3700008392334,26.209999084472656,26.329999923706055,25.920000076293945,25.979999542236328,25.950000762939453,24.40999984741211,24.520000457763672,24.0,23.81999969482422,24.25,24.0,22.829999923706055,24.100000381469727,25.299999237060547,25.790000915527344,25.90999984741211,26.459999084472656,25.93000030517578,26.149999618530273,26.030000686645508,26.450000762939453,26.5,26.489999771118164,27.020000457763672,27.100000381469727,27.610000610351562,27.270000457763672,26.579999923706055,26.59000015258789,26.729999542236328,26.399999618530273,26.549999237060547,26.1200008392334,26.959999084472656,25.989999771118164,25.329999923706055,25.84000015258789,26.479999542236328,26.200000762939453,26.8700008392334,27.93000030517578,28.040000915527344,27.8799991607666,28.3799991607666,28.1200008392334,28.809999465942383,28.829999923706055,29.729999542236328,29.579999923706055,30.68000030517578,30.1299991607666,30.899999618530273,30.34000015258789,30.59000015258789,30.43000030517578,30.84000015258789,29.850000381469727,28.950000762939453,28.799999237060547,28.790000915527344,28.950000762939453,28.809999465942383,28.3700008392334,28.389999389648438,28.290000915527344,28.3799991607666,30.209999084472656,30.899999618530273,30.290000915527344,30.209999084472656,30.450000762939453,31.799999237060547,30.610000610351562,30.6200008392334,30.010000228881836,30.479999542236328,30.600000381469727,31.1299991607666,31.18000030517578,31.010000228881836,30.56999969482422,30.56999969482422,30.049999237060547,30.31999969482422,30.139999389648438,32.13999938964844,33.58000183105469,33.2400016784668,33.66999816894531,33.72999954223633,33.349998474121094,34.27000045776367,33.900001525878906,33.470001220703125,32.86000061035156,33.61000061035156,34.560001373291016,34.650001525878906,34.65999984741211,35.20000076293945,34.91999816894531,35.04999923706055,37.97999954223633,38.83000183105469,38.470001220703125,40.279998779296875,39.40999984741211,40.20000076293945,40.79999923706055,40.900001525878906,40.79999923706055,40.599998474121094,39.22999954223633,39.9900016784668,40.65999984741211,38.709999084472656,39.54999923706055,39.279998779296875,39.4900016784668,38.900001525878906,38.939998626708984,39.7599983215332,39.099998474121094,37.5,37.709999084472656,39.0,38.310001373291016,38.65999984741211,37.599998474121094,37.709999084472656,37.2599983215332,37.20000076293945,37.099998474121094,36.06999969482422,35.790000915527344,37.060001373291016,37.08000183105469,37.45000076293945,38.119998931884766,38.43000030517578,38.400001525878906,38.939998626708984,38.5,38.189998626708984,38.0099983215332,38.70000076293945,38.5099983215332,38.099998474121094,37.150001525878906,37.400001525878906,37.47999954223633,38.029998779296875,37.91999816894531,37.54999923706055,38.599998474121094,38.5099983215332,38.970001220703125,37.689998626708984,38.310001373291016,37.9900016784668,37.90999984741211,37.33000183105469,37.369998931884766,37.209999084472656,38.720001220703125,38.209999084472656,37.90999984741211,37.349998474121094,38.2400016784668,38.38999938964844,38.040000915527344,37.90999984741211,37.56999969482422,37.66999816894531,37.84000015258789],\"yaxis\":\"y\",\"type\":\"scatter\"}],                        {\"template\":{\"data\":{\"bar\":[{\"error_x\":{\"color\":\"#2a3f5f\"},\"error_y\":{\"color\":\"#2a3f5f\"},\"marker\":{\"line\":{\"color\":\"#E5ECF6\",\"width\":0.5},\"pattern\":{\"fillmode\":\"overlay\",\"size\":10,\"solidity\":0.2}},\"type\":\"bar\"}],\"barpolar\":[{\"marker\":{\"line\":{\"color\":\"#E5ECF6\",\"width\":0.5},\"pattern\":{\"fillmode\":\"overlay\",\"size\":10,\"solidity\":0.2}},\"type\":\"barpolar\"}],\"carpet\":[{\"aaxis\":{\"endlinecolor\":\"#2a3f5f\",\"gridcolor\":\"white\",\"linecolor\":\"white\",\"minorgridcolor\":\"white\",\"startlinecolor\":\"#2a3f5f\"},\"baxis\":{\"endlinecolor\":\"#2a3f5f\",\"gridcolor\":\"white\",\"linecolor\":\"white\",\"minorgridcolor\":\"white\",\"startlinecolor\":\"#2a3f5f\"},\"type\":\"carpet\"}],\"choropleth\":[{\"colorbar\":{\"outlinewidth\":0,\"ticks\":\"\"},\"type\":\"choropleth\"}],\"contour\":[{\"colorbar\":{\"outlinewidth\":0,\"ticks\":\"\"},\"colorscale\":[[0.0,\"#0d0887\"],[0.1111111111111111,\"#46039f\"],[0.2222222222222222,\"#7201a8\"],[0.3333333333333333,\"#9c179e\"],[0.4444444444444444,\"#bd3786\"],[0.5555555555555556,\"#d8576b\"],[0.6666666666666666,\"#ed7953\"],[0.7777777777777778,\"#fb9f3a\"],[0.8888888888888888,\"#fdca26\"],[1.0,\"#f0f921\"]],\"type\":\"contour\"}],\"contourcarpet\":[{\"colorbar\":{\"outlinewidth\":0,\"ticks\":\"\"},\"type\":\"contourcarpet\"}],\"heatmap\":[{\"colorbar\":{\"outlinewidth\":0,\"ticks\":\"\"},\"colorscale\":[[0.0,\"#0d0887\"],[0.1111111111111111,\"#46039f\"],[0.2222222222222222,\"#7201a8\"],[0.3333333333333333,\"#9c179e\"],[0.4444444444444444,\"#bd3786\"],[0.5555555555555556,\"#d8576b\"],[0.6666666666666666,\"#ed7953\"],[0.7777777777777778,\"#fb9f3a\"],[0.8888888888888888,\"#fdca26\"],[1.0,\"#f0f921\"]],\"type\":\"heatmap\"}],\"heatmapgl\":[{\"colorbar\":{\"outlinewidth\":0,\"ticks\":\"\"},\"colorscale\":[[0.0,\"#0d0887\"],[0.1111111111111111,\"#46039f\"],[0.2222222222222222,\"#7201a8\"],[0.3333333333333333,\"#9c179e\"],[0.4444444444444444,\"#bd3786\"],[0.5555555555555556,\"#d8576b\"],[0.6666666666666666,\"#ed7953\"],[0.7777777777777778,\"#fb9f3a\"],[0.8888888888888888,\"#fdca26\"],[1.0,\"#f0f921\"]],\"type\":\"heatmapgl\"}],\"histogram\":[{\"marker\":{\"pattern\":{\"fillmode\":\"overlay\",\"size\":10,\"solidity\":0.2}},\"type\":\"histogram\"}],\"histogram2d\":[{\"colorbar\":{\"outlinewidth\":0,\"ticks\":\"\"},\"colorscale\":[[0.0,\"#0d0887\"],[0.1111111111111111,\"#46039f\"],[0.2222222222222222,\"#7201a8\"],[0.3333333333333333,\"#9c179e\"],[0.4444444444444444,\"#bd3786\"],[0.5555555555555556,\"#d8576b\"],[0.6666666666666666,\"#ed7953\"],[0.7777777777777778,\"#fb9f3a\"],[0.8888888888888888,\"#fdca26\"],[1.0,\"#f0f921\"]],\"type\":\"histogram2d\"}],\"histogram2dcontour\":[{\"colorbar\":{\"outlinewidth\":0,\"ticks\":\"\"},\"colorscale\":[[0.0,\"#0d0887\"],[0.1111111111111111,\"#46039f\"],[0.2222222222222222,\"#7201a8\"],[0.3333333333333333,\"#9c179e\"],[0.4444444444444444,\"#bd3786\"],[0.5555555555555556,\"#d8576b\"],[0.6666666666666666,\"#ed7953\"],[0.7777777777777778,\"#fb9f3a\"],[0.8888888888888888,\"#fdca26\"],[1.0,\"#f0f921\"]],\"type\":\"histogram2dcontour\"}],\"mesh3d\":[{\"colorbar\":{\"outlinewidth\":0,\"ticks\":\"\"},\"type\":\"mesh3d\"}],\"parcoords\":[{\"line\":{\"colorbar\":{\"outlinewidth\":0,\"ticks\":\"\"}},\"type\":\"parcoords\"}],\"pie\":[{\"automargin\":true,\"type\":\"pie\"}],\"scatter\":[{\"marker\":{\"colorbar\":{\"outlinewidth\":0,\"ticks\":\"\"}},\"type\":\"scatter\"}],\"scatter3d\":[{\"line\":{\"colorbar\":{\"outlinewidth\":0,\"ticks\":\"\"}},\"marker\":{\"colorbar\":{\"outlinewidth\":0,\"ticks\":\"\"}},\"type\":\"scatter3d\"}],\"scattercarpet\":[{\"marker\":{\"colorbar\":{\"outlinewidth\":0,\"ticks\":\"\"}},\"type\":\"scattercarpet\"}],\"scattergeo\":[{\"marker\":{\"colorbar\":{\"outlinewidth\":0,\"ticks\":\"\"}},\"type\":\"scattergeo\"}],\"scattergl\":[{\"marker\":{\"colorbar\":{\"outlinewidth\":0,\"ticks\":\"\"}},\"type\":\"scattergl\"}],\"scattermapbox\":[{\"marker\":{\"colorbar\":{\"outlinewidth\":0,\"ticks\":\"\"}},\"type\":\"scattermapbox\"}],\"scatterpolar\":[{\"marker\":{\"colorbar\":{\"outlinewidth\":0,\"ticks\":\"\"}},\"type\":\"scatterpolar\"}],\"scatterpolargl\":[{\"marker\":{\"colorbar\":{\"outlinewidth\":0,\"ticks\":\"\"}},\"type\":\"scatterpolargl\"}],\"scatterternary\":[{\"marker\":{\"colorbar\":{\"outlinewidth\":0,\"ticks\":\"\"}},\"type\":\"scatterternary\"}],\"surface\":[{\"colorbar\":{\"outlinewidth\":0,\"ticks\":\"\"},\"colorscale\":[[0.0,\"#0d0887\"],[0.1111111111111111,\"#46039f\"],[0.2222222222222222,\"#7201a8\"],[0.3333333333333333,\"#9c179e\"],[0.4444444444444444,\"#bd3786\"],[0.5555555555555556,\"#d8576b\"],[0.6666666666666666,\"#ed7953\"],[0.7777777777777778,\"#fb9f3a\"],[0.8888888888888888,\"#fdca26\"],[1.0,\"#f0f921\"]],\"type\":\"surface\"}],\"table\":[{\"cells\":{\"fill\":{\"color\":\"#EBF0F8\"},\"line\":{\"color\":\"white\"}},\"header\":{\"fill\":{\"color\":\"#C8D4E3\"},\"line\":{\"color\":\"white\"}},\"type\":\"table\"}]},\"layout\":{\"annotationdefaults\":{\"arrowcolor\":\"#2a3f5f\",\"arrowhead\":0,\"arrowwidth\":1},\"autotypenumbers\":\"strict\",\"coloraxis\":{\"colorbar\":{\"outlinewidth\":0,\"ticks\":\"\"}},\"colorscale\":{\"diverging\":[[0,\"#8e0152\"],[0.1,\"#c51b7d\"],[0.2,\"#de77ae\"],[0.3,\"#f1b6da\"],[0.4,\"#fde0ef\"],[0.5,\"#f7f7f7\"],[0.6,\"#e6f5d0\"],[0.7,\"#b8e186\"],[0.8,\"#7fbc41\"],[0.9,\"#4d9221\"],[1,\"#276419\"]],\"sequential\":[[0.0,\"#0d0887\"],[0.1111111111111111,\"#46039f\"],[0.2222222222222222,\"#7201a8\"],[0.3333333333333333,\"#9c179e\"],[0.4444444444444444,\"#bd3786\"],[0.5555555555555556,\"#d8576b\"],[0.6666666666666666,\"#ed7953\"],[0.7777777777777778,\"#fb9f3a\"],[0.8888888888888888,\"#fdca26\"],[1.0,\"#f0f921\"]],\"sequentialminus\":[[0.0,\"#0d0887\"],[0.1111111111111111,\"#46039f\"],[0.2222222222222222,\"#7201a8\"],[0.3333333333333333,\"#9c179e\"],[0.4444444444444444,\"#bd3786\"],[0.5555555555555556,\"#d8576b\"],[0.6666666666666666,\"#ed7953\"],[0.7777777777777778,\"#fb9f3a\"],[0.8888888888888888,\"#fdca26\"],[1.0,\"#f0f921\"]]},\"colorway\":[\"#636efa\",\"#EF553B\",\"#00cc96\",\"#ab63fa\",\"#FFA15A\",\"#19d3f3\",\"#FF6692\",\"#B6E880\",\"#FF97FF\",\"#FECB52\"],\"font\":{\"color\":\"#2a3f5f\"},\"geo\":{\"bgcolor\":\"white\",\"lakecolor\":\"white\",\"landcolor\":\"#E5ECF6\",\"showlakes\":true,\"showland\":true,\"subunitcolor\":\"white\"},\"hoverlabel\":{\"align\":\"left\"},\"hovermode\":\"closest\",\"mapbox\":{\"style\":\"light\"},\"paper_bgcolor\":\"white\",\"plot_bgcolor\":\"#E5ECF6\",\"polar\":{\"angularaxis\":{\"gridcolor\":\"white\",\"linecolor\":\"white\",\"ticks\":\"\"},\"bgcolor\":\"#E5ECF6\",\"radialaxis\":{\"gridcolor\":\"white\",\"linecolor\":\"white\",\"ticks\":\"\"}},\"scene\":{\"xaxis\":{\"backgroundcolor\":\"#E5ECF6\",\"gridcolor\":\"white\",\"gridwidth\":2,\"linecolor\":\"white\",\"showbackground\":true,\"ticks\":\"\",\"zerolinecolor\":\"white\"},\"yaxis\":{\"backgroundcolor\":\"#E5ECF6\",\"gridcolor\":\"white\",\"gridwidth\":2,\"linecolor\":\"white\",\"showbackground\":true,\"ticks\":\"\",\"zerolinecolor\":\"white\"},\"zaxis\":{\"backgroundcolor\":\"#E5ECF6\",\"gridcolor\":\"white\",\"gridwidth\":2,\"linecolor\":\"white\",\"showbackground\":true,\"ticks\":\"\",\"zerolinecolor\":\"white\"}},\"shapedefaults\":{\"line\":{\"color\":\"#2a3f5f\"}},\"ternary\":{\"aaxis\":{\"gridcolor\":\"white\",\"linecolor\":\"white\",\"ticks\":\"\"},\"baxis\":{\"gridcolor\":\"white\",\"linecolor\":\"white\",\"ticks\":\"\"},\"bgcolor\":\"#E5ECF6\",\"caxis\":{\"gridcolor\":\"white\",\"linecolor\":\"white\",\"ticks\":\"\"}},\"title\":{\"x\":0.05},\"xaxis\":{\"automargin\":true,\"gridcolor\":\"white\",\"linecolor\":\"white\",\"ticks\":\"\",\"title\":{\"standoff\":15},\"zerolinecolor\":\"white\",\"zerolinewidth\":2},\"yaxis\":{\"automargin\":true,\"gridcolor\":\"white\",\"linecolor\":\"white\",\"ticks\":\"\",\"title\":{\"standoff\":15},\"zerolinecolor\":\"white\",\"zerolinewidth\":2}}},\"xaxis\":{\"anchor\":\"y\",\"domain\":[0.0,1.0],\"title\":{\"text\":\"Date\"}},\"yaxis\":{\"anchor\":\"x\",\"domain\":[0.0,1.0],\"title\":{\"text\":\"Close\"}},\"legend\":{\"tracegroupgap\":0},\"title\":{\"text\":\"Fechamento\"}},                        {\"responsive\": true}                    ).then(function(){\n",
              "                            \n",
              "var gd = document.getElementById('5bda77d9-cb7d-4c90-b21e-42a74a6b08b7');\n",
              "var x = new MutationObserver(function (mutations, observer) {{\n",
              "        var display = window.getComputedStyle(gd).display;\n",
              "        if (!display || display === 'none') {{\n",
              "            console.log([gd, 'removed!']);\n",
              "            Plotly.purge(gd);\n",
              "            observer.disconnect();\n",
              "        }}\n",
              "}});\n",
              "\n",
              "// Listen for the removal of the full notebook cells\n",
              "var notebookContainer = gd.closest('#notebook-container');\n",
              "if (notebookContainer) {{\n",
              "    x.observe(notebookContainer, {childList: true});\n",
              "}}\n",
              "\n",
              "// Listen for the clearing of the current output cell\n",
              "var outputEl = gd.closest('.output');\n",
              "if (outputEl) {{\n",
              "    x.observe(outputEl, {childList: true});\n",
              "}}\n",
              "\n",
              "                        })                };                            </script>        </div>\n",
              "</body>\n",
              "</html>"
            ]
          },
          "metadata": {}
        }
      ],
      "source": [
        "Periodo = 5\n",
        "Dados['Media_Movel'] = Dados['Close'].rolling( window=Periodo ).mean()\n",
        "\n",
        "Figure = px.line(\n",
        "    Dados,\n",
        "    y='Close',\n",
        "    title='Fechamento'\n",
        ")\n",
        "\n",
        "Figure.show()\n"
      ]
    },
    {
      "cell_type": "code",
      "execution_count": 33,
      "metadata": {
        "colab": {
          "base_uri": "https://localhost:8080/",
          "height": 542
        },
        "id": "WPnGEEeyNF0l",
        "outputId": "6e40ec35-6666-4b3c-8094-73c068834971"
      },
      "outputs": [
        {
          "output_type": "display_data",
          "data": {
            "text/html": [
              "<html>\n",
              "<head><meta charset=\"utf-8\" /></head>\n",
              "<body>\n",
              "    <div>            <script src=\"https://cdnjs.cloudflare.com/ajax/libs/mathjax/2.7.5/MathJax.js?config=TeX-AMS-MML_SVG\"></script><script type=\"text/javascript\">if (window.MathJax) {MathJax.Hub.Config({SVG: {font: \"STIX-Web\"}});}</script>                <script type=\"text/javascript\">window.PlotlyConfig = {MathJaxConfig: 'local'};</script>\n",
              "        <script src=\"https://cdn.plot.ly/plotly-2.8.3.min.js\"></script>                <div id=\"49b216a6-8e85-412e-a4de-b6135fac00ed\" class=\"plotly-graph-div\" style=\"height:525px; width:100%;\"></div>            <script type=\"text/javascript\">                                    window.PLOTLYENV=window.PLOTLYENV || {};                                    if (document.getElementById(\"49b216a6-8e85-412e-a4de-b6135fac00ed\")) {                    Plotly.newPlot(                        \"49b216a6-8e85-412e-a4de-b6135fac00ed\",                        [{\"line\":{\"color\":\"firebrick\",\"width\":3},\"x\":[\"2022-02-08T00:00:00\",\"2022-02-09T00:00:00\",\"2022-02-10T00:00:00\",\"2022-02-11T00:00:00\",\"2022-02-14T00:00:00\",\"2022-02-15T00:00:00\",\"2022-02-16T00:00:00\",\"2022-02-17T00:00:00\",\"2022-02-18T00:00:00\",\"2022-02-21T00:00:00\",\"2022-02-22T00:00:00\",\"2022-02-23T00:00:00\",\"2022-02-24T00:00:00\",\"2022-02-25T00:00:00\",\"2022-03-02T00:00:00\",\"2022-03-03T00:00:00\",\"2022-03-04T00:00:00\",\"2022-03-07T00:00:00\",\"2022-03-08T00:00:00\",\"2022-03-09T00:00:00\",\"2022-03-10T00:00:00\",\"2022-03-11T00:00:00\",\"2022-03-14T00:00:00\",\"2022-03-15T00:00:00\",\"2022-03-16T00:00:00\",\"2022-03-17T00:00:00\",\"2022-03-18T00:00:00\",\"2022-03-21T00:00:00\",\"2022-03-22T00:00:00\",\"2022-03-23T00:00:00\",\"2022-03-24T00:00:00\",\"2022-03-25T00:00:00\",\"2022-03-28T00:00:00\",\"2022-03-29T00:00:00\",\"2022-03-30T00:00:00\",\"2022-03-31T00:00:00\",\"2022-04-01T00:00:00\",\"2022-04-04T00:00:00\",\"2022-04-05T00:00:00\",\"2022-04-06T00:00:00\",\"2022-04-07T00:00:00\",\"2022-04-08T00:00:00\",\"2022-04-11T00:00:00\",\"2022-04-12T00:00:00\",\"2022-04-13T00:00:00\",\"2022-04-14T00:00:00\",\"2022-04-18T00:00:00\",\"2022-04-19T00:00:00\",\"2022-04-20T00:00:00\",\"2022-04-22T00:00:00\",\"2022-04-25T00:00:00\",\"2022-04-26T00:00:00\",\"2022-04-27T00:00:00\",\"2022-04-28T00:00:00\",\"2022-04-29T00:00:00\",\"2022-05-02T00:00:00\",\"2022-05-03T00:00:00\",\"2022-05-04T00:00:00\",\"2022-05-05T00:00:00\",\"2022-05-06T00:00:00\",\"2022-05-09T00:00:00\",\"2022-05-10T00:00:00\",\"2022-05-11T00:00:00\",\"2022-05-12T00:00:00\",\"2022-05-13T00:00:00\",\"2022-05-16T00:00:00\",\"2022-05-17T00:00:00\",\"2022-05-18T00:00:00\",\"2022-05-19T00:00:00\",\"2022-05-20T00:00:00\",\"2022-05-23T00:00:00\",\"2022-05-24T00:00:00\",\"2022-05-25T00:00:00\",\"2022-05-26T00:00:00\",\"2022-05-27T00:00:00\",\"2022-05-30T00:00:00\",\"2022-05-31T00:00:00\",\"2022-06-01T00:00:00\",\"2022-06-02T00:00:00\",\"2022-06-03T00:00:00\",\"2022-06-06T00:00:00\",\"2022-06-07T00:00:00\",\"2022-06-08T00:00:00\",\"2022-06-09T00:00:00\",\"2022-06-10T00:00:00\",\"2022-06-13T00:00:00\",\"2022-06-14T00:00:00\",\"2022-06-15T00:00:00\",\"2022-06-17T00:00:00\",\"2022-06-20T00:00:00\",\"2022-06-21T00:00:00\",\"2022-06-22T00:00:00\",\"2022-06-23T00:00:00\",\"2022-06-24T00:00:00\",\"2022-06-27T00:00:00\",\"2022-06-28T00:00:00\",\"2022-06-29T00:00:00\",\"2022-06-30T00:00:00\",\"2022-07-01T00:00:00\",\"2022-07-04T00:00:00\",\"2022-07-05T00:00:00\",\"2022-07-06T00:00:00\",\"2022-07-07T00:00:00\",\"2022-07-08T00:00:00\",\"2022-07-11T00:00:00\",\"2022-07-12T00:00:00\",\"2022-07-13T00:00:00\",\"2022-07-14T00:00:00\",\"2022-07-15T00:00:00\",\"2022-07-18T00:00:00\",\"2022-07-19T00:00:00\",\"2022-07-20T00:00:00\",\"2022-07-21T00:00:00\",\"2022-07-22T00:00:00\",\"2022-07-25T00:00:00\",\"2022-07-26T00:00:00\",\"2022-07-27T00:00:00\",\"2022-07-28T00:00:00\",\"2022-07-29T00:00:00\",\"2022-08-01T00:00:00\",\"2022-08-02T00:00:00\",\"2022-08-03T00:00:00\",\"2022-08-04T00:00:00\",\"2022-08-05T00:00:00\",\"2022-08-08T00:00:00\",\"2022-08-09T00:00:00\",\"2022-08-10T00:00:00\",\"2022-08-11T00:00:00\",\"2022-08-12T00:00:00\",\"2022-08-15T00:00:00\",\"2022-08-16T00:00:00\",\"2022-08-17T00:00:00\",\"2022-08-18T00:00:00\",\"2022-08-19T00:00:00\",\"2022-08-22T00:00:00\",\"2022-08-23T00:00:00\",\"2022-08-24T00:00:00\",\"2022-08-25T00:00:00\",\"2022-08-26T00:00:00\",\"2022-08-29T00:00:00\",\"2022-08-30T00:00:00\",\"2022-08-31T00:00:00\",\"2022-09-01T00:00:00\",\"2022-09-02T00:00:00\",\"2022-09-05T00:00:00\",\"2022-09-06T00:00:00\",\"2022-09-08T00:00:00\",\"2022-09-09T00:00:00\",\"2022-09-12T00:00:00\",\"2022-09-13T00:00:00\",\"2022-09-14T00:00:00\",\"2022-09-15T00:00:00\",\"2022-09-16T00:00:00\",\"2022-09-19T00:00:00\",\"2022-09-20T00:00:00\",\"2022-09-21T00:00:00\",\"2022-09-22T00:00:00\",\"2022-09-23T00:00:00\",\"2022-09-26T00:00:00\",\"2022-09-27T00:00:00\",\"2022-09-28T00:00:00\",\"2022-09-29T00:00:00\",\"2022-09-30T00:00:00\",\"2022-10-03T00:00:00\",\"2022-10-04T00:00:00\",\"2022-10-05T00:00:00\",\"2022-10-06T00:00:00\",\"2022-10-07T00:00:00\",\"2022-10-10T00:00:00\",\"2022-10-11T00:00:00\",\"2022-10-13T00:00:00\",\"2022-10-14T00:00:00\",\"2022-10-17T00:00:00\",\"2022-10-18T00:00:00\",\"2022-10-19T00:00:00\",\"2022-10-20T00:00:00\",\"2022-10-21T00:00:00\",\"2022-10-24T00:00:00\",\"2022-10-25T00:00:00\",\"2022-10-26T00:00:00\",\"2022-10-27T00:00:00\",\"2022-10-28T00:00:00\",\"2022-10-31T00:00:00\",\"2022-11-01T00:00:00\",\"2022-11-03T00:00:00\",\"2022-11-04T00:00:00\",\"2022-11-07T00:00:00\",\"2022-11-08T00:00:00\",\"2022-11-09T00:00:00\",\"2022-11-10T00:00:00\",\"2022-11-11T00:00:00\",\"2022-11-14T00:00:00\",\"2022-11-16T00:00:00\",\"2022-11-17T00:00:00\",\"2022-11-18T00:00:00\",\"2022-11-21T00:00:00\",\"2022-11-22T00:00:00\",\"2022-11-23T00:00:00\",\"2022-11-24T00:00:00\",\"2022-11-25T00:00:00\",\"2022-11-28T00:00:00\",\"2022-11-29T00:00:00\",\"2022-11-30T00:00:00\",\"2022-12-01T00:00:00\",\"2022-12-02T00:00:00\",\"2022-12-05T00:00:00\",\"2022-12-06T00:00:00\",\"2022-12-07T00:00:00\",\"2022-12-08T00:00:00\",\"2022-12-09T00:00:00\",\"2022-12-12T00:00:00\",\"2022-12-13T00:00:00\",\"2022-12-14T00:00:00\",\"2022-12-15T00:00:00\",\"2022-12-16T00:00:00\",\"2022-12-19T00:00:00\",\"2022-12-20T00:00:00\",\"2022-12-21T00:00:00\",\"2022-12-22T00:00:00\",\"2022-12-23T00:00:00\",\"2022-12-26T00:00:00\",\"2022-12-27T00:00:00\",\"2022-12-28T00:00:00\",\"2022-12-29T00:00:00\",\"2023-01-02T00:00:00\",\"2023-01-03T00:00:00\",\"2023-01-04T00:00:00\",\"2023-01-05T00:00:00\",\"2023-01-06T00:00:00\",\"2023-01-09T00:00:00\",\"2023-01-10T00:00:00\",\"2023-01-11T00:00:00\",\"2023-01-12T00:00:00\",\"2023-01-13T00:00:00\",\"2023-01-16T00:00:00\",\"2023-01-17T00:00:00\",\"2023-01-18T00:00:00\",\"2023-01-19T00:00:00\",\"2023-01-20T00:00:00\",\"2023-01-23T00:00:00\",\"2023-01-24T00:00:00\",\"2023-01-25T00:00:00\",\"2023-01-26T00:00:00\",\"2023-01-27T00:00:00\",\"2023-01-30T00:00:00\",\"2023-01-31T00:00:00\",\"2023-02-01T00:00:00\",\"2023-02-02T00:00:00\",\"2023-02-03T00:00:00\",\"2023-02-06T00:00:00\",\"2023-02-07T00:00:00\",\"2023-02-08T00:00:00\"],\"y\":[30.219999313354492,30.290000915527344,29.739999771118164,29.530000686645508,30.440000534057617,32.880001068115234,31.299999237060547,30.649999618530273,29.809999465942383,29.520000457763672,29.530000686645508,28.600000381469727,29.31999969482422,29.399999618530273,30.25,31.25,31.510000228881836,31.079999923706055,31.56999969482422,32.66999816894531,31.719999313354492,31.389999389648438,31.020000457763672,30.200000762939453,31.979999542236328,33.099998474121094,33.290000915527344,32.54999923706055,33.0,32.75,33.130001068115234,32.880001068115234,33.599998474121094,33.95000076293945,34.150001525878906,34.869998931884766,35.380001068115234,35.02000045776367,34.630001068115234,34.33000183105469,34.119998931884766,34.13999938964844,32.54999923706055,32.369998931884766,32.560001373291016,32.290000915527344,31.90999984741211,31.3700008392334,31.420000076293945,31.309999465942383,31.209999084472656,29.979999542236328,31.6299991607666,31.1299991607666,30.100000381469727,28.940000534057617,28.40999984741211,28.940000534057617,28.15999984741211,27.149999618530273,26.65999984741211,26.1200008392334,26.100000381469727,26.40999984741211,26.5,26.200000762939453,26.90999984741211,26.43000030517578,25.530000686645508,25.989999771118164,26.56999969482422,26.079999923706055,25.309999465942383,25.709999084472656,26.219999313354492,25.540000915527344,25.3700008392334,26.209999084472656,26.329999923706055,25.920000076293945,25.979999542236328,25.950000762939453,24.40999984741211,24.520000457763672,24.0,23.81999969482422,24.25,24.0,22.829999923706055,24.100000381469727,25.299999237060547,25.790000915527344,25.90999984741211,26.459999084472656,25.93000030517578,26.149999618530273,26.030000686645508,26.450000762939453,26.5,26.489999771118164,27.020000457763672,27.100000381469727,27.610000610351562,27.270000457763672,26.579999923706055,26.59000015258789,26.729999542236328,26.399999618530273,26.549999237060547,26.1200008392334,26.959999084472656,25.989999771118164,25.329999923706055,25.84000015258789,26.479999542236328,26.200000762939453,26.8700008392334,27.93000030517578,28.040000915527344,27.8799991607666,28.3799991607666,28.1200008392334,28.809999465942383,28.829999923706055,29.729999542236328,29.579999923706055,30.68000030517578,30.1299991607666,30.899999618530273,30.34000015258789,30.59000015258789,30.43000030517578,30.84000015258789,29.850000381469727,28.950000762939453,28.799999237060547,28.790000915527344,28.950000762939453,28.809999465942383,28.3700008392334,28.389999389648438,28.290000915527344,28.3799991607666,30.209999084472656,30.899999618530273,30.290000915527344,30.209999084472656,30.450000762939453,31.799999237060547,30.610000610351562,30.6200008392334,30.010000228881836,30.479999542236328,30.600000381469727,31.1299991607666,31.18000030517578,31.010000228881836,30.56999969482422,30.56999969482422,30.049999237060547,30.31999969482422,30.139999389648438,32.13999938964844,33.58000183105469,33.2400016784668,33.66999816894531,33.72999954223633,33.349998474121094,34.27000045776367,33.900001525878906,33.470001220703125,32.86000061035156,33.61000061035156,34.560001373291016,34.650001525878906,34.65999984741211,35.20000076293945,34.91999816894531,35.04999923706055,37.97999954223633,38.83000183105469,38.470001220703125,40.279998779296875,39.40999984741211,40.20000076293945,40.79999923706055,40.900001525878906,40.79999923706055,40.599998474121094,39.22999954223633,39.9900016784668,40.65999984741211,38.709999084472656,39.54999923706055,39.279998779296875,39.4900016784668,38.900001525878906,38.939998626708984,39.7599983215332,39.099998474121094,37.5,37.709999084472656,39.0,38.310001373291016,38.65999984741211,37.599998474121094,37.709999084472656,37.2599983215332,37.20000076293945,37.099998474121094,36.06999969482422,35.790000915527344,37.060001373291016,37.08000183105469,37.45000076293945,38.119998931884766,38.43000030517578,38.400001525878906,38.939998626708984,38.5,38.189998626708984,38.0099983215332,38.70000076293945,38.5099983215332,38.099998474121094,37.150001525878906,37.400001525878906,37.47999954223633,38.029998779296875,37.91999816894531,37.54999923706055,38.599998474121094,38.5099983215332,38.970001220703125,37.689998626708984,38.310001373291016,37.9900016784668,37.90999984741211,37.33000183105469,37.369998931884766,37.209999084472656,38.720001220703125,38.209999084472656,37.90999984741211,37.349998474121094,38.2400016784668,38.38999938964844,38.040000915527344,37.90999984741211,37.56999969482422,37.66999816894531,37.84000015258789],\"type\":\"scatter\"}],                        {\"template\":{\"data\":{\"bar\":[{\"error_x\":{\"color\":\"#2a3f5f\"},\"error_y\":{\"color\":\"#2a3f5f\"},\"marker\":{\"line\":{\"color\":\"#E5ECF6\",\"width\":0.5},\"pattern\":{\"fillmode\":\"overlay\",\"size\":10,\"solidity\":0.2}},\"type\":\"bar\"}],\"barpolar\":[{\"marker\":{\"line\":{\"color\":\"#E5ECF6\",\"width\":0.5},\"pattern\":{\"fillmode\":\"overlay\",\"size\":10,\"solidity\":0.2}},\"type\":\"barpolar\"}],\"carpet\":[{\"aaxis\":{\"endlinecolor\":\"#2a3f5f\",\"gridcolor\":\"white\",\"linecolor\":\"white\",\"minorgridcolor\":\"white\",\"startlinecolor\":\"#2a3f5f\"},\"baxis\":{\"endlinecolor\":\"#2a3f5f\",\"gridcolor\":\"white\",\"linecolor\":\"white\",\"minorgridcolor\":\"white\",\"startlinecolor\":\"#2a3f5f\"},\"type\":\"carpet\"}],\"choropleth\":[{\"colorbar\":{\"outlinewidth\":0,\"ticks\":\"\"},\"type\":\"choropleth\"}],\"contour\":[{\"colorbar\":{\"outlinewidth\":0,\"ticks\":\"\"},\"colorscale\":[[0.0,\"#0d0887\"],[0.1111111111111111,\"#46039f\"],[0.2222222222222222,\"#7201a8\"],[0.3333333333333333,\"#9c179e\"],[0.4444444444444444,\"#bd3786\"],[0.5555555555555556,\"#d8576b\"],[0.6666666666666666,\"#ed7953\"],[0.7777777777777778,\"#fb9f3a\"],[0.8888888888888888,\"#fdca26\"],[1.0,\"#f0f921\"]],\"type\":\"contour\"}],\"contourcarpet\":[{\"colorbar\":{\"outlinewidth\":0,\"ticks\":\"\"},\"type\":\"contourcarpet\"}],\"heatmap\":[{\"colorbar\":{\"outlinewidth\":0,\"ticks\":\"\"},\"colorscale\":[[0.0,\"#0d0887\"],[0.1111111111111111,\"#46039f\"],[0.2222222222222222,\"#7201a8\"],[0.3333333333333333,\"#9c179e\"],[0.4444444444444444,\"#bd3786\"],[0.5555555555555556,\"#d8576b\"],[0.6666666666666666,\"#ed7953\"],[0.7777777777777778,\"#fb9f3a\"],[0.8888888888888888,\"#fdca26\"],[1.0,\"#f0f921\"]],\"type\":\"heatmap\"}],\"heatmapgl\":[{\"colorbar\":{\"outlinewidth\":0,\"ticks\":\"\"},\"colorscale\":[[0.0,\"#0d0887\"],[0.1111111111111111,\"#46039f\"],[0.2222222222222222,\"#7201a8\"],[0.3333333333333333,\"#9c179e\"],[0.4444444444444444,\"#bd3786\"],[0.5555555555555556,\"#d8576b\"],[0.6666666666666666,\"#ed7953\"],[0.7777777777777778,\"#fb9f3a\"],[0.8888888888888888,\"#fdca26\"],[1.0,\"#f0f921\"]],\"type\":\"heatmapgl\"}],\"histogram\":[{\"marker\":{\"pattern\":{\"fillmode\":\"overlay\",\"size\":10,\"solidity\":0.2}},\"type\":\"histogram\"}],\"histogram2d\":[{\"colorbar\":{\"outlinewidth\":0,\"ticks\":\"\"},\"colorscale\":[[0.0,\"#0d0887\"],[0.1111111111111111,\"#46039f\"],[0.2222222222222222,\"#7201a8\"],[0.3333333333333333,\"#9c179e\"],[0.4444444444444444,\"#bd3786\"],[0.5555555555555556,\"#d8576b\"],[0.6666666666666666,\"#ed7953\"],[0.7777777777777778,\"#fb9f3a\"],[0.8888888888888888,\"#fdca26\"],[1.0,\"#f0f921\"]],\"type\":\"histogram2d\"}],\"histogram2dcontour\":[{\"colorbar\":{\"outlinewidth\":0,\"ticks\":\"\"},\"colorscale\":[[0.0,\"#0d0887\"],[0.1111111111111111,\"#46039f\"],[0.2222222222222222,\"#7201a8\"],[0.3333333333333333,\"#9c179e\"],[0.4444444444444444,\"#bd3786\"],[0.5555555555555556,\"#d8576b\"],[0.6666666666666666,\"#ed7953\"],[0.7777777777777778,\"#fb9f3a\"],[0.8888888888888888,\"#fdca26\"],[1.0,\"#f0f921\"]],\"type\":\"histogram2dcontour\"}],\"mesh3d\":[{\"colorbar\":{\"outlinewidth\":0,\"ticks\":\"\"},\"type\":\"mesh3d\"}],\"parcoords\":[{\"line\":{\"colorbar\":{\"outlinewidth\":0,\"ticks\":\"\"}},\"type\":\"parcoords\"}],\"pie\":[{\"automargin\":true,\"type\":\"pie\"}],\"scatter\":[{\"marker\":{\"colorbar\":{\"outlinewidth\":0,\"ticks\":\"\"}},\"type\":\"scatter\"}],\"scatter3d\":[{\"line\":{\"colorbar\":{\"outlinewidth\":0,\"ticks\":\"\"}},\"marker\":{\"colorbar\":{\"outlinewidth\":0,\"ticks\":\"\"}},\"type\":\"scatter3d\"}],\"scattercarpet\":[{\"marker\":{\"colorbar\":{\"outlinewidth\":0,\"ticks\":\"\"}},\"type\":\"scattercarpet\"}],\"scattergeo\":[{\"marker\":{\"colorbar\":{\"outlinewidth\":0,\"ticks\":\"\"}},\"type\":\"scattergeo\"}],\"scattergl\":[{\"marker\":{\"colorbar\":{\"outlinewidth\":0,\"ticks\":\"\"}},\"type\":\"scattergl\"}],\"scattermapbox\":[{\"marker\":{\"colorbar\":{\"outlinewidth\":0,\"ticks\":\"\"}},\"type\":\"scattermapbox\"}],\"scatterpolar\":[{\"marker\":{\"colorbar\":{\"outlinewidth\":0,\"ticks\":\"\"}},\"type\":\"scatterpolar\"}],\"scatterpolargl\":[{\"marker\":{\"colorbar\":{\"outlinewidth\":0,\"ticks\":\"\"}},\"type\":\"scatterpolargl\"}],\"scatterternary\":[{\"marker\":{\"colorbar\":{\"outlinewidth\":0,\"ticks\":\"\"}},\"type\":\"scatterternary\"}],\"surface\":[{\"colorbar\":{\"outlinewidth\":0,\"ticks\":\"\"},\"colorscale\":[[0.0,\"#0d0887\"],[0.1111111111111111,\"#46039f\"],[0.2222222222222222,\"#7201a8\"],[0.3333333333333333,\"#9c179e\"],[0.4444444444444444,\"#bd3786\"],[0.5555555555555556,\"#d8576b\"],[0.6666666666666666,\"#ed7953\"],[0.7777777777777778,\"#fb9f3a\"],[0.8888888888888888,\"#fdca26\"],[1.0,\"#f0f921\"]],\"type\":\"surface\"}],\"table\":[{\"cells\":{\"fill\":{\"color\":\"#EBF0F8\"},\"line\":{\"color\":\"white\"}},\"header\":{\"fill\":{\"color\":\"#C8D4E3\"},\"line\":{\"color\":\"white\"}},\"type\":\"table\"}]},\"layout\":{\"annotationdefaults\":{\"arrowcolor\":\"#2a3f5f\",\"arrowhead\":0,\"arrowwidth\":1},\"autotypenumbers\":\"strict\",\"coloraxis\":{\"colorbar\":{\"outlinewidth\":0,\"ticks\":\"\"}},\"colorscale\":{\"diverging\":[[0,\"#8e0152\"],[0.1,\"#c51b7d\"],[0.2,\"#de77ae\"],[0.3,\"#f1b6da\"],[0.4,\"#fde0ef\"],[0.5,\"#f7f7f7\"],[0.6,\"#e6f5d0\"],[0.7,\"#b8e186\"],[0.8,\"#7fbc41\"],[0.9,\"#4d9221\"],[1,\"#276419\"]],\"sequential\":[[0.0,\"#0d0887\"],[0.1111111111111111,\"#46039f\"],[0.2222222222222222,\"#7201a8\"],[0.3333333333333333,\"#9c179e\"],[0.4444444444444444,\"#bd3786\"],[0.5555555555555556,\"#d8576b\"],[0.6666666666666666,\"#ed7953\"],[0.7777777777777778,\"#fb9f3a\"],[0.8888888888888888,\"#fdca26\"],[1.0,\"#f0f921\"]],\"sequentialminus\":[[0.0,\"#0d0887\"],[0.1111111111111111,\"#46039f\"],[0.2222222222222222,\"#7201a8\"],[0.3333333333333333,\"#9c179e\"],[0.4444444444444444,\"#bd3786\"],[0.5555555555555556,\"#d8576b\"],[0.6666666666666666,\"#ed7953\"],[0.7777777777777778,\"#fb9f3a\"],[0.8888888888888888,\"#fdca26\"],[1.0,\"#f0f921\"]]},\"colorway\":[\"#636efa\",\"#EF553B\",\"#00cc96\",\"#ab63fa\",\"#FFA15A\",\"#19d3f3\",\"#FF6692\",\"#B6E880\",\"#FF97FF\",\"#FECB52\"],\"font\":{\"color\":\"#2a3f5f\"},\"geo\":{\"bgcolor\":\"white\",\"lakecolor\":\"white\",\"landcolor\":\"#E5ECF6\",\"showlakes\":true,\"showland\":true,\"subunitcolor\":\"white\"},\"hoverlabel\":{\"align\":\"left\"},\"hovermode\":\"closest\",\"mapbox\":{\"style\":\"light\"},\"paper_bgcolor\":\"white\",\"plot_bgcolor\":\"#E5ECF6\",\"polar\":{\"angularaxis\":{\"gridcolor\":\"white\",\"linecolor\":\"white\",\"ticks\":\"\"},\"bgcolor\":\"#E5ECF6\",\"radialaxis\":{\"gridcolor\":\"white\",\"linecolor\":\"white\",\"ticks\":\"\"}},\"scene\":{\"xaxis\":{\"backgroundcolor\":\"#E5ECF6\",\"gridcolor\":\"white\",\"gridwidth\":2,\"linecolor\":\"white\",\"showbackground\":true,\"ticks\":\"\",\"zerolinecolor\":\"white\"},\"yaxis\":{\"backgroundcolor\":\"#E5ECF6\",\"gridcolor\":\"white\",\"gridwidth\":2,\"linecolor\":\"white\",\"showbackground\":true,\"ticks\":\"\",\"zerolinecolor\":\"white\"},\"zaxis\":{\"backgroundcolor\":\"#E5ECF6\",\"gridcolor\":\"white\",\"gridwidth\":2,\"linecolor\":\"white\",\"showbackground\":true,\"ticks\":\"\",\"zerolinecolor\":\"white\"}},\"shapedefaults\":{\"line\":{\"color\":\"#2a3f5f\"}},\"ternary\":{\"aaxis\":{\"gridcolor\":\"white\",\"linecolor\":\"white\",\"ticks\":\"\"},\"baxis\":{\"gridcolor\":\"white\",\"linecolor\":\"white\",\"ticks\":\"\"},\"bgcolor\":\"#E5ECF6\",\"caxis\":{\"gridcolor\":\"white\",\"linecolor\":\"white\",\"ticks\":\"\"}},\"title\":{\"x\":0.05},\"xaxis\":{\"automargin\":true,\"gridcolor\":\"white\",\"linecolor\":\"white\",\"ticks\":\"\",\"title\":{\"standoff\":15},\"zerolinecolor\":\"white\",\"zerolinewidth\":2},\"yaxis\":{\"automargin\":true,\"gridcolor\":\"white\",\"linecolor\":\"white\",\"ticks\":\"\",\"title\":{\"standoff\":15},\"zerolinecolor\":\"white\",\"zerolinewidth\":2}}},\"title\":{\"text\":\"An\\u00e1lise de Fechamento\"},\"xaxis\":{\"title\":{\"text\":\"Periodo\"}},\"yaxis\":{\"title\":{\"text\":\"Pre\\u00e7o de fechamento\"}}},                        {\"responsive\": true}                    ).then(function(){\n",
              "                            \n",
              "var gd = document.getElementById('49b216a6-8e85-412e-a4de-b6135fac00ed');\n",
              "var x = new MutationObserver(function (mutations, observer) {{\n",
              "        var display = window.getComputedStyle(gd).display;\n",
              "        if (!display || display === 'none') {{\n",
              "            console.log([gd, 'removed!']);\n",
              "            Plotly.purge(gd);\n",
              "            observer.disconnect();\n",
              "        }}\n",
              "}});\n",
              "\n",
              "// Listen for the removal of the full notebook cells\n",
              "var notebookContainer = gd.closest('#notebook-container');\n",
              "if (notebookContainer) {{\n",
              "    x.observe(notebookContainer, {childList: true});\n",
              "}}\n",
              "\n",
              "// Listen for the clearing of the current output cell\n",
              "var outputEl = gd.closest('.output');\n",
              "if (outputEl) {{\n",
              "    x.observe(outputEl, {childList: true});\n",
              "}}\n",
              "\n",
              "                        })                };                            </script>        </div>\n",
              "</body>\n",
              "</html>"
            ]
          },
          "metadata": {}
        }
      ],
      "source": [
        "Figure_02 = go.Figure(\n",
        "    data=go.Scatter(\n",
        "        x=Dados.index,\n",
        "        y=Dados['Close'],\n",
        "        line=( dict(color='firebrick', width=3) )\n",
        "    )\n",
        ")\n",
        "\n",
        "Figure_02.update_layout(\n",
        "    title='Análise de Fechamento',\n",
        "    xaxis_title='Periodo',\n",
        "    yaxis_title='Preço de fechamento'\n",
        ")\n",
        "\n",
        "Figure_02.show()"
      ]
    },
    {
      "cell_type": "markdown",
      "metadata": {
        "id": "3j9YdmaZNLdw"
      },
      "source": [
        "## **Candlestick Charts**\n",
        "<br>\n",
        "É um estilo de gráfico financeiro que descreve abertura, alta, baixa e fechamento para uma determinada xcoordenada (tempo mais provável). As caixas representam a dispersão entre os valores opene closee as linhas representam a dispersão entre os valores lowe high. Pontos de amostragem onde o valor de fechamento é maior (inferior) do que o valor de abertura são chamados de crescentes (decrescentes). Por padrão, as velas crescentes são desenhadas em verde, enquanto as decrescentes são desenhadas em vermelho."
      ]
    },
    {
      "cell_type": "code",
      "execution_count": 34,
      "metadata": {
        "colab": {
          "base_uri": "https://localhost:8080/",
          "height": 542
        },
        "id": "nF-ddKtkNN3q",
        "outputId": "753b7d0f-e567-44b9-ca82-2bbebadb2709"
      },
      "outputs": [
        {
          "output_type": "display_data",
          "data": {
            "text/html": [
              "<html>\n",
              "<head><meta charset=\"utf-8\" /></head>\n",
              "<body>\n",
              "    <div>            <script src=\"https://cdnjs.cloudflare.com/ajax/libs/mathjax/2.7.5/MathJax.js?config=TeX-AMS-MML_SVG\"></script><script type=\"text/javascript\">if (window.MathJax) {MathJax.Hub.Config({SVG: {font: \"STIX-Web\"}});}</script>                <script type=\"text/javascript\">window.PlotlyConfig = {MathJaxConfig: 'local'};</script>\n",
              "        <script src=\"https://cdn.plot.ly/plotly-2.8.3.min.js\"></script>                <div id=\"e2f4bb6a-3946-47d7-9fd0-5741d61b9090\" class=\"plotly-graph-div\" style=\"height:525px; width:100%;\"></div>            <script type=\"text/javascript\">                                    window.PLOTLYENV=window.PLOTLYENV || {};                                    if (document.getElementById(\"e2f4bb6a-3946-47d7-9fd0-5741d61b9090\")) {                    Plotly.newPlot(                        \"e2f4bb6a-3946-47d7-9fd0-5741d61b9090\",                        [{\"close\":[30.219999313354492,30.290000915527344,29.739999771118164,29.530000686645508,30.440000534057617,32.880001068115234,31.299999237060547,30.649999618530273,29.809999465942383,29.520000457763672,29.530000686645508,28.600000381469727,29.31999969482422,29.399999618530273,30.25,31.25,31.510000228881836,31.079999923706055,31.56999969482422,32.66999816894531,31.719999313354492,31.389999389648438,31.020000457763672,30.200000762939453,31.979999542236328,33.099998474121094,33.290000915527344,32.54999923706055,33.0,32.75,33.130001068115234,32.880001068115234,33.599998474121094,33.95000076293945,34.150001525878906,34.869998931884766,35.380001068115234,35.02000045776367,34.630001068115234,34.33000183105469,34.119998931884766,34.13999938964844,32.54999923706055,32.369998931884766,32.560001373291016,32.290000915527344,31.90999984741211,31.3700008392334,31.420000076293945,31.309999465942383,31.209999084472656,29.979999542236328,31.6299991607666,31.1299991607666,30.100000381469727,28.940000534057617,28.40999984741211,28.940000534057617,28.15999984741211,27.149999618530273,26.65999984741211,26.1200008392334,26.100000381469727,26.40999984741211,26.5,26.200000762939453,26.90999984741211,26.43000030517578,25.530000686645508,25.989999771118164,26.56999969482422,26.079999923706055,25.309999465942383,25.709999084472656,26.219999313354492,25.540000915527344,25.3700008392334,26.209999084472656,26.329999923706055,25.920000076293945,25.979999542236328,25.950000762939453,24.40999984741211,24.520000457763672,24.0,23.81999969482422,24.25,24.0,22.829999923706055,24.100000381469727,25.299999237060547,25.790000915527344,25.90999984741211,26.459999084472656,25.93000030517578,26.149999618530273,26.030000686645508,26.450000762939453,26.5,26.489999771118164,27.020000457763672,27.100000381469727,27.610000610351562,27.270000457763672,26.579999923706055,26.59000015258789,26.729999542236328,26.399999618530273,26.549999237060547,26.1200008392334,26.959999084472656,25.989999771118164,25.329999923706055,25.84000015258789,26.479999542236328,26.200000762939453,26.8700008392334,27.93000030517578,28.040000915527344,27.8799991607666,28.3799991607666,28.1200008392334,28.809999465942383,28.829999923706055,29.729999542236328,29.579999923706055,30.68000030517578,30.1299991607666,30.899999618530273,30.34000015258789,30.59000015258789,30.43000030517578,30.84000015258789,29.850000381469727,28.950000762939453,28.799999237060547,28.790000915527344,28.950000762939453,28.809999465942383,28.3700008392334,28.389999389648438,28.290000915527344,28.3799991607666,30.209999084472656,30.899999618530273,30.290000915527344,30.209999084472656,30.450000762939453,31.799999237060547,30.610000610351562,30.6200008392334,30.010000228881836,30.479999542236328,30.600000381469727,31.1299991607666,31.18000030517578,31.010000228881836,30.56999969482422,30.56999969482422,30.049999237060547,30.31999969482422,30.139999389648438,32.13999938964844,33.58000183105469,33.2400016784668,33.66999816894531,33.72999954223633,33.349998474121094,34.27000045776367,33.900001525878906,33.470001220703125,32.86000061035156,33.61000061035156,34.560001373291016,34.650001525878906,34.65999984741211,35.20000076293945,34.91999816894531,35.04999923706055,37.97999954223633,38.83000183105469,38.470001220703125,40.279998779296875,39.40999984741211,40.20000076293945,40.79999923706055,40.900001525878906,40.79999923706055,40.599998474121094,39.22999954223633,39.9900016784668,40.65999984741211,38.709999084472656,39.54999923706055,39.279998779296875,39.4900016784668,38.900001525878906,38.939998626708984,39.7599983215332,39.099998474121094,37.5,37.709999084472656,39.0,38.310001373291016,38.65999984741211,37.599998474121094,37.709999084472656,37.2599983215332,37.20000076293945,37.099998474121094,36.06999969482422,35.790000915527344,37.060001373291016,37.08000183105469,37.45000076293945,38.119998931884766,38.43000030517578,38.400001525878906,38.939998626708984,38.5,38.189998626708984,38.0099983215332,38.70000076293945,38.5099983215332,38.099998474121094,37.150001525878906,37.400001525878906,37.47999954223633,38.029998779296875,37.91999816894531,37.54999923706055,38.599998474121094,38.5099983215332,38.970001220703125,37.689998626708984,38.310001373291016,37.9900016784668,37.90999984741211,37.33000183105469,37.369998931884766,37.209999084472656,38.720001220703125,38.209999084472656,37.90999984741211,37.349998474121094,38.2400016784668,38.38999938964844,38.040000915527344,37.90999984741211,37.56999969482422,37.66999816894531,37.84000015258789],\"decreasing\":{\"line\":{\"color\":\"green\"}},\"high\":[30.940000534057617,30.969999313354492,30.549999237060547,30.010000228881836,30.940000534057617,32.880001068115234,33.16999816894531,31.81999969482422,31.0,29.889999389648438,30.09000015258789,30.170000076293945,29.56999969482422,29.860000610351562,30.790000915527344,31.389999389648438,32.279998779296875,31.969999313354492,32.099998474121094,32.849998474121094,32.38999938964844,32.06999969482422,31.559999465942383,31.959999084472656,32.02000045776367,33.25,33.38999938964844,33.290000915527344,33.470001220703125,33.099998474121094,33.47999954223633,33.58000183105469,33.939998626708984,34.40999984741211,34.38999938964844,35.29999923706055,35.83000183105469,35.400001525878906,35.380001068115234,35.0099983215332,34.529998779296875,34.630001068115234,34.02000045776367,33.22999954223633,32.83000183105469,32.88999938964844,32.369998931884766,31.579999923706055,31.93000030517578,31.510000228881836,31.6200008392334,31.31999969482422,31.81999969482422,31.959999084472656,31.549999237060547,30.280000686645508,29.040000915527344,29.15999984741211,28.8799991607666,28.09000015258789,27.5,27.059999465942383,26.399999618530273,26.520000457763672,27.059999465942383,26.510000228881836,27.100000381469727,27.020000457763672,26.549999237060547,26.100000381469727,26.719999313354492,26.479999542236328,25.959999084472656,25.989999771118164,26.3700008392334,26.540000915527344,25.729999542236328,26.43000030517578,26.6299991607666,26.34000015258789,26.440000534057617,26.06999969482422,25.84000015258789,25.059999465942383,24.639999389648438,23.979999542236328,24.5,24.510000228881836,23.6299991607666,24.469999313354492,25.3799991607666,26.200000762939453,26.350000381469727,26.979999542236328,26.700000762939453,26.520000457763672,26.440000534057617,26.579999923706055,26.889999389648438,26.940000534057617,27.200000762939453,28.049999237060547,27.790000915527344,27.649999618530273,26.950000762939453,26.8700008392334,27.09000015258789,26.829999923706055,26.790000915527344,27.18000030517578,27.149999618530273,27.18000030517578,26.06999969482422,26.239999771118164,26.780000686645508,26.700000762939453,26.8799991607666,28.139999389648438,28.639999389648438,28.68000030517578,28.600000381469727,28.479999542236328,28.8700008392334,29.139999389648438,30.190000534057617,30.139999389648438,30.93000030517578,30.989999771118164,30.959999084472656,31.0,30.940000534057617,30.670000076293945,31.06999969482422,30.979999542236328,29.6200008392334,29.040000915527344,29.280000686645508,29.3799991607666,29.229999542236328,28.719999313354492,28.6200008392334,28.760000228881836,28.639999389648438,30.280000686645508,31.420000076293945,31.190000534057617,30.690000534057617,30.8700008392334,32.22999954223633,31.510000228881836,30.90999984741211,30.559999465942383,30.639999389648438,30.979999542236328,31.440000534057617,31.559999465942383,31.389999389648438,30.68000030517578,30.56999969482422,30.799999237060547,30.639999389648438,30.239999771118164,32.18000030517578,33.630001068115234,34.13999938964844,33.95000076293945,34.18000030517578,33.84000015258789,34.38999938964844,34.63999938964844,34.0,33.84000015258789,33.91999816894531,35.029998779296875,34.77000045776367,34.84000015258789,35.5099983215332,35.15999984741211,35.84000015258789,38.959999084472656,39.40999984741211,39.25,40.599998474121094,40.4900016784668,40.5,41.4900016784668,41.88999938964844,42.41999816894531,41.689998626708984,40.75,40.31999969482422,41.16999816894531,40.68000030517578,39.7599983215332,40.279998779296875,39.84000015258789,40.0,39.2599983215332,40.56999969482422,39.790000915527344,38.81999969482422,38.5,39.2400016784668,39.349998474121094,39.380001068115234,38.290000915527344,38.09000015258789,38.0,37.68000030517578,37.61000061035156,37.040000915527344,37.22999954223633,37.459999084472656,37.68000030517578,37.54999923706055,38.43000030517578,39.13999938964844,38.84000015258789,39.099998474121094,39.380001068115234,38.7400016784668,38.52000045776367,39.33000183105469,38.9900016784668,38.5,38.369998931884766,37.689998626708984,37.900001525878906,38.27000045776367,38.29999923706055,37.90999984741211,38.70000076293945,38.9900016784668,39.36000061035156,39.099998474121094,38.56999969482422,38.790000915527344,38.209999084472656,37.90999984741211,38.11000061035156,37.7400016784668,39.33000183105469,38.959999084472656,38.56999969482422,38.029998779296875,38.7400016784668,38.75,38.97999954223633,38.599998474121094,38.029998779296875,37.88999938964844,37.93000030517578],\"increasing\":{\"line\":{\"color\":\"red\"}},\"low\":[30.049999237060547,30.270000457763672,29.6200008392334,29.459999084472656,29.5,30.959999084472656,30.770000457763672,30.56999969482422,29.68000030517578,29.360000610351562,29.530000686645508,28.5,27.520000457763672,28.799999237060547,29.350000381469727,30.1299991607666,31.06999969482422,30.850000381469727,31.079999923706055,31.530000686645508,31.18000030517578,31.110000610351562,30.940000534057617,30.100000381469727,29.729999542236328,31.510000228881836,32.5099983215332,32.0099983215332,32.709999084472656,32.380001068115234,32.650001525878906,32.41999816894531,32.75,33.77000045776367,33.86000061035156,34.369998931884766,35.09000015258789,34.5099983215332,34.560001373291016,33.689998626708984,33.959999084472656,33.65999984741211,32.54999923706055,32.22999954223633,32.209999084472656,32.08000183105469,31.399999618530273,30.670000076293945,31.260000228881836,30.59000015258789,30.920000076293945,29.829999923706055,30.229999542236328,30.850000381469727,29.969999313354492,28.479999542236328,28.25,27.979999542236328,27.670000076293945,26.93000030517578,26.6299991607666,26.040000915527344,25.899999618530273,25.809999465942383,26.40999984741211,25.90999984741211,26.1299991607666,26.290000915527344,25.520000457763672,25.549999237060547,25.950000762939453,25.690000534057617,24.899999618530273,25.219999313354492,25.56999969482422,25.350000381469727,25.149999618530273,25.31999969482422,25.8799991607666,25.809999465942383,25.760000228881836,25.700000762939453,24.40999984741211,24.079999923706055,23.8700008392334,23.510000228881836,23.690000534057617,23.649999618530273,22.81999969482422,23.399999618530273,24.010000228881836,24.850000381469727,25.559999465942383,25.8700008392334,25.8799991607666,25.8700008392334,25.920000076293945,25.530000686645508,25.889999389648438,26.43000030517578,26.110000610351562,26.920000076293945,26.799999237060547,26.809999465942383,26.3700008392334,26.3700008392334,25.950000762939453,26.040000915527344,25.850000381469727,26.020000457763672,26.110000610351562,25.770000457763672,25.010000228881836,25.18000030517578,25.899999618530273,26.1200008392334,26.260000228881836,26.90999984741211,27.8799991607666,27.770000457763672,27.719999313354492,27.8799991607666,28.100000381469727,28.6299991607666,29.170000076293945,29.190000534057617,29.799999237060547,29.899999618530273,29.950000762939453,30.149999618530273,30.34000015258789,29.959999084472656,30.489999771118164,29.75,28.809999465942383,28.530000686645508,28.739999771118164,28.860000610351562,28.610000610351562,28.059999465942383,28.09000015258789,28.200000762939453,27.600000381469727,28.399999618530273,30.309999465942383,30.020000457763672,29.700000762939453,30.290000915527344,30.68000030517578,30.420000076293945,30.280000686645508,29.81999969482422,29.5,30.059999465942383,30.649999618530273,30.670000076293945,30.079999923706055,30.139999389648438,30.56999969482422,29.899999618530273,29.809999465942383,29.579999923706055,30.549999237060547,31.329999923706055,32.91999816894531,32.650001525878906,33.65999984741211,33.02000045776367,33.560001373291016,33.7400016784668,33.040000915527344,32.349998474121094,32.630001068115234,33.970001220703125,34.279998779296875,34.209999084472656,34.470001220703125,34.36000061035156,34.72999954223633,36.61000061035156,37.529998779296875,37.880001068115234,37.45000076293945,39.15999984741211,38.0,40.290000915527344,40.29999923706055,40.47999954223633,40.13999938964844,38.25,38.369998931884766,39.63999938964844,38.31999969482422,37.52000045776367,39.099998474121094,38.86000061035156,38.290000915527344,38.400001525878906,39.060001373291016,38.599998474121094,37.27000045776367,36.43000030517578,37.529998779296875,38.0099983215332,37.86000061035156,37.2400016784668,36.91999816894531,36.849998474121094,36.70000076293945,36.95000076293945,35.650001525878906,35.45000076293945,35.65999984741211,36.36000061035156,36.7599983215332,37.650001525878906,38.11000061035156,37.95000076293945,38.45000076293945,38.06999969482422,37.90999984741211,37.779998779296875,38.189998626708984,38.25,37.7400016784668,36.88999938964844,36.65999984741211,37.2599983215332,37.29999923706055,37.220001220703125,37.08000183105469,37.20000076293945,38.20000076293945,37.91999816894531,37.27000045776367,37.7400016784668,37.79999923706055,37.560001373291016,37.209999084472656,37.15999984741211,36.77000045776367,37.11000061035156,36.959999084472656,37.16999816894531,37.09000015258789,37.220001220703125,37.720001220703125,37.709999084472656,37.709999084472656,37.220001220703125,37.22999954223633,37.650001525878906],\"open\":[30.770000457763672,30.540000915527344,30.290000915527344,29.799999237060547,29.5,31.0,33.0,31.559999465942383,30.829999923706055,29.809999465942383,29.799999237060547,29.610000610351562,27.739999771118164,28.979999542236328,29.399999618530273,30.25,31.25,31.010000228881836,31.079999923706055,31.850000381469727,32.369998931884766,31.81999969482422,31.389999389648438,30.899999618530273,30.299999237060547,32.0,33.029998779296875,33.150001525878906,32.97999954223633,32.91999816894531,32.93000030517578,33.279998779296875,33.0,34.0,33.95000076293945,34.369998931884766,35.20000076293945,35.400001525878906,35.02000045776367,34.349998474121094,34.33000183105469,34.0,33.709999084472656,32.790000915527344,32.63999938964844,32.560001373291016,32.150001525878906,31.549999237060547,31.440000534057617,30.829999923706055,31.030000686645508,31.18000030517578,30.68000030517578,31.850000381469727,31.520000457763672,29.90999984741211,29.040000915527344,28.399999618530273,28.700000762939453,28.09000015258789,26.899999618530273,26.959999084472656,26.1200008392334,26.110000610351562,26.729999542236328,26.5,26.530000686645508,26.8799991607666,26.549999237060547,25.700000762939453,26.020000457763672,26.299999237060547,25.84000015258789,25.34000015258789,25.75,26.5,25.59000015258789,25.610000610351562,26.5,26.34000015258789,26.110000610351562,25.739999771118164,25.760000228881836,24.40999984741211,24.5,23.700000762939453,23.860000610351562,24.510000228881836,23.559999465942383,23.420000076293945,24.229999542236328,25.100000381469727,25.90999984741211,26.06999969482422,26.649999618530273,26.059999465942383,26.190000534057617,25.700000762939453,26.450000762939453,26.489999771118164,26.309999465942383,27.110000610351562,27.260000228881836,27.610000610351562,26.889999389648438,26.530000686645508,26.329999923706055,26.440000534057617,26.389999389648438,26.899999618530273,26.25,27.0,26.049999237060547,25.489999771118164,25.920000076293945,26.489999771118164,26.3799991607666,26.969999313354492,27.90999984741211,28.040000915527344,27.850000381469727,28.360000610351562,28.3799991607666,28.75,29.260000228881836,29.84000015258789,29.959999084472656,30.920000076293945,30.31999969482422,30.729999542236328,30.34000015258789,30.40999984741211,30.530000686645508,30.68000030517578,29.559999465942383,28.940000534057617,28.850000381469727,29.030000686645508,29.18000030517578,28.68000030517578,28.479999542236328,28.670000076293945,28.280000686645508,28.579999923706055,30.3799991607666,30.920000076293945,30.290000915527344,30.299999237060547,30.75,31.270000457763672,30.59000015258789,30.549999237060547,29.799999237060547,30.440000534057617,30.670000076293945,31.0,31.350000381469727,30.420000076293945,30.56999969482422,30.760000228881836,30.049999237060547,30.010000228881836,30.850000381469727,32.33000183105469,33.79999923706055,33.36000061035156,33.9900016784668,33.720001220703125,33.58000183105469,34.20000076293945,33.58000183105469,33.47999954223633,32.88999938964844,33.97999954223633,34.47999954223633,34.7400016784668,34.63999938964844,34.86000061035156,34.790000915527344,36.790000915527344,37.83000183105469,38.630001068115234,37.70000076293945,40.04999923706055,38.86000061035156,40.29999923706055,40.29999923706055,40.900001525878906,40.75,40.150001525878906,39.13999938964844,40.0,40.400001525878906,38.310001373291016,39.560001373291016,39.38999938964844,39.650001525878906,38.779998779296875,39.20000076293945,39.779998779296875,38.81999969482422,37.41999816894531,37.709999084472656,38.810001373291016,38.380001068115234,38.0099983215332,38.0,37.709999084472656,37.02000045776367,37.220001220703125,36.95000076293945,36.06999969482422,35.79999923706055,36.5,36.9900016784668,37.689998626708984,38.11000061035156,38.58000183105469,38.45000076293945,39.15999984741211,38.33000183105469,38.5,38.220001220703125,38.84000015258789,38.5,38.11000061035156,37.33000183105469,37.59000015258789,37.4900016784668,38.0,37.52000045776367,37.4900016784668,38.540000915527344,38.189998626708984,39.099998474121094,37.95000076293945,38.59000015258789,37.720001220703125,37.88999938964844,37.31999969482422,37.7400016784668,37.150001525878906,38.77000045776367,38.11000061035156,38.0,37.279998779296875,38.189998626708984,38.130001068115234,37.84000015258789,37.84000015258789,37.5,37.650001525878906],\"x\":[\"2022-02-08T00:00:00\",\"2022-02-09T00:00:00\",\"2022-02-10T00:00:00\",\"2022-02-11T00:00:00\",\"2022-02-14T00:00:00\",\"2022-02-15T00:00:00\",\"2022-02-16T00:00:00\",\"2022-02-17T00:00:00\",\"2022-02-18T00:00:00\",\"2022-02-21T00:00:00\",\"2022-02-22T00:00:00\",\"2022-02-23T00:00:00\",\"2022-02-24T00:00:00\",\"2022-02-25T00:00:00\",\"2022-03-02T00:00:00\",\"2022-03-03T00:00:00\",\"2022-03-04T00:00:00\",\"2022-03-07T00:00:00\",\"2022-03-08T00:00:00\",\"2022-03-09T00:00:00\",\"2022-03-10T00:00:00\",\"2022-03-11T00:00:00\",\"2022-03-14T00:00:00\",\"2022-03-15T00:00:00\",\"2022-03-16T00:00:00\",\"2022-03-17T00:00:00\",\"2022-03-18T00:00:00\",\"2022-03-21T00:00:00\",\"2022-03-22T00:00:00\",\"2022-03-23T00:00:00\",\"2022-03-24T00:00:00\",\"2022-03-25T00:00:00\",\"2022-03-28T00:00:00\",\"2022-03-29T00:00:00\",\"2022-03-30T00:00:00\",\"2022-03-31T00:00:00\",\"2022-04-01T00:00:00\",\"2022-04-04T00:00:00\",\"2022-04-05T00:00:00\",\"2022-04-06T00:00:00\",\"2022-04-07T00:00:00\",\"2022-04-08T00:00:00\",\"2022-04-11T00:00:00\",\"2022-04-12T00:00:00\",\"2022-04-13T00:00:00\",\"2022-04-14T00:00:00\",\"2022-04-18T00:00:00\",\"2022-04-19T00:00:00\",\"2022-04-20T00:00:00\",\"2022-04-22T00:00:00\",\"2022-04-25T00:00:00\",\"2022-04-26T00:00:00\",\"2022-04-27T00:00:00\",\"2022-04-28T00:00:00\",\"2022-04-29T00:00:00\",\"2022-05-02T00:00:00\",\"2022-05-03T00:00:00\",\"2022-05-04T00:00:00\",\"2022-05-05T00:00:00\",\"2022-05-06T00:00:00\",\"2022-05-09T00:00:00\",\"2022-05-10T00:00:00\",\"2022-05-11T00:00:00\",\"2022-05-12T00:00:00\",\"2022-05-13T00:00:00\",\"2022-05-16T00:00:00\",\"2022-05-17T00:00:00\",\"2022-05-18T00:00:00\",\"2022-05-19T00:00:00\",\"2022-05-20T00:00:00\",\"2022-05-23T00:00:00\",\"2022-05-24T00:00:00\",\"2022-05-25T00:00:00\",\"2022-05-26T00:00:00\",\"2022-05-27T00:00:00\",\"2022-05-30T00:00:00\",\"2022-05-31T00:00:00\",\"2022-06-01T00:00:00\",\"2022-06-02T00:00:00\",\"2022-06-03T00:00:00\",\"2022-06-06T00:00:00\",\"2022-06-07T00:00:00\",\"2022-06-08T00:00:00\",\"2022-06-09T00:00:00\",\"2022-06-10T00:00:00\",\"2022-06-13T00:00:00\",\"2022-06-14T00:00:00\",\"2022-06-15T00:00:00\",\"2022-06-17T00:00:00\",\"2022-06-20T00:00:00\",\"2022-06-21T00:00:00\",\"2022-06-22T00:00:00\",\"2022-06-23T00:00:00\",\"2022-06-24T00:00:00\",\"2022-06-27T00:00:00\",\"2022-06-28T00:00:00\",\"2022-06-29T00:00:00\",\"2022-06-30T00:00:00\",\"2022-07-01T00:00:00\",\"2022-07-04T00:00:00\",\"2022-07-05T00:00:00\",\"2022-07-06T00:00:00\",\"2022-07-07T00:00:00\",\"2022-07-08T00:00:00\",\"2022-07-11T00:00:00\",\"2022-07-12T00:00:00\",\"2022-07-13T00:00:00\",\"2022-07-14T00:00:00\",\"2022-07-15T00:00:00\",\"2022-07-18T00:00:00\",\"2022-07-19T00:00:00\",\"2022-07-20T00:00:00\",\"2022-07-21T00:00:00\",\"2022-07-22T00:00:00\",\"2022-07-25T00:00:00\",\"2022-07-26T00:00:00\",\"2022-07-27T00:00:00\",\"2022-07-28T00:00:00\",\"2022-07-29T00:00:00\",\"2022-08-01T00:00:00\",\"2022-08-02T00:00:00\",\"2022-08-03T00:00:00\",\"2022-08-04T00:00:00\",\"2022-08-05T00:00:00\",\"2022-08-08T00:00:00\",\"2022-08-09T00:00:00\",\"2022-08-10T00:00:00\",\"2022-08-11T00:00:00\",\"2022-08-12T00:00:00\",\"2022-08-15T00:00:00\",\"2022-08-16T00:00:00\",\"2022-08-17T00:00:00\",\"2022-08-18T00:00:00\",\"2022-08-19T00:00:00\",\"2022-08-22T00:00:00\",\"2022-08-23T00:00:00\",\"2022-08-24T00:00:00\",\"2022-08-25T00:00:00\",\"2022-08-26T00:00:00\",\"2022-08-29T00:00:00\",\"2022-08-30T00:00:00\",\"2022-08-31T00:00:00\",\"2022-09-01T00:00:00\",\"2022-09-02T00:00:00\",\"2022-09-05T00:00:00\",\"2022-09-06T00:00:00\",\"2022-09-08T00:00:00\",\"2022-09-09T00:00:00\",\"2022-09-12T00:00:00\",\"2022-09-13T00:00:00\",\"2022-09-14T00:00:00\",\"2022-09-15T00:00:00\",\"2022-09-16T00:00:00\",\"2022-09-19T00:00:00\",\"2022-09-20T00:00:00\",\"2022-09-21T00:00:00\",\"2022-09-22T00:00:00\",\"2022-09-23T00:00:00\",\"2022-09-26T00:00:00\",\"2022-09-27T00:00:00\",\"2022-09-28T00:00:00\",\"2022-09-29T00:00:00\",\"2022-09-30T00:00:00\",\"2022-10-03T00:00:00\",\"2022-10-04T00:00:00\",\"2022-10-05T00:00:00\",\"2022-10-06T00:00:00\",\"2022-10-07T00:00:00\",\"2022-10-10T00:00:00\",\"2022-10-11T00:00:00\",\"2022-10-13T00:00:00\",\"2022-10-14T00:00:00\",\"2022-10-17T00:00:00\",\"2022-10-18T00:00:00\",\"2022-10-19T00:00:00\",\"2022-10-20T00:00:00\",\"2022-10-21T00:00:00\",\"2022-10-24T00:00:00\",\"2022-10-25T00:00:00\",\"2022-10-26T00:00:00\",\"2022-10-27T00:00:00\",\"2022-10-28T00:00:00\",\"2022-10-31T00:00:00\",\"2022-11-01T00:00:00\",\"2022-11-03T00:00:00\",\"2022-11-04T00:00:00\",\"2022-11-07T00:00:00\",\"2022-11-08T00:00:00\",\"2022-11-09T00:00:00\",\"2022-11-10T00:00:00\",\"2022-11-11T00:00:00\",\"2022-11-14T00:00:00\",\"2022-11-16T00:00:00\",\"2022-11-17T00:00:00\",\"2022-11-18T00:00:00\",\"2022-11-21T00:00:00\",\"2022-11-22T00:00:00\",\"2022-11-23T00:00:00\",\"2022-11-24T00:00:00\",\"2022-11-25T00:00:00\",\"2022-11-28T00:00:00\",\"2022-11-29T00:00:00\",\"2022-11-30T00:00:00\",\"2022-12-01T00:00:00\",\"2022-12-02T00:00:00\",\"2022-12-05T00:00:00\",\"2022-12-06T00:00:00\",\"2022-12-07T00:00:00\",\"2022-12-08T00:00:00\",\"2022-12-09T00:00:00\",\"2022-12-12T00:00:00\",\"2022-12-13T00:00:00\",\"2022-12-14T00:00:00\",\"2022-12-15T00:00:00\",\"2022-12-16T00:00:00\",\"2022-12-19T00:00:00\",\"2022-12-20T00:00:00\",\"2022-12-21T00:00:00\",\"2022-12-22T00:00:00\",\"2022-12-23T00:00:00\",\"2022-12-26T00:00:00\",\"2022-12-27T00:00:00\",\"2022-12-28T00:00:00\",\"2022-12-29T00:00:00\",\"2023-01-02T00:00:00\",\"2023-01-03T00:00:00\",\"2023-01-04T00:00:00\",\"2023-01-05T00:00:00\",\"2023-01-06T00:00:00\",\"2023-01-09T00:00:00\",\"2023-01-10T00:00:00\",\"2023-01-11T00:00:00\",\"2023-01-12T00:00:00\",\"2023-01-13T00:00:00\",\"2023-01-16T00:00:00\",\"2023-01-17T00:00:00\",\"2023-01-18T00:00:00\",\"2023-01-19T00:00:00\",\"2023-01-20T00:00:00\",\"2023-01-23T00:00:00\",\"2023-01-24T00:00:00\",\"2023-01-25T00:00:00\",\"2023-01-26T00:00:00\",\"2023-01-27T00:00:00\",\"2023-01-30T00:00:00\",\"2023-01-31T00:00:00\",\"2023-02-01T00:00:00\",\"2023-02-02T00:00:00\",\"2023-02-03T00:00:00\",\"2023-02-06T00:00:00\",\"2023-02-07T00:00:00\",\"2023-02-08T00:00:00\"],\"type\":\"candlestick\"}],                        {\"template\":{\"data\":{\"bar\":[{\"error_x\":{\"color\":\"#2a3f5f\"},\"error_y\":{\"color\":\"#2a3f5f\"},\"marker\":{\"line\":{\"color\":\"#E5ECF6\",\"width\":0.5},\"pattern\":{\"fillmode\":\"overlay\",\"size\":10,\"solidity\":0.2}},\"type\":\"bar\"}],\"barpolar\":[{\"marker\":{\"line\":{\"color\":\"#E5ECF6\",\"width\":0.5},\"pattern\":{\"fillmode\":\"overlay\",\"size\":10,\"solidity\":0.2}},\"type\":\"barpolar\"}],\"carpet\":[{\"aaxis\":{\"endlinecolor\":\"#2a3f5f\",\"gridcolor\":\"white\",\"linecolor\":\"white\",\"minorgridcolor\":\"white\",\"startlinecolor\":\"#2a3f5f\"},\"baxis\":{\"endlinecolor\":\"#2a3f5f\",\"gridcolor\":\"white\",\"linecolor\":\"white\",\"minorgridcolor\":\"white\",\"startlinecolor\":\"#2a3f5f\"},\"type\":\"carpet\"}],\"choropleth\":[{\"colorbar\":{\"outlinewidth\":0,\"ticks\":\"\"},\"type\":\"choropleth\"}],\"contour\":[{\"colorbar\":{\"outlinewidth\":0,\"ticks\":\"\"},\"colorscale\":[[0.0,\"#0d0887\"],[0.1111111111111111,\"#46039f\"],[0.2222222222222222,\"#7201a8\"],[0.3333333333333333,\"#9c179e\"],[0.4444444444444444,\"#bd3786\"],[0.5555555555555556,\"#d8576b\"],[0.6666666666666666,\"#ed7953\"],[0.7777777777777778,\"#fb9f3a\"],[0.8888888888888888,\"#fdca26\"],[1.0,\"#f0f921\"]],\"type\":\"contour\"}],\"contourcarpet\":[{\"colorbar\":{\"outlinewidth\":0,\"ticks\":\"\"},\"type\":\"contourcarpet\"}],\"heatmap\":[{\"colorbar\":{\"outlinewidth\":0,\"ticks\":\"\"},\"colorscale\":[[0.0,\"#0d0887\"],[0.1111111111111111,\"#46039f\"],[0.2222222222222222,\"#7201a8\"],[0.3333333333333333,\"#9c179e\"],[0.4444444444444444,\"#bd3786\"],[0.5555555555555556,\"#d8576b\"],[0.6666666666666666,\"#ed7953\"],[0.7777777777777778,\"#fb9f3a\"],[0.8888888888888888,\"#fdca26\"],[1.0,\"#f0f921\"]],\"type\":\"heatmap\"}],\"heatmapgl\":[{\"colorbar\":{\"outlinewidth\":0,\"ticks\":\"\"},\"colorscale\":[[0.0,\"#0d0887\"],[0.1111111111111111,\"#46039f\"],[0.2222222222222222,\"#7201a8\"],[0.3333333333333333,\"#9c179e\"],[0.4444444444444444,\"#bd3786\"],[0.5555555555555556,\"#d8576b\"],[0.6666666666666666,\"#ed7953\"],[0.7777777777777778,\"#fb9f3a\"],[0.8888888888888888,\"#fdca26\"],[1.0,\"#f0f921\"]],\"type\":\"heatmapgl\"}],\"histogram\":[{\"marker\":{\"pattern\":{\"fillmode\":\"overlay\",\"size\":10,\"solidity\":0.2}},\"type\":\"histogram\"}],\"histogram2d\":[{\"colorbar\":{\"outlinewidth\":0,\"ticks\":\"\"},\"colorscale\":[[0.0,\"#0d0887\"],[0.1111111111111111,\"#46039f\"],[0.2222222222222222,\"#7201a8\"],[0.3333333333333333,\"#9c179e\"],[0.4444444444444444,\"#bd3786\"],[0.5555555555555556,\"#d8576b\"],[0.6666666666666666,\"#ed7953\"],[0.7777777777777778,\"#fb9f3a\"],[0.8888888888888888,\"#fdca26\"],[1.0,\"#f0f921\"]],\"type\":\"histogram2d\"}],\"histogram2dcontour\":[{\"colorbar\":{\"outlinewidth\":0,\"ticks\":\"\"},\"colorscale\":[[0.0,\"#0d0887\"],[0.1111111111111111,\"#46039f\"],[0.2222222222222222,\"#7201a8\"],[0.3333333333333333,\"#9c179e\"],[0.4444444444444444,\"#bd3786\"],[0.5555555555555556,\"#d8576b\"],[0.6666666666666666,\"#ed7953\"],[0.7777777777777778,\"#fb9f3a\"],[0.8888888888888888,\"#fdca26\"],[1.0,\"#f0f921\"]],\"type\":\"histogram2dcontour\"}],\"mesh3d\":[{\"colorbar\":{\"outlinewidth\":0,\"ticks\":\"\"},\"type\":\"mesh3d\"}],\"parcoords\":[{\"line\":{\"colorbar\":{\"outlinewidth\":0,\"ticks\":\"\"}},\"type\":\"parcoords\"}],\"pie\":[{\"automargin\":true,\"type\":\"pie\"}],\"scatter\":[{\"marker\":{\"colorbar\":{\"outlinewidth\":0,\"ticks\":\"\"}},\"type\":\"scatter\"}],\"scatter3d\":[{\"line\":{\"colorbar\":{\"outlinewidth\":0,\"ticks\":\"\"}},\"marker\":{\"colorbar\":{\"outlinewidth\":0,\"ticks\":\"\"}},\"type\":\"scatter3d\"}],\"scattercarpet\":[{\"marker\":{\"colorbar\":{\"outlinewidth\":0,\"ticks\":\"\"}},\"type\":\"scattercarpet\"}],\"scattergeo\":[{\"marker\":{\"colorbar\":{\"outlinewidth\":0,\"ticks\":\"\"}},\"type\":\"scattergeo\"}],\"scattergl\":[{\"marker\":{\"colorbar\":{\"outlinewidth\":0,\"ticks\":\"\"}},\"type\":\"scattergl\"}],\"scattermapbox\":[{\"marker\":{\"colorbar\":{\"outlinewidth\":0,\"ticks\":\"\"}},\"type\":\"scattermapbox\"}],\"scatterpolar\":[{\"marker\":{\"colorbar\":{\"outlinewidth\":0,\"ticks\":\"\"}},\"type\":\"scatterpolar\"}],\"scatterpolargl\":[{\"marker\":{\"colorbar\":{\"outlinewidth\":0,\"ticks\":\"\"}},\"type\":\"scatterpolargl\"}],\"scatterternary\":[{\"marker\":{\"colorbar\":{\"outlinewidth\":0,\"ticks\":\"\"}},\"type\":\"scatterternary\"}],\"surface\":[{\"colorbar\":{\"outlinewidth\":0,\"ticks\":\"\"},\"colorscale\":[[0.0,\"#0d0887\"],[0.1111111111111111,\"#46039f\"],[0.2222222222222222,\"#7201a8\"],[0.3333333333333333,\"#9c179e\"],[0.4444444444444444,\"#bd3786\"],[0.5555555555555556,\"#d8576b\"],[0.6666666666666666,\"#ed7953\"],[0.7777777777777778,\"#fb9f3a\"],[0.8888888888888888,\"#fdca26\"],[1.0,\"#f0f921\"]],\"type\":\"surface\"}],\"table\":[{\"cells\":{\"fill\":{\"color\":\"#EBF0F8\"},\"line\":{\"color\":\"white\"}},\"header\":{\"fill\":{\"color\":\"#C8D4E3\"},\"line\":{\"color\":\"white\"}},\"type\":\"table\"}]},\"layout\":{\"annotationdefaults\":{\"arrowcolor\":\"#2a3f5f\",\"arrowhead\":0,\"arrowwidth\":1},\"autotypenumbers\":\"strict\",\"coloraxis\":{\"colorbar\":{\"outlinewidth\":0,\"ticks\":\"\"}},\"colorscale\":{\"diverging\":[[0,\"#8e0152\"],[0.1,\"#c51b7d\"],[0.2,\"#de77ae\"],[0.3,\"#f1b6da\"],[0.4,\"#fde0ef\"],[0.5,\"#f7f7f7\"],[0.6,\"#e6f5d0\"],[0.7,\"#b8e186\"],[0.8,\"#7fbc41\"],[0.9,\"#4d9221\"],[1,\"#276419\"]],\"sequential\":[[0.0,\"#0d0887\"],[0.1111111111111111,\"#46039f\"],[0.2222222222222222,\"#7201a8\"],[0.3333333333333333,\"#9c179e\"],[0.4444444444444444,\"#bd3786\"],[0.5555555555555556,\"#d8576b\"],[0.6666666666666666,\"#ed7953\"],[0.7777777777777778,\"#fb9f3a\"],[0.8888888888888888,\"#fdca26\"],[1.0,\"#f0f921\"]],\"sequentialminus\":[[0.0,\"#0d0887\"],[0.1111111111111111,\"#46039f\"],[0.2222222222222222,\"#7201a8\"],[0.3333333333333333,\"#9c179e\"],[0.4444444444444444,\"#bd3786\"],[0.5555555555555556,\"#d8576b\"],[0.6666666666666666,\"#ed7953\"],[0.7777777777777778,\"#fb9f3a\"],[0.8888888888888888,\"#fdca26\"],[1.0,\"#f0f921\"]]},\"colorway\":[\"#636efa\",\"#EF553B\",\"#00cc96\",\"#ab63fa\",\"#FFA15A\",\"#19d3f3\",\"#FF6692\",\"#B6E880\",\"#FF97FF\",\"#FECB52\"],\"font\":{\"color\":\"#2a3f5f\"},\"geo\":{\"bgcolor\":\"white\",\"lakecolor\":\"white\",\"landcolor\":\"#E5ECF6\",\"showlakes\":true,\"showland\":true,\"subunitcolor\":\"white\"},\"hoverlabel\":{\"align\":\"left\"},\"hovermode\":\"closest\",\"mapbox\":{\"style\":\"light\"},\"paper_bgcolor\":\"white\",\"plot_bgcolor\":\"#E5ECF6\",\"polar\":{\"angularaxis\":{\"gridcolor\":\"white\",\"linecolor\":\"white\",\"ticks\":\"\"},\"bgcolor\":\"#E5ECF6\",\"radialaxis\":{\"gridcolor\":\"white\",\"linecolor\":\"white\",\"ticks\":\"\"}},\"scene\":{\"xaxis\":{\"backgroundcolor\":\"#E5ECF6\",\"gridcolor\":\"white\",\"gridwidth\":2,\"linecolor\":\"white\",\"showbackground\":true,\"ticks\":\"\",\"zerolinecolor\":\"white\"},\"yaxis\":{\"backgroundcolor\":\"#E5ECF6\",\"gridcolor\":\"white\",\"gridwidth\":2,\"linecolor\":\"white\",\"showbackground\":true,\"ticks\":\"\",\"zerolinecolor\":\"white\"},\"zaxis\":{\"backgroundcolor\":\"#E5ECF6\",\"gridcolor\":\"white\",\"gridwidth\":2,\"linecolor\":\"white\",\"showbackground\":true,\"ticks\":\"\",\"zerolinecolor\":\"white\"}},\"shapedefaults\":{\"line\":{\"color\":\"#2a3f5f\"}},\"ternary\":{\"aaxis\":{\"gridcolor\":\"white\",\"linecolor\":\"white\",\"ticks\":\"\"},\"baxis\":{\"gridcolor\":\"white\",\"linecolor\":\"white\",\"ticks\":\"\"},\"bgcolor\":\"#E5ECF6\",\"caxis\":{\"gridcolor\":\"white\",\"linecolor\":\"white\",\"ticks\":\"\"}},\"title\":{\"x\":0.05},\"xaxis\":{\"automargin\":true,\"gridcolor\":\"white\",\"linecolor\":\"white\",\"ticks\":\"\",\"title\":{\"standoff\":15},\"zerolinecolor\":\"white\",\"zerolinewidth\":2},\"yaxis\":{\"automargin\":true,\"gridcolor\":\"white\",\"linecolor\":\"white\",\"ticks\":\"\",\"title\":{\"standoff\":15},\"zerolinecolor\":\"white\",\"zerolinewidth\":2}}},\"xaxis\":{\"rangeslider\":{\"visible\":false},\"title\":{\"text\":\"Periodo\"}},\"title\":{\"text\":\"An\\u00e1lise Fechamento\"},\"yaxis\":{\"title\":{\"text\":\"Pre\\u00e7o de Fechamento\"}}},                        {\"responsive\": true}                    ).then(function(){\n",
              "                            \n",
              "var gd = document.getElementById('e2f4bb6a-3946-47d7-9fd0-5741d61b9090');\n",
              "var x = new MutationObserver(function (mutations, observer) {{\n",
              "        var display = window.getComputedStyle(gd).display;\n",
              "        if (!display || display === 'none') {{\n",
              "            console.log([gd, 'removed!']);\n",
              "            Plotly.purge(gd);\n",
              "            observer.disconnect();\n",
              "        }}\n",
              "}});\n",
              "\n",
              "// Listen for the removal of the full notebook cells\n",
              "var notebookContainer = gd.closest('#notebook-container');\n",
              "if (notebookContainer) {{\n",
              "    x.observe(notebookContainer, {childList: true});\n",
              "}}\n",
              "\n",
              "// Listen for the clearing of the current output cell\n",
              "var outputEl = gd.closest('.output');\n",
              "if (outputEl) {{\n",
              "    x.observe(outputEl, {childList: true});\n",
              "}}\n",
              "\n",
              "                        })                };                            </script>        </div>\n",
              "</body>\n",
              "</html>"
            ]
          },
          "metadata": {}
        }
      ],
      "source": [
        "# Grafico clandestik\n",
        "Grafico_Candlestick = go.Figure(\n",
        "    data=[\n",
        "        go.Candlestick(\n",
        "            x=Dados.index,\n",
        "            open=Dados['Open'],\n",
        "            high=Dados['High'],\n",
        "            low=Dados['Low'],\n",
        "            close=Dados['Close'],\n",
        "            increasing_line_color='red',\n",
        "            decreasing_line_color='green'\n",
        "        )\n",
        "    ]\n",
        ")\n",
        "\n",
        "\n",
        "Grafico_Candlestick.update_layout(\n",
        "    xaxis_rangeslider_visible=False,\n",
        "    title='Análise Fechamento',\n",
        "    xaxis_title='Periodo',\n",
        "    yaxis_title='Preço de Fechamento'\n",
        ")\n",
        "\n",
        "\n",
        "Grafico_Candlestick.show()"
      ]
    },
    {
      "cell_type": "markdown",
      "metadata": {
        "id": "mKHSNROnNTKG"
      },
      "source": [
        "## **Criando Relátorio**"
      ]
    },
    {
      "cell_type": "code",
      "execution_count": 35,
      "metadata": {
        "colab": {
          "base_uri": "https://localhost:8080/",
          "height": 817
        },
        "id": "4WWdbCAhNO8V",
        "outputId": "e2d25e30-ffc8-46dc-ab17-dc16d4579fbc"
      },
      "outputs": [
        {
          "output_type": "display_data",
          "data": {
            "text/html": [
              "<html>\n",
              "<head><meta charset=\"utf-8\" /></head>\n",
              "<body>\n",
              "    <div>            <script src=\"https://cdnjs.cloudflare.com/ajax/libs/mathjax/2.7.5/MathJax.js?config=TeX-AMS-MML_SVG\"></script><script type=\"text/javascript\">if (window.MathJax) {MathJax.Hub.Config({SVG: {font: \"STIX-Web\"}});}</script>                <script type=\"text/javascript\">window.PlotlyConfig = {MathJaxConfig: 'local'};</script>\n",
              "        <script src=\"https://cdn.plot.ly/plotly-2.8.3.min.js\"></script>                <div id=\"3f936b2d-84b4-4428-8ee5-fd9f19093a2a\" class=\"plotly-graph-div\" style=\"height:800px; width:1000px;\"></div>            <script type=\"text/javascript\">                                    window.PLOTLYENV=window.PLOTLYENV || {};                                    if (document.getElementById(\"3f936b2d-84b4-4428-8ee5-fd9f19093a2a\")) {                    Plotly.newPlot(                        \"3f936b2d-84b4-4428-8ee5-fd9f19093a2a\",                        [{\"close\":[30.219999313354492,30.290000915527344,29.739999771118164,29.530000686645508,30.440000534057617,32.880001068115234,31.299999237060547,30.649999618530273,29.809999465942383,29.520000457763672,29.530000686645508,28.600000381469727,29.31999969482422,29.399999618530273,30.25,31.25,31.510000228881836,31.079999923706055,31.56999969482422,32.66999816894531,31.719999313354492,31.389999389648438,31.020000457763672,30.200000762939453,31.979999542236328,33.099998474121094,33.290000915527344,32.54999923706055,33.0,32.75,33.130001068115234,32.880001068115234,33.599998474121094,33.95000076293945,34.150001525878906,34.869998931884766,35.380001068115234,35.02000045776367,34.630001068115234,34.33000183105469,34.119998931884766,34.13999938964844,32.54999923706055,32.369998931884766,32.560001373291016,32.290000915527344,31.90999984741211,31.3700008392334,31.420000076293945,31.309999465942383,31.209999084472656,29.979999542236328,31.6299991607666,31.1299991607666,30.100000381469727,28.940000534057617,28.40999984741211,28.940000534057617,28.15999984741211,27.149999618530273,26.65999984741211,26.1200008392334,26.100000381469727,26.40999984741211,26.5,26.200000762939453,26.90999984741211,26.43000030517578,25.530000686645508,25.989999771118164,26.56999969482422,26.079999923706055,25.309999465942383,25.709999084472656,26.219999313354492,25.540000915527344,25.3700008392334,26.209999084472656,26.329999923706055,25.920000076293945,25.979999542236328,25.950000762939453,24.40999984741211,24.520000457763672,24.0,23.81999969482422,24.25,24.0,22.829999923706055,24.100000381469727,25.299999237060547,25.790000915527344,25.90999984741211,26.459999084472656,25.93000030517578,26.149999618530273,26.030000686645508,26.450000762939453,26.5,26.489999771118164,27.020000457763672,27.100000381469727,27.610000610351562,27.270000457763672,26.579999923706055,26.59000015258789,26.729999542236328,26.399999618530273,26.549999237060547,26.1200008392334,26.959999084472656,25.989999771118164,25.329999923706055,25.84000015258789,26.479999542236328,26.200000762939453,26.8700008392334,27.93000030517578,28.040000915527344,27.8799991607666,28.3799991607666,28.1200008392334,28.809999465942383,28.829999923706055,29.729999542236328,29.579999923706055,30.68000030517578,30.1299991607666,30.899999618530273,30.34000015258789,30.59000015258789,30.43000030517578,30.84000015258789,29.850000381469727,28.950000762939453,28.799999237060547,28.790000915527344,28.950000762939453,28.809999465942383,28.3700008392334,28.389999389648438,28.290000915527344,28.3799991607666,30.209999084472656,30.899999618530273,30.290000915527344,30.209999084472656,30.450000762939453,31.799999237060547,30.610000610351562,30.6200008392334,30.010000228881836,30.479999542236328,30.600000381469727,31.1299991607666,31.18000030517578,31.010000228881836,30.56999969482422,30.56999969482422,30.049999237060547,30.31999969482422,30.139999389648438,32.13999938964844,33.58000183105469,33.2400016784668,33.66999816894531,33.72999954223633,33.349998474121094,34.27000045776367,33.900001525878906,33.470001220703125,32.86000061035156,33.61000061035156,34.560001373291016,34.650001525878906,34.65999984741211,35.20000076293945,34.91999816894531,35.04999923706055,37.97999954223633,38.83000183105469,38.470001220703125,40.279998779296875,39.40999984741211,40.20000076293945,40.79999923706055,40.900001525878906,40.79999923706055,40.599998474121094,39.22999954223633,39.9900016784668,40.65999984741211,38.709999084472656,39.54999923706055,39.279998779296875,39.4900016784668,38.900001525878906,38.939998626708984,39.7599983215332,39.099998474121094,37.5,37.709999084472656,39.0,38.310001373291016,38.65999984741211,37.599998474121094,37.709999084472656,37.2599983215332,37.20000076293945,37.099998474121094,36.06999969482422,35.790000915527344,37.060001373291016,37.08000183105469,37.45000076293945,38.119998931884766,38.43000030517578,38.400001525878906,38.939998626708984,38.5,38.189998626708984,38.0099983215332,38.70000076293945,38.5099983215332,38.099998474121094,37.150001525878906,37.400001525878906,37.47999954223633,38.029998779296875,37.91999816894531,37.54999923706055,38.599998474121094,38.5099983215332,38.970001220703125,37.689998626708984,38.310001373291016,37.9900016784668,37.90999984741211,37.33000183105469,37.369998931884766,37.209999084472656,38.720001220703125,38.209999084472656,37.90999984741211,37.349998474121094,38.2400016784668,38.38999938964844,38.040000915527344,37.90999984741211,37.56999969482422,37.66999816894531,37.84000015258789],\"decreasing\":{\"line\":{\"color\":\"green\"}},\"high\":[30.940000534057617,30.969999313354492,30.549999237060547,30.010000228881836,30.940000534057617,32.880001068115234,33.16999816894531,31.81999969482422,31.0,29.889999389648438,30.09000015258789,30.170000076293945,29.56999969482422,29.860000610351562,30.790000915527344,31.389999389648438,32.279998779296875,31.969999313354492,32.099998474121094,32.849998474121094,32.38999938964844,32.06999969482422,31.559999465942383,31.959999084472656,32.02000045776367,33.25,33.38999938964844,33.290000915527344,33.470001220703125,33.099998474121094,33.47999954223633,33.58000183105469,33.939998626708984,34.40999984741211,34.38999938964844,35.29999923706055,35.83000183105469,35.400001525878906,35.380001068115234,35.0099983215332,34.529998779296875,34.630001068115234,34.02000045776367,33.22999954223633,32.83000183105469,32.88999938964844,32.369998931884766,31.579999923706055,31.93000030517578,31.510000228881836,31.6200008392334,31.31999969482422,31.81999969482422,31.959999084472656,31.549999237060547,30.280000686645508,29.040000915527344,29.15999984741211,28.8799991607666,28.09000015258789,27.5,27.059999465942383,26.399999618530273,26.520000457763672,27.059999465942383,26.510000228881836,27.100000381469727,27.020000457763672,26.549999237060547,26.100000381469727,26.719999313354492,26.479999542236328,25.959999084472656,25.989999771118164,26.3700008392334,26.540000915527344,25.729999542236328,26.43000030517578,26.6299991607666,26.34000015258789,26.440000534057617,26.06999969482422,25.84000015258789,25.059999465942383,24.639999389648438,23.979999542236328,24.5,24.510000228881836,23.6299991607666,24.469999313354492,25.3799991607666,26.200000762939453,26.350000381469727,26.979999542236328,26.700000762939453,26.520000457763672,26.440000534057617,26.579999923706055,26.889999389648438,26.940000534057617,27.200000762939453,28.049999237060547,27.790000915527344,27.649999618530273,26.950000762939453,26.8700008392334,27.09000015258789,26.829999923706055,26.790000915527344,27.18000030517578,27.149999618530273,27.18000030517578,26.06999969482422,26.239999771118164,26.780000686645508,26.700000762939453,26.8799991607666,28.139999389648438,28.639999389648438,28.68000030517578,28.600000381469727,28.479999542236328,28.8700008392334,29.139999389648438,30.190000534057617,30.139999389648438,30.93000030517578,30.989999771118164,30.959999084472656,31.0,30.940000534057617,30.670000076293945,31.06999969482422,30.979999542236328,29.6200008392334,29.040000915527344,29.280000686645508,29.3799991607666,29.229999542236328,28.719999313354492,28.6200008392334,28.760000228881836,28.639999389648438,30.280000686645508,31.420000076293945,31.190000534057617,30.690000534057617,30.8700008392334,32.22999954223633,31.510000228881836,30.90999984741211,30.559999465942383,30.639999389648438,30.979999542236328,31.440000534057617,31.559999465942383,31.389999389648438,30.68000030517578,30.56999969482422,30.799999237060547,30.639999389648438,30.239999771118164,32.18000030517578,33.630001068115234,34.13999938964844,33.95000076293945,34.18000030517578,33.84000015258789,34.38999938964844,34.63999938964844,34.0,33.84000015258789,33.91999816894531,35.029998779296875,34.77000045776367,34.84000015258789,35.5099983215332,35.15999984741211,35.84000015258789,38.959999084472656,39.40999984741211,39.25,40.599998474121094,40.4900016784668,40.5,41.4900016784668,41.88999938964844,42.41999816894531,41.689998626708984,40.75,40.31999969482422,41.16999816894531,40.68000030517578,39.7599983215332,40.279998779296875,39.84000015258789,40.0,39.2599983215332,40.56999969482422,39.790000915527344,38.81999969482422,38.5,39.2400016784668,39.349998474121094,39.380001068115234,38.290000915527344,38.09000015258789,38.0,37.68000030517578,37.61000061035156,37.040000915527344,37.22999954223633,37.459999084472656,37.68000030517578,37.54999923706055,38.43000030517578,39.13999938964844,38.84000015258789,39.099998474121094,39.380001068115234,38.7400016784668,38.52000045776367,39.33000183105469,38.9900016784668,38.5,38.369998931884766,37.689998626708984,37.900001525878906,38.27000045776367,38.29999923706055,37.90999984741211,38.70000076293945,38.9900016784668,39.36000061035156,39.099998474121094,38.56999969482422,38.790000915527344,38.209999084472656,37.90999984741211,38.11000061035156,37.7400016784668,39.33000183105469,38.959999084472656,38.56999969482422,38.029998779296875,38.7400016784668,38.75,38.97999954223633,38.599998474121094,38.029998779296875,37.88999938964844,37.93000030517578],\"increasing\":{\"line\":{\"color\":\"red\"}},\"low\":[30.049999237060547,30.270000457763672,29.6200008392334,29.459999084472656,29.5,30.959999084472656,30.770000457763672,30.56999969482422,29.68000030517578,29.360000610351562,29.530000686645508,28.5,27.520000457763672,28.799999237060547,29.350000381469727,30.1299991607666,31.06999969482422,30.850000381469727,31.079999923706055,31.530000686645508,31.18000030517578,31.110000610351562,30.940000534057617,30.100000381469727,29.729999542236328,31.510000228881836,32.5099983215332,32.0099983215332,32.709999084472656,32.380001068115234,32.650001525878906,32.41999816894531,32.75,33.77000045776367,33.86000061035156,34.369998931884766,35.09000015258789,34.5099983215332,34.560001373291016,33.689998626708984,33.959999084472656,33.65999984741211,32.54999923706055,32.22999954223633,32.209999084472656,32.08000183105469,31.399999618530273,30.670000076293945,31.260000228881836,30.59000015258789,30.920000076293945,29.829999923706055,30.229999542236328,30.850000381469727,29.969999313354492,28.479999542236328,28.25,27.979999542236328,27.670000076293945,26.93000030517578,26.6299991607666,26.040000915527344,25.899999618530273,25.809999465942383,26.40999984741211,25.90999984741211,26.1299991607666,26.290000915527344,25.520000457763672,25.549999237060547,25.950000762939453,25.690000534057617,24.899999618530273,25.219999313354492,25.56999969482422,25.350000381469727,25.149999618530273,25.31999969482422,25.8799991607666,25.809999465942383,25.760000228881836,25.700000762939453,24.40999984741211,24.079999923706055,23.8700008392334,23.510000228881836,23.690000534057617,23.649999618530273,22.81999969482422,23.399999618530273,24.010000228881836,24.850000381469727,25.559999465942383,25.8700008392334,25.8799991607666,25.8700008392334,25.920000076293945,25.530000686645508,25.889999389648438,26.43000030517578,26.110000610351562,26.920000076293945,26.799999237060547,26.809999465942383,26.3700008392334,26.3700008392334,25.950000762939453,26.040000915527344,25.850000381469727,26.020000457763672,26.110000610351562,25.770000457763672,25.010000228881836,25.18000030517578,25.899999618530273,26.1200008392334,26.260000228881836,26.90999984741211,27.8799991607666,27.770000457763672,27.719999313354492,27.8799991607666,28.100000381469727,28.6299991607666,29.170000076293945,29.190000534057617,29.799999237060547,29.899999618530273,29.950000762939453,30.149999618530273,30.34000015258789,29.959999084472656,30.489999771118164,29.75,28.809999465942383,28.530000686645508,28.739999771118164,28.860000610351562,28.610000610351562,28.059999465942383,28.09000015258789,28.200000762939453,27.600000381469727,28.399999618530273,30.309999465942383,30.020000457763672,29.700000762939453,30.290000915527344,30.68000030517578,30.420000076293945,30.280000686645508,29.81999969482422,29.5,30.059999465942383,30.649999618530273,30.670000076293945,30.079999923706055,30.139999389648438,30.56999969482422,29.899999618530273,29.809999465942383,29.579999923706055,30.549999237060547,31.329999923706055,32.91999816894531,32.650001525878906,33.65999984741211,33.02000045776367,33.560001373291016,33.7400016784668,33.040000915527344,32.349998474121094,32.630001068115234,33.970001220703125,34.279998779296875,34.209999084472656,34.470001220703125,34.36000061035156,34.72999954223633,36.61000061035156,37.529998779296875,37.880001068115234,37.45000076293945,39.15999984741211,38.0,40.290000915527344,40.29999923706055,40.47999954223633,40.13999938964844,38.25,38.369998931884766,39.63999938964844,38.31999969482422,37.52000045776367,39.099998474121094,38.86000061035156,38.290000915527344,38.400001525878906,39.060001373291016,38.599998474121094,37.27000045776367,36.43000030517578,37.529998779296875,38.0099983215332,37.86000061035156,37.2400016784668,36.91999816894531,36.849998474121094,36.70000076293945,36.95000076293945,35.650001525878906,35.45000076293945,35.65999984741211,36.36000061035156,36.7599983215332,37.650001525878906,38.11000061035156,37.95000076293945,38.45000076293945,38.06999969482422,37.90999984741211,37.779998779296875,38.189998626708984,38.25,37.7400016784668,36.88999938964844,36.65999984741211,37.2599983215332,37.29999923706055,37.220001220703125,37.08000183105469,37.20000076293945,38.20000076293945,37.91999816894531,37.27000045776367,37.7400016784668,37.79999923706055,37.560001373291016,37.209999084472656,37.15999984741211,36.77000045776367,37.11000061035156,36.959999084472656,37.16999816894531,37.09000015258789,37.220001220703125,37.720001220703125,37.709999084472656,37.709999084472656,37.220001220703125,37.22999954223633,37.650001525878906],\"open\":[30.770000457763672,30.540000915527344,30.290000915527344,29.799999237060547,29.5,31.0,33.0,31.559999465942383,30.829999923706055,29.809999465942383,29.799999237060547,29.610000610351562,27.739999771118164,28.979999542236328,29.399999618530273,30.25,31.25,31.010000228881836,31.079999923706055,31.850000381469727,32.369998931884766,31.81999969482422,31.389999389648438,30.899999618530273,30.299999237060547,32.0,33.029998779296875,33.150001525878906,32.97999954223633,32.91999816894531,32.93000030517578,33.279998779296875,33.0,34.0,33.95000076293945,34.369998931884766,35.20000076293945,35.400001525878906,35.02000045776367,34.349998474121094,34.33000183105469,34.0,33.709999084472656,32.790000915527344,32.63999938964844,32.560001373291016,32.150001525878906,31.549999237060547,31.440000534057617,30.829999923706055,31.030000686645508,31.18000030517578,30.68000030517578,31.850000381469727,31.520000457763672,29.90999984741211,29.040000915527344,28.399999618530273,28.700000762939453,28.09000015258789,26.899999618530273,26.959999084472656,26.1200008392334,26.110000610351562,26.729999542236328,26.5,26.530000686645508,26.8799991607666,26.549999237060547,25.700000762939453,26.020000457763672,26.299999237060547,25.84000015258789,25.34000015258789,25.75,26.5,25.59000015258789,25.610000610351562,26.5,26.34000015258789,26.110000610351562,25.739999771118164,25.760000228881836,24.40999984741211,24.5,23.700000762939453,23.860000610351562,24.510000228881836,23.559999465942383,23.420000076293945,24.229999542236328,25.100000381469727,25.90999984741211,26.06999969482422,26.649999618530273,26.059999465942383,26.190000534057617,25.700000762939453,26.450000762939453,26.489999771118164,26.309999465942383,27.110000610351562,27.260000228881836,27.610000610351562,26.889999389648438,26.530000686645508,26.329999923706055,26.440000534057617,26.389999389648438,26.899999618530273,26.25,27.0,26.049999237060547,25.489999771118164,25.920000076293945,26.489999771118164,26.3799991607666,26.969999313354492,27.90999984741211,28.040000915527344,27.850000381469727,28.360000610351562,28.3799991607666,28.75,29.260000228881836,29.84000015258789,29.959999084472656,30.920000076293945,30.31999969482422,30.729999542236328,30.34000015258789,30.40999984741211,30.530000686645508,30.68000030517578,29.559999465942383,28.940000534057617,28.850000381469727,29.030000686645508,29.18000030517578,28.68000030517578,28.479999542236328,28.670000076293945,28.280000686645508,28.579999923706055,30.3799991607666,30.920000076293945,30.290000915527344,30.299999237060547,30.75,31.270000457763672,30.59000015258789,30.549999237060547,29.799999237060547,30.440000534057617,30.670000076293945,31.0,31.350000381469727,30.420000076293945,30.56999969482422,30.760000228881836,30.049999237060547,30.010000228881836,30.850000381469727,32.33000183105469,33.79999923706055,33.36000061035156,33.9900016784668,33.720001220703125,33.58000183105469,34.20000076293945,33.58000183105469,33.47999954223633,32.88999938964844,33.97999954223633,34.47999954223633,34.7400016784668,34.63999938964844,34.86000061035156,34.790000915527344,36.790000915527344,37.83000183105469,38.630001068115234,37.70000076293945,40.04999923706055,38.86000061035156,40.29999923706055,40.29999923706055,40.900001525878906,40.75,40.150001525878906,39.13999938964844,40.0,40.400001525878906,38.310001373291016,39.560001373291016,39.38999938964844,39.650001525878906,38.779998779296875,39.20000076293945,39.779998779296875,38.81999969482422,37.41999816894531,37.709999084472656,38.810001373291016,38.380001068115234,38.0099983215332,38.0,37.709999084472656,37.02000045776367,37.220001220703125,36.95000076293945,36.06999969482422,35.79999923706055,36.5,36.9900016784668,37.689998626708984,38.11000061035156,38.58000183105469,38.45000076293945,39.15999984741211,38.33000183105469,38.5,38.220001220703125,38.84000015258789,38.5,38.11000061035156,37.33000183105469,37.59000015258789,37.4900016784668,38.0,37.52000045776367,37.4900016784668,38.540000915527344,38.189998626708984,39.099998474121094,37.95000076293945,38.59000015258789,37.720001220703125,37.88999938964844,37.31999969482422,37.7400016784668,37.150001525878906,38.77000045776367,38.11000061035156,38.0,37.279998779296875,38.189998626708984,38.130001068115234,37.84000015258789,37.84000015258789,37.5,37.650001525878906],\"x\":[\"2022-02-08T00:00:00\",\"2022-02-09T00:00:00\",\"2022-02-10T00:00:00\",\"2022-02-11T00:00:00\",\"2022-02-14T00:00:00\",\"2022-02-15T00:00:00\",\"2022-02-16T00:00:00\",\"2022-02-17T00:00:00\",\"2022-02-18T00:00:00\",\"2022-02-21T00:00:00\",\"2022-02-22T00:00:00\",\"2022-02-23T00:00:00\",\"2022-02-24T00:00:00\",\"2022-02-25T00:00:00\",\"2022-03-02T00:00:00\",\"2022-03-03T00:00:00\",\"2022-03-04T00:00:00\",\"2022-03-07T00:00:00\",\"2022-03-08T00:00:00\",\"2022-03-09T00:00:00\",\"2022-03-10T00:00:00\",\"2022-03-11T00:00:00\",\"2022-03-14T00:00:00\",\"2022-03-15T00:00:00\",\"2022-03-16T00:00:00\",\"2022-03-17T00:00:00\",\"2022-03-18T00:00:00\",\"2022-03-21T00:00:00\",\"2022-03-22T00:00:00\",\"2022-03-23T00:00:00\",\"2022-03-24T00:00:00\",\"2022-03-25T00:00:00\",\"2022-03-28T00:00:00\",\"2022-03-29T00:00:00\",\"2022-03-30T00:00:00\",\"2022-03-31T00:00:00\",\"2022-04-01T00:00:00\",\"2022-04-04T00:00:00\",\"2022-04-05T00:00:00\",\"2022-04-06T00:00:00\",\"2022-04-07T00:00:00\",\"2022-04-08T00:00:00\",\"2022-04-11T00:00:00\",\"2022-04-12T00:00:00\",\"2022-04-13T00:00:00\",\"2022-04-14T00:00:00\",\"2022-04-18T00:00:00\",\"2022-04-19T00:00:00\",\"2022-04-20T00:00:00\",\"2022-04-22T00:00:00\",\"2022-04-25T00:00:00\",\"2022-04-26T00:00:00\",\"2022-04-27T00:00:00\",\"2022-04-28T00:00:00\",\"2022-04-29T00:00:00\",\"2022-05-02T00:00:00\",\"2022-05-03T00:00:00\",\"2022-05-04T00:00:00\",\"2022-05-05T00:00:00\",\"2022-05-06T00:00:00\",\"2022-05-09T00:00:00\",\"2022-05-10T00:00:00\",\"2022-05-11T00:00:00\",\"2022-05-12T00:00:00\",\"2022-05-13T00:00:00\",\"2022-05-16T00:00:00\",\"2022-05-17T00:00:00\",\"2022-05-18T00:00:00\",\"2022-05-19T00:00:00\",\"2022-05-20T00:00:00\",\"2022-05-23T00:00:00\",\"2022-05-24T00:00:00\",\"2022-05-25T00:00:00\",\"2022-05-26T00:00:00\",\"2022-05-27T00:00:00\",\"2022-05-30T00:00:00\",\"2022-05-31T00:00:00\",\"2022-06-01T00:00:00\",\"2022-06-02T00:00:00\",\"2022-06-03T00:00:00\",\"2022-06-06T00:00:00\",\"2022-06-07T00:00:00\",\"2022-06-08T00:00:00\",\"2022-06-09T00:00:00\",\"2022-06-10T00:00:00\",\"2022-06-13T00:00:00\",\"2022-06-14T00:00:00\",\"2022-06-15T00:00:00\",\"2022-06-17T00:00:00\",\"2022-06-20T00:00:00\",\"2022-06-21T00:00:00\",\"2022-06-22T00:00:00\",\"2022-06-23T00:00:00\",\"2022-06-24T00:00:00\",\"2022-06-27T00:00:00\",\"2022-06-28T00:00:00\",\"2022-06-29T00:00:00\",\"2022-06-30T00:00:00\",\"2022-07-01T00:00:00\",\"2022-07-04T00:00:00\",\"2022-07-05T00:00:00\",\"2022-07-06T00:00:00\",\"2022-07-07T00:00:00\",\"2022-07-08T00:00:00\",\"2022-07-11T00:00:00\",\"2022-07-12T00:00:00\",\"2022-07-13T00:00:00\",\"2022-07-14T00:00:00\",\"2022-07-15T00:00:00\",\"2022-07-18T00:00:00\",\"2022-07-19T00:00:00\",\"2022-07-20T00:00:00\",\"2022-07-21T00:00:00\",\"2022-07-22T00:00:00\",\"2022-07-25T00:00:00\",\"2022-07-26T00:00:00\",\"2022-07-27T00:00:00\",\"2022-07-28T00:00:00\",\"2022-07-29T00:00:00\",\"2022-08-01T00:00:00\",\"2022-08-02T00:00:00\",\"2022-08-03T00:00:00\",\"2022-08-04T00:00:00\",\"2022-08-05T00:00:00\",\"2022-08-08T00:00:00\",\"2022-08-09T00:00:00\",\"2022-08-10T00:00:00\",\"2022-08-11T00:00:00\",\"2022-08-12T00:00:00\",\"2022-08-15T00:00:00\",\"2022-08-16T00:00:00\",\"2022-08-17T00:00:00\",\"2022-08-18T00:00:00\",\"2022-08-19T00:00:00\",\"2022-08-22T00:00:00\",\"2022-08-23T00:00:00\",\"2022-08-24T00:00:00\",\"2022-08-25T00:00:00\",\"2022-08-26T00:00:00\",\"2022-08-29T00:00:00\",\"2022-08-30T00:00:00\",\"2022-08-31T00:00:00\",\"2022-09-01T00:00:00\",\"2022-09-02T00:00:00\",\"2022-09-05T00:00:00\",\"2022-09-06T00:00:00\",\"2022-09-08T00:00:00\",\"2022-09-09T00:00:00\",\"2022-09-12T00:00:00\",\"2022-09-13T00:00:00\",\"2022-09-14T00:00:00\",\"2022-09-15T00:00:00\",\"2022-09-16T00:00:00\",\"2022-09-19T00:00:00\",\"2022-09-20T00:00:00\",\"2022-09-21T00:00:00\",\"2022-09-22T00:00:00\",\"2022-09-23T00:00:00\",\"2022-09-26T00:00:00\",\"2022-09-27T00:00:00\",\"2022-09-28T00:00:00\",\"2022-09-29T00:00:00\",\"2022-09-30T00:00:00\",\"2022-10-03T00:00:00\",\"2022-10-04T00:00:00\",\"2022-10-05T00:00:00\",\"2022-10-06T00:00:00\",\"2022-10-07T00:00:00\",\"2022-10-10T00:00:00\",\"2022-10-11T00:00:00\",\"2022-10-13T00:00:00\",\"2022-10-14T00:00:00\",\"2022-10-17T00:00:00\",\"2022-10-18T00:00:00\",\"2022-10-19T00:00:00\",\"2022-10-20T00:00:00\",\"2022-10-21T00:00:00\",\"2022-10-24T00:00:00\",\"2022-10-25T00:00:00\",\"2022-10-26T00:00:00\",\"2022-10-27T00:00:00\",\"2022-10-28T00:00:00\",\"2022-10-31T00:00:00\",\"2022-11-01T00:00:00\",\"2022-11-03T00:00:00\",\"2022-11-04T00:00:00\",\"2022-11-07T00:00:00\",\"2022-11-08T00:00:00\",\"2022-11-09T00:00:00\",\"2022-11-10T00:00:00\",\"2022-11-11T00:00:00\",\"2022-11-14T00:00:00\",\"2022-11-16T00:00:00\",\"2022-11-17T00:00:00\",\"2022-11-18T00:00:00\",\"2022-11-21T00:00:00\",\"2022-11-22T00:00:00\",\"2022-11-23T00:00:00\",\"2022-11-24T00:00:00\",\"2022-11-25T00:00:00\",\"2022-11-28T00:00:00\",\"2022-11-29T00:00:00\",\"2022-11-30T00:00:00\",\"2022-12-01T00:00:00\",\"2022-12-02T00:00:00\",\"2022-12-05T00:00:00\",\"2022-12-06T00:00:00\",\"2022-12-07T00:00:00\",\"2022-12-08T00:00:00\",\"2022-12-09T00:00:00\",\"2022-12-12T00:00:00\",\"2022-12-13T00:00:00\",\"2022-12-14T00:00:00\",\"2022-12-15T00:00:00\",\"2022-12-16T00:00:00\",\"2022-12-19T00:00:00\",\"2022-12-20T00:00:00\",\"2022-12-21T00:00:00\",\"2022-12-22T00:00:00\",\"2022-12-23T00:00:00\",\"2022-12-26T00:00:00\",\"2022-12-27T00:00:00\",\"2022-12-28T00:00:00\",\"2022-12-29T00:00:00\",\"2023-01-02T00:00:00\",\"2023-01-03T00:00:00\",\"2023-01-04T00:00:00\",\"2023-01-05T00:00:00\",\"2023-01-06T00:00:00\",\"2023-01-09T00:00:00\",\"2023-01-10T00:00:00\",\"2023-01-11T00:00:00\",\"2023-01-12T00:00:00\",\"2023-01-13T00:00:00\",\"2023-01-16T00:00:00\",\"2023-01-17T00:00:00\",\"2023-01-18T00:00:00\",\"2023-01-19T00:00:00\",\"2023-01-20T00:00:00\",\"2023-01-23T00:00:00\",\"2023-01-24T00:00:00\",\"2023-01-25T00:00:00\",\"2023-01-26T00:00:00\",\"2023-01-27T00:00:00\",\"2023-01-30T00:00:00\",\"2023-01-31T00:00:00\",\"2023-02-01T00:00:00\",\"2023-02-02T00:00:00\",\"2023-02-03T00:00:00\",\"2023-02-06T00:00:00\",\"2023-02-07T00:00:00\",\"2023-02-08T00:00:00\"],\"type\":\"candlestick\",\"xaxis\":\"x\",\"yaxis\":\"y\"},{\"line\":{\"color\":\"yellow\"},\"mode\":\"lines\",\"name\":\"M\\u00e9dia M\\u00f3vel\",\"x\":[\"2022-02-08T00:00:00\",\"2022-02-09T00:00:00\",\"2022-02-10T00:00:00\",\"2022-02-11T00:00:00\",\"2022-02-14T00:00:00\",\"2022-02-15T00:00:00\",\"2022-02-16T00:00:00\",\"2022-02-17T00:00:00\",\"2022-02-18T00:00:00\",\"2022-02-21T00:00:00\",\"2022-02-22T00:00:00\",\"2022-02-23T00:00:00\",\"2022-02-24T00:00:00\",\"2022-02-25T00:00:00\",\"2022-03-02T00:00:00\",\"2022-03-03T00:00:00\",\"2022-03-04T00:00:00\",\"2022-03-07T00:00:00\",\"2022-03-08T00:00:00\",\"2022-03-09T00:00:00\",\"2022-03-10T00:00:00\",\"2022-03-11T00:00:00\",\"2022-03-14T00:00:00\",\"2022-03-15T00:00:00\",\"2022-03-16T00:00:00\",\"2022-03-17T00:00:00\",\"2022-03-18T00:00:00\",\"2022-03-21T00:00:00\",\"2022-03-22T00:00:00\",\"2022-03-23T00:00:00\",\"2022-03-24T00:00:00\",\"2022-03-25T00:00:00\",\"2022-03-28T00:00:00\",\"2022-03-29T00:00:00\",\"2022-03-30T00:00:00\",\"2022-03-31T00:00:00\",\"2022-04-01T00:00:00\",\"2022-04-04T00:00:00\",\"2022-04-05T00:00:00\",\"2022-04-06T00:00:00\",\"2022-04-07T00:00:00\",\"2022-04-08T00:00:00\",\"2022-04-11T00:00:00\",\"2022-04-12T00:00:00\",\"2022-04-13T00:00:00\",\"2022-04-14T00:00:00\",\"2022-04-18T00:00:00\",\"2022-04-19T00:00:00\",\"2022-04-20T00:00:00\",\"2022-04-22T00:00:00\",\"2022-04-25T00:00:00\",\"2022-04-26T00:00:00\",\"2022-04-27T00:00:00\",\"2022-04-28T00:00:00\",\"2022-04-29T00:00:00\",\"2022-05-02T00:00:00\",\"2022-05-03T00:00:00\",\"2022-05-04T00:00:00\",\"2022-05-05T00:00:00\",\"2022-05-06T00:00:00\",\"2022-05-09T00:00:00\",\"2022-05-10T00:00:00\",\"2022-05-11T00:00:00\",\"2022-05-12T00:00:00\",\"2022-05-13T00:00:00\",\"2022-05-16T00:00:00\",\"2022-05-17T00:00:00\",\"2022-05-18T00:00:00\",\"2022-05-19T00:00:00\",\"2022-05-20T00:00:00\",\"2022-05-23T00:00:00\",\"2022-05-24T00:00:00\",\"2022-05-25T00:00:00\",\"2022-05-26T00:00:00\",\"2022-05-27T00:00:00\",\"2022-05-30T00:00:00\",\"2022-05-31T00:00:00\",\"2022-06-01T00:00:00\",\"2022-06-02T00:00:00\",\"2022-06-03T00:00:00\",\"2022-06-06T00:00:00\",\"2022-06-07T00:00:00\",\"2022-06-08T00:00:00\",\"2022-06-09T00:00:00\",\"2022-06-10T00:00:00\",\"2022-06-13T00:00:00\",\"2022-06-14T00:00:00\",\"2022-06-15T00:00:00\",\"2022-06-17T00:00:00\",\"2022-06-20T00:00:00\",\"2022-06-21T00:00:00\",\"2022-06-22T00:00:00\",\"2022-06-23T00:00:00\",\"2022-06-24T00:00:00\",\"2022-06-27T00:00:00\",\"2022-06-28T00:00:00\",\"2022-06-29T00:00:00\",\"2022-06-30T00:00:00\",\"2022-07-01T00:00:00\",\"2022-07-04T00:00:00\",\"2022-07-05T00:00:00\",\"2022-07-06T00:00:00\",\"2022-07-07T00:00:00\",\"2022-07-08T00:00:00\",\"2022-07-11T00:00:00\",\"2022-07-12T00:00:00\",\"2022-07-13T00:00:00\",\"2022-07-14T00:00:00\",\"2022-07-15T00:00:00\",\"2022-07-18T00:00:00\",\"2022-07-19T00:00:00\",\"2022-07-20T00:00:00\",\"2022-07-21T00:00:00\",\"2022-07-22T00:00:00\",\"2022-07-25T00:00:00\",\"2022-07-26T00:00:00\",\"2022-07-27T00:00:00\",\"2022-07-28T00:00:00\",\"2022-07-29T00:00:00\",\"2022-08-01T00:00:00\",\"2022-08-02T00:00:00\",\"2022-08-03T00:00:00\",\"2022-08-04T00:00:00\",\"2022-08-05T00:00:00\",\"2022-08-08T00:00:00\",\"2022-08-09T00:00:00\",\"2022-08-10T00:00:00\",\"2022-08-11T00:00:00\",\"2022-08-12T00:00:00\",\"2022-08-15T00:00:00\",\"2022-08-16T00:00:00\",\"2022-08-17T00:00:00\",\"2022-08-18T00:00:00\",\"2022-08-19T00:00:00\",\"2022-08-22T00:00:00\",\"2022-08-23T00:00:00\",\"2022-08-24T00:00:00\",\"2022-08-25T00:00:00\",\"2022-08-26T00:00:00\",\"2022-08-29T00:00:00\",\"2022-08-30T00:00:00\",\"2022-08-31T00:00:00\",\"2022-09-01T00:00:00\",\"2022-09-02T00:00:00\",\"2022-09-05T00:00:00\",\"2022-09-06T00:00:00\",\"2022-09-08T00:00:00\",\"2022-09-09T00:00:00\",\"2022-09-12T00:00:00\",\"2022-09-13T00:00:00\",\"2022-09-14T00:00:00\",\"2022-09-15T00:00:00\",\"2022-09-16T00:00:00\",\"2022-09-19T00:00:00\",\"2022-09-20T00:00:00\",\"2022-09-21T00:00:00\",\"2022-09-22T00:00:00\",\"2022-09-23T00:00:00\",\"2022-09-26T00:00:00\",\"2022-09-27T00:00:00\",\"2022-09-28T00:00:00\",\"2022-09-29T00:00:00\",\"2022-09-30T00:00:00\",\"2022-10-03T00:00:00\",\"2022-10-04T00:00:00\",\"2022-10-05T00:00:00\",\"2022-10-06T00:00:00\",\"2022-10-07T00:00:00\",\"2022-10-10T00:00:00\",\"2022-10-11T00:00:00\",\"2022-10-13T00:00:00\",\"2022-10-14T00:00:00\",\"2022-10-17T00:00:00\",\"2022-10-18T00:00:00\",\"2022-10-19T00:00:00\",\"2022-10-20T00:00:00\",\"2022-10-21T00:00:00\",\"2022-10-24T00:00:00\",\"2022-10-25T00:00:00\",\"2022-10-26T00:00:00\",\"2022-10-27T00:00:00\",\"2022-10-28T00:00:00\",\"2022-10-31T00:00:00\",\"2022-11-01T00:00:00\",\"2022-11-03T00:00:00\",\"2022-11-04T00:00:00\",\"2022-11-07T00:00:00\",\"2022-11-08T00:00:00\",\"2022-11-09T00:00:00\",\"2022-11-10T00:00:00\",\"2022-11-11T00:00:00\",\"2022-11-14T00:00:00\",\"2022-11-16T00:00:00\",\"2022-11-17T00:00:00\",\"2022-11-18T00:00:00\",\"2022-11-21T00:00:00\",\"2022-11-22T00:00:00\",\"2022-11-23T00:00:00\",\"2022-11-24T00:00:00\",\"2022-11-25T00:00:00\",\"2022-11-28T00:00:00\",\"2022-11-29T00:00:00\",\"2022-11-30T00:00:00\",\"2022-12-01T00:00:00\",\"2022-12-02T00:00:00\",\"2022-12-05T00:00:00\",\"2022-12-06T00:00:00\",\"2022-12-07T00:00:00\",\"2022-12-08T00:00:00\",\"2022-12-09T00:00:00\",\"2022-12-12T00:00:00\",\"2022-12-13T00:00:00\",\"2022-12-14T00:00:00\",\"2022-12-15T00:00:00\",\"2022-12-16T00:00:00\",\"2022-12-19T00:00:00\",\"2022-12-20T00:00:00\",\"2022-12-21T00:00:00\",\"2022-12-22T00:00:00\",\"2022-12-23T00:00:00\",\"2022-12-26T00:00:00\",\"2022-12-27T00:00:00\",\"2022-12-28T00:00:00\",\"2022-12-29T00:00:00\",\"2023-01-02T00:00:00\",\"2023-01-03T00:00:00\",\"2023-01-04T00:00:00\",\"2023-01-05T00:00:00\",\"2023-01-06T00:00:00\",\"2023-01-09T00:00:00\",\"2023-01-10T00:00:00\",\"2023-01-11T00:00:00\",\"2023-01-12T00:00:00\",\"2023-01-13T00:00:00\",\"2023-01-16T00:00:00\",\"2023-01-17T00:00:00\",\"2023-01-18T00:00:00\",\"2023-01-19T00:00:00\",\"2023-01-20T00:00:00\",\"2023-01-23T00:00:00\",\"2023-01-24T00:00:00\",\"2023-01-25T00:00:00\",\"2023-01-26T00:00:00\",\"2023-01-27T00:00:00\",\"2023-01-30T00:00:00\",\"2023-01-31T00:00:00\",\"2023-02-01T00:00:00\",\"2023-02-02T00:00:00\",\"2023-02-03T00:00:00\",\"2023-02-06T00:00:00\",\"2023-02-07T00:00:00\",\"2023-02-08T00:00:00\"],\"y\":[null,null,null,null,30.044000244140626,30.576000595092772,30.778000259399413,30.960000228881835,31.01599998474121,30.83199996948242,30.161999893188476,29.62200012207031,29.3560001373291,29.27400016784668,29.420000076293945,29.763999938964844,30.345999908447265,30.697999954223633,31.131999969482422,31.615999603271483,31.70999946594238,31.6859992980957,31.673999404907228,31.399999618530273,31.261999893188477,31.5379997253418,31.91800003051758,32.22399978637695,32.783999633789065,32.9379997253418,32.944000244140625,32.8620002746582,33.072000122070314,33.262000274658206,33.54200057983398,33.89000015258789,34.39000015258789,34.6740005493164,34.810000610351565,34.84600067138672,34.69600067138672,34.44800033569336,33.954000091552736,33.50199966430664,33.1479995727539,32.78199996948242,32.33600006103516,32.10000038146973,31.910000610351563,31.660000228881835,31.4439998626709,31.05799980163574,31.109999465942384,31.051999282836913,30.809999465942383,30.355999755859376,30.04199981689453,29.504000091552733,28.910000228881835,28.320000076293944,27.863999938964845,27.4060001373291,26.838000106811524,26.488000106811523,26.358000183105467,26.26600036621094,26.42400016784668,26.49000015258789,26.31400032043457,26.2120002746582,26.286000061035157,26.120000076293945,25.895999908447266,25.931999588012694,25.97799949645996,25.771999740600585,25.629999923706055,25.809999847412108,25.93400001525879,25.87400016784668,25.961999893188477,26.077999877929688,25.71800003051758,25.3560001373291,24.972000122070312,24.54000015258789,24.2,24.118000030517578,23.779999923706054,23.8,24.095999908447265,24.404000091552735,24.786000061035157,25.511999893188477,25.87799987792969,26.047999954223634,26.095999908447265,26.204000091552736,26.2120002746582,26.32400016784668,26.49800033569336,26.7120002746582,26.944000244140625,27.09800033569336,27.116000366210937,27.030000305175783,26.956000137329102,26.713999938964843,26.56999969482422,26.477999877929687,26.551999664306642,26.403999710083006,26.189999771118163,26.047999954223634,26.11999969482422,25.96800003051758,26.144000244140624,26.66400032043457,27.10400047302246,27.384000396728517,27.820000076293944,28.070000076293944,28.245999908447267,28.403999710083006,28.773999786376955,29.013999938964844,29.52599983215332,29.789999771118165,30.203999710083007,30.32599983215332,30.527999877929688,30.477999877929687,30.620000076293945,30.410000228881835,30.132000350952147,29.77400016784668,29.44600028991699,29.068000411987306,28.860000228881837,28.744000244140626,28.662000274658205,28.562000274658203,28.447999954223633,28.727999877929687,29.23399963378906,29.613999938964845,29.997999572753905,30.411999893188476,30.729999923706053,30.672000122070312,30.738000106811523,30.698000335693358,30.704000091552736,30.46400032043457,30.568000030517577,30.679999923706056,30.879999923706055,30.897999954223632,30.891999816894533,30.67599983215332,30.503999710083008,30.32999954223633,30.64399948120117,31.245999908447267,31.884000396728517,32.55400009155274,33.27200012207031,33.513999938964844,33.65199966430664,33.783999633789065,33.74400024414062,33.57000045776367,33.62200088500977,33.68000106811523,33.83000106811524,34.06800079345703,34.53600082397461,34.79800033569336,34.895999908447266,35.56199951171875,36.395999908447266,37.05,38.12200012207031,38.99400024414062,39.43800048828125,39.831999969482425,40.31800003051758,40.422000122070315,40.65999984741211,40.465999603271484,40.30400009155274,40.25599975585938,39.837999725341795,39.62799987792969,39.6379997253418,39.5379997253418,39.18600006103516,39.23199996948242,39.273999786376955,39.237999725341794,38.83999938964844,38.60199890136719,38.61399917602539,38.32399978637695,38.236000061035156,38.25599975585938,38.25599975585938,37.907999420166014,37.6859992980957,37.3739990234375,37.067999267578124,36.683999633789064,36.64400024414063,36.62000045776367,36.69000091552734,37.10000076293945,37.62800064086914,37.896000671386716,38.26800003051758,38.47799987792969,38.491999816894534,38.407999420166014,38.46799926757812,38.38199920654297,38.301998901367185,38.09399948120117,37.97200012207031,37.72799987792969,37.63199996948242,37.59599990844727,37.67599945068359,37.91599884033203,38.1219985961914,38.30999908447266,38.26399917602539,38.41599960327149,38.294000244140626,38.1740005493164,37.84600067138672,37.78200073242188,37.5620002746582,37.70800018310547,37.76800003051758,37.88399963378906,37.87999954223633,38.08600006103516,38.01999969482422,37.986000061035156,37.986000061035156,38.03000030517578,37.91599960327149,37.805999755859375],\"type\":\"scatter\",\"xaxis\":\"x\",\"yaxis\":\"y\"},{\"line\":{\"color\":\"green\"},\"mode\":\"lines\",\"name\":\"Fechamento\",\"x\":[\"2022-02-08T00:00:00\",\"2022-02-09T00:00:00\",\"2022-02-10T00:00:00\",\"2022-02-11T00:00:00\",\"2022-02-14T00:00:00\",\"2022-02-15T00:00:00\",\"2022-02-16T00:00:00\",\"2022-02-17T00:00:00\",\"2022-02-18T00:00:00\",\"2022-02-21T00:00:00\",\"2022-02-22T00:00:00\",\"2022-02-23T00:00:00\",\"2022-02-24T00:00:00\",\"2022-02-25T00:00:00\",\"2022-03-02T00:00:00\",\"2022-03-03T00:00:00\",\"2022-03-04T00:00:00\",\"2022-03-07T00:00:00\",\"2022-03-08T00:00:00\",\"2022-03-09T00:00:00\",\"2022-03-10T00:00:00\",\"2022-03-11T00:00:00\",\"2022-03-14T00:00:00\",\"2022-03-15T00:00:00\",\"2022-03-16T00:00:00\",\"2022-03-17T00:00:00\",\"2022-03-18T00:00:00\",\"2022-03-21T00:00:00\",\"2022-03-22T00:00:00\",\"2022-03-23T00:00:00\",\"2022-03-24T00:00:00\",\"2022-03-25T00:00:00\",\"2022-03-28T00:00:00\",\"2022-03-29T00:00:00\",\"2022-03-30T00:00:00\",\"2022-03-31T00:00:00\",\"2022-04-01T00:00:00\",\"2022-04-04T00:00:00\",\"2022-04-05T00:00:00\",\"2022-04-06T00:00:00\",\"2022-04-07T00:00:00\",\"2022-04-08T00:00:00\",\"2022-04-11T00:00:00\",\"2022-04-12T00:00:00\",\"2022-04-13T00:00:00\",\"2022-04-14T00:00:00\",\"2022-04-18T00:00:00\",\"2022-04-19T00:00:00\",\"2022-04-20T00:00:00\",\"2022-04-22T00:00:00\",\"2022-04-25T00:00:00\",\"2022-04-26T00:00:00\",\"2022-04-27T00:00:00\",\"2022-04-28T00:00:00\",\"2022-04-29T00:00:00\",\"2022-05-02T00:00:00\",\"2022-05-03T00:00:00\",\"2022-05-04T00:00:00\",\"2022-05-05T00:00:00\",\"2022-05-06T00:00:00\",\"2022-05-09T00:00:00\",\"2022-05-10T00:00:00\",\"2022-05-11T00:00:00\",\"2022-05-12T00:00:00\",\"2022-05-13T00:00:00\",\"2022-05-16T00:00:00\",\"2022-05-17T00:00:00\",\"2022-05-18T00:00:00\",\"2022-05-19T00:00:00\",\"2022-05-20T00:00:00\",\"2022-05-23T00:00:00\",\"2022-05-24T00:00:00\",\"2022-05-25T00:00:00\",\"2022-05-26T00:00:00\",\"2022-05-27T00:00:00\",\"2022-05-30T00:00:00\",\"2022-05-31T00:00:00\",\"2022-06-01T00:00:00\",\"2022-06-02T00:00:00\",\"2022-06-03T00:00:00\",\"2022-06-06T00:00:00\",\"2022-06-07T00:00:00\",\"2022-06-08T00:00:00\",\"2022-06-09T00:00:00\",\"2022-06-10T00:00:00\",\"2022-06-13T00:00:00\",\"2022-06-14T00:00:00\",\"2022-06-15T00:00:00\",\"2022-06-17T00:00:00\",\"2022-06-20T00:00:00\",\"2022-06-21T00:00:00\",\"2022-06-22T00:00:00\",\"2022-06-23T00:00:00\",\"2022-06-24T00:00:00\",\"2022-06-27T00:00:00\",\"2022-06-28T00:00:00\",\"2022-06-29T00:00:00\",\"2022-06-30T00:00:00\",\"2022-07-01T00:00:00\",\"2022-07-04T00:00:00\",\"2022-07-05T00:00:00\",\"2022-07-06T00:00:00\",\"2022-07-07T00:00:00\",\"2022-07-08T00:00:00\",\"2022-07-11T00:00:00\",\"2022-07-12T00:00:00\",\"2022-07-13T00:00:00\",\"2022-07-14T00:00:00\",\"2022-07-15T00:00:00\",\"2022-07-18T00:00:00\",\"2022-07-19T00:00:00\",\"2022-07-20T00:00:00\",\"2022-07-21T00:00:00\",\"2022-07-22T00:00:00\",\"2022-07-25T00:00:00\",\"2022-07-26T00:00:00\",\"2022-07-27T00:00:00\",\"2022-07-28T00:00:00\",\"2022-07-29T00:00:00\",\"2022-08-01T00:00:00\",\"2022-08-02T00:00:00\",\"2022-08-03T00:00:00\",\"2022-08-04T00:00:00\",\"2022-08-05T00:00:00\",\"2022-08-08T00:00:00\",\"2022-08-09T00:00:00\",\"2022-08-10T00:00:00\",\"2022-08-11T00:00:00\",\"2022-08-12T00:00:00\",\"2022-08-15T00:00:00\",\"2022-08-16T00:00:00\",\"2022-08-17T00:00:00\",\"2022-08-18T00:00:00\",\"2022-08-19T00:00:00\",\"2022-08-22T00:00:00\",\"2022-08-23T00:00:00\",\"2022-08-24T00:00:00\",\"2022-08-25T00:00:00\",\"2022-08-26T00:00:00\",\"2022-08-29T00:00:00\",\"2022-08-30T00:00:00\",\"2022-08-31T00:00:00\",\"2022-09-01T00:00:00\",\"2022-09-02T00:00:00\",\"2022-09-05T00:00:00\",\"2022-09-06T00:00:00\",\"2022-09-08T00:00:00\",\"2022-09-09T00:00:00\",\"2022-09-12T00:00:00\",\"2022-09-13T00:00:00\",\"2022-09-14T00:00:00\",\"2022-09-15T00:00:00\",\"2022-09-16T00:00:00\",\"2022-09-19T00:00:00\",\"2022-09-20T00:00:00\",\"2022-09-21T00:00:00\",\"2022-09-22T00:00:00\",\"2022-09-23T00:00:00\",\"2022-09-26T00:00:00\",\"2022-09-27T00:00:00\",\"2022-09-28T00:00:00\",\"2022-09-29T00:00:00\",\"2022-09-30T00:00:00\",\"2022-10-03T00:00:00\",\"2022-10-04T00:00:00\",\"2022-10-05T00:00:00\",\"2022-10-06T00:00:00\",\"2022-10-07T00:00:00\",\"2022-10-10T00:00:00\",\"2022-10-11T00:00:00\",\"2022-10-13T00:00:00\",\"2022-10-14T00:00:00\",\"2022-10-17T00:00:00\",\"2022-10-18T00:00:00\",\"2022-10-19T00:00:00\",\"2022-10-20T00:00:00\",\"2022-10-21T00:00:00\",\"2022-10-24T00:00:00\",\"2022-10-25T00:00:00\",\"2022-10-26T00:00:00\",\"2022-10-27T00:00:00\",\"2022-10-28T00:00:00\",\"2022-10-31T00:00:00\",\"2022-11-01T00:00:00\",\"2022-11-03T00:00:00\",\"2022-11-04T00:00:00\",\"2022-11-07T00:00:00\",\"2022-11-08T00:00:00\",\"2022-11-09T00:00:00\",\"2022-11-10T00:00:00\",\"2022-11-11T00:00:00\",\"2022-11-14T00:00:00\",\"2022-11-16T00:00:00\",\"2022-11-17T00:00:00\",\"2022-11-18T00:00:00\",\"2022-11-21T00:00:00\",\"2022-11-22T00:00:00\",\"2022-11-23T00:00:00\",\"2022-11-24T00:00:00\",\"2022-11-25T00:00:00\",\"2022-11-28T00:00:00\",\"2022-11-29T00:00:00\",\"2022-11-30T00:00:00\",\"2022-12-01T00:00:00\",\"2022-12-02T00:00:00\",\"2022-12-05T00:00:00\",\"2022-12-06T00:00:00\",\"2022-12-07T00:00:00\",\"2022-12-08T00:00:00\",\"2022-12-09T00:00:00\",\"2022-12-12T00:00:00\",\"2022-12-13T00:00:00\",\"2022-12-14T00:00:00\",\"2022-12-15T00:00:00\",\"2022-12-16T00:00:00\",\"2022-12-19T00:00:00\",\"2022-12-20T00:00:00\",\"2022-12-21T00:00:00\",\"2022-12-22T00:00:00\",\"2022-12-23T00:00:00\",\"2022-12-26T00:00:00\",\"2022-12-27T00:00:00\",\"2022-12-28T00:00:00\",\"2022-12-29T00:00:00\",\"2023-01-02T00:00:00\",\"2023-01-03T00:00:00\",\"2023-01-04T00:00:00\",\"2023-01-05T00:00:00\",\"2023-01-06T00:00:00\",\"2023-01-09T00:00:00\",\"2023-01-10T00:00:00\",\"2023-01-11T00:00:00\",\"2023-01-12T00:00:00\",\"2023-01-13T00:00:00\",\"2023-01-16T00:00:00\",\"2023-01-17T00:00:00\",\"2023-01-18T00:00:00\",\"2023-01-19T00:00:00\",\"2023-01-20T00:00:00\",\"2023-01-23T00:00:00\",\"2023-01-24T00:00:00\",\"2023-01-25T00:00:00\",\"2023-01-26T00:00:00\",\"2023-01-27T00:00:00\",\"2023-01-30T00:00:00\",\"2023-01-31T00:00:00\",\"2023-02-01T00:00:00\",\"2023-02-02T00:00:00\",\"2023-02-03T00:00:00\",\"2023-02-06T00:00:00\",\"2023-02-07T00:00:00\",\"2023-02-08T00:00:00\"],\"y\":[30.219999313354492,30.290000915527344,29.739999771118164,29.530000686645508,30.440000534057617,32.880001068115234,31.299999237060547,30.649999618530273,29.809999465942383,29.520000457763672,29.530000686645508,28.600000381469727,29.31999969482422,29.399999618530273,30.25,31.25,31.510000228881836,31.079999923706055,31.56999969482422,32.66999816894531,31.719999313354492,31.389999389648438,31.020000457763672,30.200000762939453,31.979999542236328,33.099998474121094,33.290000915527344,32.54999923706055,33.0,32.75,33.130001068115234,32.880001068115234,33.599998474121094,33.95000076293945,34.150001525878906,34.869998931884766,35.380001068115234,35.02000045776367,34.630001068115234,34.33000183105469,34.119998931884766,34.13999938964844,32.54999923706055,32.369998931884766,32.560001373291016,32.290000915527344,31.90999984741211,31.3700008392334,31.420000076293945,31.309999465942383,31.209999084472656,29.979999542236328,31.6299991607666,31.1299991607666,30.100000381469727,28.940000534057617,28.40999984741211,28.940000534057617,28.15999984741211,27.149999618530273,26.65999984741211,26.1200008392334,26.100000381469727,26.40999984741211,26.5,26.200000762939453,26.90999984741211,26.43000030517578,25.530000686645508,25.989999771118164,26.56999969482422,26.079999923706055,25.309999465942383,25.709999084472656,26.219999313354492,25.540000915527344,25.3700008392334,26.209999084472656,26.329999923706055,25.920000076293945,25.979999542236328,25.950000762939453,24.40999984741211,24.520000457763672,24.0,23.81999969482422,24.25,24.0,22.829999923706055,24.100000381469727,25.299999237060547,25.790000915527344,25.90999984741211,26.459999084472656,25.93000030517578,26.149999618530273,26.030000686645508,26.450000762939453,26.5,26.489999771118164,27.020000457763672,27.100000381469727,27.610000610351562,27.270000457763672,26.579999923706055,26.59000015258789,26.729999542236328,26.399999618530273,26.549999237060547,26.1200008392334,26.959999084472656,25.989999771118164,25.329999923706055,25.84000015258789,26.479999542236328,26.200000762939453,26.8700008392334,27.93000030517578,28.040000915527344,27.8799991607666,28.3799991607666,28.1200008392334,28.809999465942383,28.829999923706055,29.729999542236328,29.579999923706055,30.68000030517578,30.1299991607666,30.899999618530273,30.34000015258789,30.59000015258789,30.43000030517578,30.84000015258789,29.850000381469727,28.950000762939453,28.799999237060547,28.790000915527344,28.950000762939453,28.809999465942383,28.3700008392334,28.389999389648438,28.290000915527344,28.3799991607666,30.209999084472656,30.899999618530273,30.290000915527344,30.209999084472656,30.450000762939453,31.799999237060547,30.610000610351562,30.6200008392334,30.010000228881836,30.479999542236328,30.600000381469727,31.1299991607666,31.18000030517578,31.010000228881836,30.56999969482422,30.56999969482422,30.049999237060547,30.31999969482422,30.139999389648438,32.13999938964844,33.58000183105469,33.2400016784668,33.66999816894531,33.72999954223633,33.349998474121094,34.27000045776367,33.900001525878906,33.470001220703125,32.86000061035156,33.61000061035156,34.560001373291016,34.650001525878906,34.65999984741211,35.20000076293945,34.91999816894531,35.04999923706055,37.97999954223633,38.83000183105469,38.470001220703125,40.279998779296875,39.40999984741211,40.20000076293945,40.79999923706055,40.900001525878906,40.79999923706055,40.599998474121094,39.22999954223633,39.9900016784668,40.65999984741211,38.709999084472656,39.54999923706055,39.279998779296875,39.4900016784668,38.900001525878906,38.939998626708984,39.7599983215332,39.099998474121094,37.5,37.709999084472656,39.0,38.310001373291016,38.65999984741211,37.599998474121094,37.709999084472656,37.2599983215332,37.20000076293945,37.099998474121094,36.06999969482422,35.790000915527344,37.060001373291016,37.08000183105469,37.45000076293945,38.119998931884766,38.43000030517578,38.400001525878906,38.939998626708984,38.5,38.189998626708984,38.0099983215332,38.70000076293945,38.5099983215332,38.099998474121094,37.150001525878906,37.400001525878906,37.47999954223633,38.029998779296875,37.91999816894531,37.54999923706055,38.599998474121094,38.5099983215332,38.970001220703125,37.689998626708984,38.310001373291016,37.9900016784668,37.90999984741211,37.33000183105469,37.369998931884766,37.209999084472656,38.720001220703125,38.209999084472656,37.90999984741211,37.349998474121094,38.2400016784668,38.38999938964844,38.040000915527344,37.90999984741211,37.56999969482422,37.66999816894531,37.84000015258789],\"type\":\"scatter\",\"xaxis\":\"x2\",\"yaxis\":\"y2\"},{\"line\":{\"color\":\"red\"},\"mode\":\"lines\",\"name\":\"M\\u00e9dia M\\u00f3vel\",\"x\":[\"2022-02-08T00:00:00\",\"2022-02-09T00:00:00\",\"2022-02-10T00:00:00\",\"2022-02-11T00:00:00\",\"2022-02-14T00:00:00\",\"2022-02-15T00:00:00\",\"2022-02-16T00:00:00\",\"2022-02-17T00:00:00\",\"2022-02-18T00:00:00\",\"2022-02-21T00:00:00\",\"2022-02-22T00:00:00\",\"2022-02-23T00:00:00\",\"2022-02-24T00:00:00\",\"2022-02-25T00:00:00\",\"2022-03-02T00:00:00\",\"2022-03-03T00:00:00\",\"2022-03-04T00:00:00\",\"2022-03-07T00:00:00\",\"2022-03-08T00:00:00\",\"2022-03-09T00:00:00\",\"2022-03-10T00:00:00\",\"2022-03-11T00:00:00\",\"2022-03-14T00:00:00\",\"2022-03-15T00:00:00\",\"2022-03-16T00:00:00\",\"2022-03-17T00:00:00\",\"2022-03-18T00:00:00\",\"2022-03-21T00:00:00\",\"2022-03-22T00:00:00\",\"2022-03-23T00:00:00\",\"2022-03-24T00:00:00\",\"2022-03-25T00:00:00\",\"2022-03-28T00:00:00\",\"2022-03-29T00:00:00\",\"2022-03-30T00:00:00\",\"2022-03-31T00:00:00\",\"2022-04-01T00:00:00\",\"2022-04-04T00:00:00\",\"2022-04-05T00:00:00\",\"2022-04-06T00:00:00\",\"2022-04-07T00:00:00\",\"2022-04-08T00:00:00\",\"2022-04-11T00:00:00\",\"2022-04-12T00:00:00\",\"2022-04-13T00:00:00\",\"2022-04-14T00:00:00\",\"2022-04-18T00:00:00\",\"2022-04-19T00:00:00\",\"2022-04-20T00:00:00\",\"2022-04-22T00:00:00\",\"2022-04-25T00:00:00\",\"2022-04-26T00:00:00\",\"2022-04-27T00:00:00\",\"2022-04-28T00:00:00\",\"2022-04-29T00:00:00\",\"2022-05-02T00:00:00\",\"2022-05-03T00:00:00\",\"2022-05-04T00:00:00\",\"2022-05-05T00:00:00\",\"2022-05-06T00:00:00\",\"2022-05-09T00:00:00\",\"2022-05-10T00:00:00\",\"2022-05-11T00:00:00\",\"2022-05-12T00:00:00\",\"2022-05-13T00:00:00\",\"2022-05-16T00:00:00\",\"2022-05-17T00:00:00\",\"2022-05-18T00:00:00\",\"2022-05-19T00:00:00\",\"2022-05-20T00:00:00\",\"2022-05-23T00:00:00\",\"2022-05-24T00:00:00\",\"2022-05-25T00:00:00\",\"2022-05-26T00:00:00\",\"2022-05-27T00:00:00\",\"2022-05-30T00:00:00\",\"2022-05-31T00:00:00\",\"2022-06-01T00:00:00\",\"2022-06-02T00:00:00\",\"2022-06-03T00:00:00\",\"2022-06-06T00:00:00\",\"2022-06-07T00:00:00\",\"2022-06-08T00:00:00\",\"2022-06-09T00:00:00\",\"2022-06-10T00:00:00\",\"2022-06-13T00:00:00\",\"2022-06-14T00:00:00\",\"2022-06-15T00:00:00\",\"2022-06-17T00:00:00\",\"2022-06-20T00:00:00\",\"2022-06-21T00:00:00\",\"2022-06-22T00:00:00\",\"2022-06-23T00:00:00\",\"2022-06-24T00:00:00\",\"2022-06-27T00:00:00\",\"2022-06-28T00:00:00\",\"2022-06-29T00:00:00\",\"2022-06-30T00:00:00\",\"2022-07-01T00:00:00\",\"2022-07-04T00:00:00\",\"2022-07-05T00:00:00\",\"2022-07-06T00:00:00\",\"2022-07-07T00:00:00\",\"2022-07-08T00:00:00\",\"2022-07-11T00:00:00\",\"2022-07-12T00:00:00\",\"2022-07-13T00:00:00\",\"2022-07-14T00:00:00\",\"2022-07-15T00:00:00\",\"2022-07-18T00:00:00\",\"2022-07-19T00:00:00\",\"2022-07-20T00:00:00\",\"2022-07-21T00:00:00\",\"2022-07-22T00:00:00\",\"2022-07-25T00:00:00\",\"2022-07-26T00:00:00\",\"2022-07-27T00:00:00\",\"2022-07-28T00:00:00\",\"2022-07-29T00:00:00\",\"2022-08-01T00:00:00\",\"2022-08-02T00:00:00\",\"2022-08-03T00:00:00\",\"2022-08-04T00:00:00\",\"2022-08-05T00:00:00\",\"2022-08-08T00:00:00\",\"2022-08-09T00:00:00\",\"2022-08-10T00:00:00\",\"2022-08-11T00:00:00\",\"2022-08-12T00:00:00\",\"2022-08-15T00:00:00\",\"2022-08-16T00:00:00\",\"2022-08-17T00:00:00\",\"2022-08-18T00:00:00\",\"2022-08-19T00:00:00\",\"2022-08-22T00:00:00\",\"2022-08-23T00:00:00\",\"2022-08-24T00:00:00\",\"2022-08-25T00:00:00\",\"2022-08-26T00:00:00\",\"2022-08-29T00:00:00\",\"2022-08-30T00:00:00\",\"2022-08-31T00:00:00\",\"2022-09-01T00:00:00\",\"2022-09-02T00:00:00\",\"2022-09-05T00:00:00\",\"2022-09-06T00:00:00\",\"2022-09-08T00:00:00\",\"2022-09-09T00:00:00\",\"2022-09-12T00:00:00\",\"2022-09-13T00:00:00\",\"2022-09-14T00:00:00\",\"2022-09-15T00:00:00\",\"2022-09-16T00:00:00\",\"2022-09-19T00:00:00\",\"2022-09-20T00:00:00\",\"2022-09-21T00:00:00\",\"2022-09-22T00:00:00\",\"2022-09-23T00:00:00\",\"2022-09-26T00:00:00\",\"2022-09-27T00:00:00\",\"2022-09-28T00:00:00\",\"2022-09-29T00:00:00\",\"2022-09-30T00:00:00\",\"2022-10-03T00:00:00\",\"2022-10-04T00:00:00\",\"2022-10-05T00:00:00\",\"2022-10-06T00:00:00\",\"2022-10-07T00:00:00\",\"2022-10-10T00:00:00\",\"2022-10-11T00:00:00\",\"2022-10-13T00:00:00\",\"2022-10-14T00:00:00\",\"2022-10-17T00:00:00\",\"2022-10-18T00:00:00\",\"2022-10-19T00:00:00\",\"2022-10-20T00:00:00\",\"2022-10-21T00:00:00\",\"2022-10-24T00:00:00\",\"2022-10-25T00:00:00\",\"2022-10-26T00:00:00\",\"2022-10-27T00:00:00\",\"2022-10-28T00:00:00\",\"2022-10-31T00:00:00\",\"2022-11-01T00:00:00\",\"2022-11-03T00:00:00\",\"2022-11-04T00:00:00\",\"2022-11-07T00:00:00\",\"2022-11-08T00:00:00\",\"2022-11-09T00:00:00\",\"2022-11-10T00:00:00\",\"2022-11-11T00:00:00\",\"2022-11-14T00:00:00\",\"2022-11-16T00:00:00\",\"2022-11-17T00:00:00\",\"2022-11-18T00:00:00\",\"2022-11-21T00:00:00\",\"2022-11-22T00:00:00\",\"2022-11-23T00:00:00\",\"2022-11-24T00:00:00\",\"2022-11-25T00:00:00\",\"2022-11-28T00:00:00\",\"2022-11-29T00:00:00\",\"2022-11-30T00:00:00\",\"2022-12-01T00:00:00\",\"2022-12-02T00:00:00\",\"2022-12-05T00:00:00\",\"2022-12-06T00:00:00\",\"2022-12-07T00:00:00\",\"2022-12-08T00:00:00\",\"2022-12-09T00:00:00\",\"2022-12-12T00:00:00\",\"2022-12-13T00:00:00\",\"2022-12-14T00:00:00\",\"2022-12-15T00:00:00\",\"2022-12-16T00:00:00\",\"2022-12-19T00:00:00\",\"2022-12-20T00:00:00\",\"2022-12-21T00:00:00\",\"2022-12-22T00:00:00\",\"2022-12-23T00:00:00\",\"2022-12-26T00:00:00\",\"2022-12-27T00:00:00\",\"2022-12-28T00:00:00\",\"2022-12-29T00:00:00\",\"2023-01-02T00:00:00\",\"2023-01-03T00:00:00\",\"2023-01-04T00:00:00\",\"2023-01-05T00:00:00\",\"2023-01-06T00:00:00\",\"2023-01-09T00:00:00\",\"2023-01-10T00:00:00\",\"2023-01-11T00:00:00\",\"2023-01-12T00:00:00\",\"2023-01-13T00:00:00\",\"2023-01-16T00:00:00\",\"2023-01-17T00:00:00\",\"2023-01-18T00:00:00\",\"2023-01-19T00:00:00\",\"2023-01-20T00:00:00\",\"2023-01-23T00:00:00\",\"2023-01-24T00:00:00\",\"2023-01-25T00:00:00\",\"2023-01-26T00:00:00\",\"2023-01-27T00:00:00\",\"2023-01-30T00:00:00\",\"2023-01-31T00:00:00\",\"2023-02-01T00:00:00\",\"2023-02-02T00:00:00\",\"2023-02-03T00:00:00\",\"2023-02-06T00:00:00\",\"2023-02-07T00:00:00\",\"2023-02-08T00:00:00\"],\"y\":[null,null,null,null,30.044000244140626,30.576000595092772,30.778000259399413,30.960000228881835,31.01599998474121,30.83199996948242,30.161999893188476,29.62200012207031,29.3560001373291,29.27400016784668,29.420000076293945,29.763999938964844,30.345999908447265,30.697999954223633,31.131999969482422,31.615999603271483,31.70999946594238,31.6859992980957,31.673999404907228,31.399999618530273,31.261999893188477,31.5379997253418,31.91800003051758,32.22399978637695,32.783999633789065,32.9379997253418,32.944000244140625,32.8620002746582,33.072000122070314,33.262000274658206,33.54200057983398,33.89000015258789,34.39000015258789,34.6740005493164,34.810000610351565,34.84600067138672,34.69600067138672,34.44800033569336,33.954000091552736,33.50199966430664,33.1479995727539,32.78199996948242,32.33600006103516,32.10000038146973,31.910000610351563,31.660000228881835,31.4439998626709,31.05799980163574,31.109999465942384,31.051999282836913,30.809999465942383,30.355999755859376,30.04199981689453,29.504000091552733,28.910000228881835,28.320000076293944,27.863999938964845,27.4060001373291,26.838000106811524,26.488000106811523,26.358000183105467,26.26600036621094,26.42400016784668,26.49000015258789,26.31400032043457,26.2120002746582,26.286000061035157,26.120000076293945,25.895999908447266,25.931999588012694,25.97799949645996,25.771999740600585,25.629999923706055,25.809999847412108,25.93400001525879,25.87400016784668,25.961999893188477,26.077999877929688,25.71800003051758,25.3560001373291,24.972000122070312,24.54000015258789,24.2,24.118000030517578,23.779999923706054,23.8,24.095999908447265,24.404000091552735,24.786000061035157,25.511999893188477,25.87799987792969,26.047999954223634,26.095999908447265,26.204000091552736,26.2120002746582,26.32400016784668,26.49800033569336,26.7120002746582,26.944000244140625,27.09800033569336,27.116000366210937,27.030000305175783,26.956000137329102,26.713999938964843,26.56999969482422,26.477999877929687,26.551999664306642,26.403999710083006,26.189999771118163,26.047999954223634,26.11999969482422,25.96800003051758,26.144000244140624,26.66400032043457,27.10400047302246,27.384000396728517,27.820000076293944,28.070000076293944,28.245999908447267,28.403999710083006,28.773999786376955,29.013999938964844,29.52599983215332,29.789999771118165,30.203999710083007,30.32599983215332,30.527999877929688,30.477999877929687,30.620000076293945,30.410000228881835,30.132000350952147,29.77400016784668,29.44600028991699,29.068000411987306,28.860000228881837,28.744000244140626,28.662000274658205,28.562000274658203,28.447999954223633,28.727999877929687,29.23399963378906,29.613999938964845,29.997999572753905,30.411999893188476,30.729999923706053,30.672000122070312,30.738000106811523,30.698000335693358,30.704000091552736,30.46400032043457,30.568000030517577,30.679999923706056,30.879999923706055,30.897999954223632,30.891999816894533,30.67599983215332,30.503999710083008,30.32999954223633,30.64399948120117,31.245999908447267,31.884000396728517,32.55400009155274,33.27200012207031,33.513999938964844,33.65199966430664,33.783999633789065,33.74400024414062,33.57000045776367,33.62200088500977,33.68000106811523,33.83000106811524,34.06800079345703,34.53600082397461,34.79800033569336,34.895999908447266,35.56199951171875,36.395999908447266,37.05,38.12200012207031,38.99400024414062,39.43800048828125,39.831999969482425,40.31800003051758,40.422000122070315,40.65999984741211,40.465999603271484,40.30400009155274,40.25599975585938,39.837999725341795,39.62799987792969,39.6379997253418,39.5379997253418,39.18600006103516,39.23199996948242,39.273999786376955,39.237999725341794,38.83999938964844,38.60199890136719,38.61399917602539,38.32399978637695,38.236000061035156,38.25599975585938,38.25599975585938,37.907999420166014,37.6859992980957,37.3739990234375,37.067999267578124,36.683999633789064,36.64400024414063,36.62000045776367,36.69000091552734,37.10000076293945,37.62800064086914,37.896000671386716,38.26800003051758,38.47799987792969,38.491999816894534,38.407999420166014,38.46799926757812,38.38199920654297,38.301998901367185,38.09399948120117,37.97200012207031,37.72799987792969,37.63199996948242,37.59599990844727,37.67599945068359,37.91599884033203,38.1219985961914,38.30999908447266,38.26399917602539,38.41599960327149,38.294000244140626,38.1740005493164,37.84600067138672,37.78200073242188,37.5620002746582,37.70800018310547,37.76800003051758,37.88399963378906,37.87999954223633,38.08600006103516,38.01999969482422,37.986000061035156,37.986000061035156,38.03000030517578,37.91599960327149,37.805999755859375],\"type\":\"scatter\",\"xaxis\":\"x2\",\"yaxis\":\"y2\"}],                        {\"template\":{\"data\":{\"bar\":[{\"error_x\":{\"color\":\"#2a3f5f\"},\"error_y\":{\"color\":\"#2a3f5f\"},\"marker\":{\"line\":{\"color\":\"#E5ECF6\",\"width\":0.5},\"pattern\":{\"fillmode\":\"overlay\",\"size\":10,\"solidity\":0.2}},\"type\":\"bar\"}],\"barpolar\":[{\"marker\":{\"line\":{\"color\":\"#E5ECF6\",\"width\":0.5},\"pattern\":{\"fillmode\":\"overlay\",\"size\":10,\"solidity\":0.2}},\"type\":\"barpolar\"}],\"carpet\":[{\"aaxis\":{\"endlinecolor\":\"#2a3f5f\",\"gridcolor\":\"white\",\"linecolor\":\"white\",\"minorgridcolor\":\"white\",\"startlinecolor\":\"#2a3f5f\"},\"baxis\":{\"endlinecolor\":\"#2a3f5f\",\"gridcolor\":\"white\",\"linecolor\":\"white\",\"minorgridcolor\":\"white\",\"startlinecolor\":\"#2a3f5f\"},\"type\":\"carpet\"}],\"choropleth\":[{\"colorbar\":{\"outlinewidth\":0,\"ticks\":\"\"},\"type\":\"choropleth\"}],\"contour\":[{\"colorbar\":{\"outlinewidth\":0,\"ticks\":\"\"},\"colorscale\":[[0.0,\"#0d0887\"],[0.1111111111111111,\"#46039f\"],[0.2222222222222222,\"#7201a8\"],[0.3333333333333333,\"#9c179e\"],[0.4444444444444444,\"#bd3786\"],[0.5555555555555556,\"#d8576b\"],[0.6666666666666666,\"#ed7953\"],[0.7777777777777778,\"#fb9f3a\"],[0.8888888888888888,\"#fdca26\"],[1.0,\"#f0f921\"]],\"type\":\"contour\"}],\"contourcarpet\":[{\"colorbar\":{\"outlinewidth\":0,\"ticks\":\"\"},\"type\":\"contourcarpet\"}],\"heatmap\":[{\"colorbar\":{\"outlinewidth\":0,\"ticks\":\"\"},\"colorscale\":[[0.0,\"#0d0887\"],[0.1111111111111111,\"#46039f\"],[0.2222222222222222,\"#7201a8\"],[0.3333333333333333,\"#9c179e\"],[0.4444444444444444,\"#bd3786\"],[0.5555555555555556,\"#d8576b\"],[0.6666666666666666,\"#ed7953\"],[0.7777777777777778,\"#fb9f3a\"],[0.8888888888888888,\"#fdca26\"],[1.0,\"#f0f921\"]],\"type\":\"heatmap\"}],\"heatmapgl\":[{\"colorbar\":{\"outlinewidth\":0,\"ticks\":\"\"},\"colorscale\":[[0.0,\"#0d0887\"],[0.1111111111111111,\"#46039f\"],[0.2222222222222222,\"#7201a8\"],[0.3333333333333333,\"#9c179e\"],[0.4444444444444444,\"#bd3786\"],[0.5555555555555556,\"#d8576b\"],[0.6666666666666666,\"#ed7953\"],[0.7777777777777778,\"#fb9f3a\"],[0.8888888888888888,\"#fdca26\"],[1.0,\"#f0f921\"]],\"type\":\"heatmapgl\"}],\"histogram\":[{\"marker\":{\"pattern\":{\"fillmode\":\"overlay\",\"size\":10,\"solidity\":0.2}},\"type\":\"histogram\"}],\"histogram2d\":[{\"colorbar\":{\"outlinewidth\":0,\"ticks\":\"\"},\"colorscale\":[[0.0,\"#0d0887\"],[0.1111111111111111,\"#46039f\"],[0.2222222222222222,\"#7201a8\"],[0.3333333333333333,\"#9c179e\"],[0.4444444444444444,\"#bd3786\"],[0.5555555555555556,\"#d8576b\"],[0.6666666666666666,\"#ed7953\"],[0.7777777777777778,\"#fb9f3a\"],[0.8888888888888888,\"#fdca26\"],[1.0,\"#f0f921\"]],\"type\":\"histogram2d\"}],\"histogram2dcontour\":[{\"colorbar\":{\"outlinewidth\":0,\"ticks\":\"\"},\"colorscale\":[[0.0,\"#0d0887\"],[0.1111111111111111,\"#46039f\"],[0.2222222222222222,\"#7201a8\"],[0.3333333333333333,\"#9c179e\"],[0.4444444444444444,\"#bd3786\"],[0.5555555555555556,\"#d8576b\"],[0.6666666666666666,\"#ed7953\"],[0.7777777777777778,\"#fb9f3a\"],[0.8888888888888888,\"#fdca26\"],[1.0,\"#f0f921\"]],\"type\":\"histogram2dcontour\"}],\"mesh3d\":[{\"colorbar\":{\"outlinewidth\":0,\"ticks\":\"\"},\"type\":\"mesh3d\"}],\"parcoords\":[{\"line\":{\"colorbar\":{\"outlinewidth\":0,\"ticks\":\"\"}},\"type\":\"parcoords\"}],\"pie\":[{\"automargin\":true,\"type\":\"pie\"}],\"scatter\":[{\"marker\":{\"colorbar\":{\"outlinewidth\":0,\"ticks\":\"\"}},\"type\":\"scatter\"}],\"scatter3d\":[{\"line\":{\"colorbar\":{\"outlinewidth\":0,\"ticks\":\"\"}},\"marker\":{\"colorbar\":{\"outlinewidth\":0,\"ticks\":\"\"}},\"type\":\"scatter3d\"}],\"scattercarpet\":[{\"marker\":{\"colorbar\":{\"outlinewidth\":0,\"ticks\":\"\"}},\"type\":\"scattercarpet\"}],\"scattergeo\":[{\"marker\":{\"colorbar\":{\"outlinewidth\":0,\"ticks\":\"\"}},\"type\":\"scattergeo\"}],\"scattergl\":[{\"marker\":{\"colorbar\":{\"outlinewidth\":0,\"ticks\":\"\"}},\"type\":\"scattergl\"}],\"scattermapbox\":[{\"marker\":{\"colorbar\":{\"outlinewidth\":0,\"ticks\":\"\"}},\"type\":\"scattermapbox\"}],\"scatterpolar\":[{\"marker\":{\"colorbar\":{\"outlinewidth\":0,\"ticks\":\"\"}},\"type\":\"scatterpolar\"}],\"scatterpolargl\":[{\"marker\":{\"colorbar\":{\"outlinewidth\":0,\"ticks\":\"\"}},\"type\":\"scatterpolargl\"}],\"scatterternary\":[{\"marker\":{\"colorbar\":{\"outlinewidth\":0,\"ticks\":\"\"}},\"type\":\"scatterternary\"}],\"surface\":[{\"colorbar\":{\"outlinewidth\":0,\"ticks\":\"\"},\"colorscale\":[[0.0,\"#0d0887\"],[0.1111111111111111,\"#46039f\"],[0.2222222222222222,\"#7201a8\"],[0.3333333333333333,\"#9c179e\"],[0.4444444444444444,\"#bd3786\"],[0.5555555555555556,\"#d8576b\"],[0.6666666666666666,\"#ed7953\"],[0.7777777777777778,\"#fb9f3a\"],[0.8888888888888888,\"#fdca26\"],[1.0,\"#f0f921\"]],\"type\":\"surface\"}],\"table\":[{\"cells\":{\"fill\":{\"color\":\"#EBF0F8\"},\"line\":{\"color\":\"white\"}},\"header\":{\"fill\":{\"color\":\"#C8D4E3\"},\"line\":{\"color\":\"white\"}},\"type\":\"table\"}]},\"layout\":{\"annotationdefaults\":{\"arrowcolor\":\"#2a3f5f\",\"arrowhead\":0,\"arrowwidth\":1},\"autotypenumbers\":\"strict\",\"coloraxis\":{\"colorbar\":{\"outlinewidth\":0,\"ticks\":\"\"}},\"colorscale\":{\"diverging\":[[0,\"#8e0152\"],[0.1,\"#c51b7d\"],[0.2,\"#de77ae\"],[0.3,\"#f1b6da\"],[0.4,\"#fde0ef\"],[0.5,\"#f7f7f7\"],[0.6,\"#e6f5d0\"],[0.7,\"#b8e186\"],[0.8,\"#7fbc41\"],[0.9,\"#4d9221\"],[1,\"#276419\"]],\"sequential\":[[0.0,\"#0d0887\"],[0.1111111111111111,\"#46039f\"],[0.2222222222222222,\"#7201a8\"],[0.3333333333333333,\"#9c179e\"],[0.4444444444444444,\"#bd3786\"],[0.5555555555555556,\"#d8576b\"],[0.6666666666666666,\"#ed7953\"],[0.7777777777777778,\"#fb9f3a\"],[0.8888888888888888,\"#fdca26\"],[1.0,\"#f0f921\"]],\"sequentialminus\":[[0.0,\"#0d0887\"],[0.1111111111111111,\"#46039f\"],[0.2222222222222222,\"#7201a8\"],[0.3333333333333333,\"#9c179e\"],[0.4444444444444444,\"#bd3786\"],[0.5555555555555556,\"#d8576b\"],[0.6666666666666666,\"#ed7953\"],[0.7777777777777778,\"#fb9f3a\"],[0.8888888888888888,\"#fdca26\"],[1.0,\"#f0f921\"]]},\"colorway\":[\"#636efa\",\"#EF553B\",\"#00cc96\",\"#ab63fa\",\"#FFA15A\",\"#19d3f3\",\"#FF6692\",\"#B6E880\",\"#FF97FF\",\"#FECB52\"],\"font\":{\"color\":\"#2a3f5f\"},\"geo\":{\"bgcolor\":\"white\",\"lakecolor\":\"white\",\"landcolor\":\"#E5ECF6\",\"showlakes\":true,\"showland\":true,\"subunitcolor\":\"white\"},\"hoverlabel\":{\"align\":\"left\"},\"hovermode\":\"closest\",\"mapbox\":{\"style\":\"light\"},\"paper_bgcolor\":\"white\",\"plot_bgcolor\":\"#E5ECF6\",\"polar\":{\"angularaxis\":{\"gridcolor\":\"white\",\"linecolor\":\"white\",\"ticks\":\"\"},\"bgcolor\":\"#E5ECF6\",\"radialaxis\":{\"gridcolor\":\"white\",\"linecolor\":\"white\",\"ticks\":\"\"}},\"scene\":{\"xaxis\":{\"backgroundcolor\":\"#E5ECF6\",\"gridcolor\":\"white\",\"gridwidth\":2,\"linecolor\":\"white\",\"showbackground\":true,\"ticks\":\"\",\"zerolinecolor\":\"white\"},\"yaxis\":{\"backgroundcolor\":\"#E5ECF6\",\"gridcolor\":\"white\",\"gridwidth\":2,\"linecolor\":\"white\",\"showbackground\":true,\"ticks\":\"\",\"zerolinecolor\":\"white\"},\"zaxis\":{\"backgroundcolor\":\"#E5ECF6\",\"gridcolor\":\"white\",\"gridwidth\":2,\"linecolor\":\"white\",\"showbackground\":true,\"ticks\":\"\",\"zerolinecolor\":\"white\"}},\"shapedefaults\":{\"line\":{\"color\":\"#2a3f5f\"}},\"ternary\":{\"aaxis\":{\"gridcolor\":\"white\",\"linecolor\":\"white\",\"ticks\":\"\"},\"baxis\":{\"gridcolor\":\"white\",\"linecolor\":\"white\",\"ticks\":\"\"},\"bgcolor\":\"#E5ECF6\",\"caxis\":{\"gridcolor\":\"white\",\"linecolor\":\"white\",\"ticks\":\"\"}},\"title\":{\"x\":0.05},\"xaxis\":{\"automargin\":true,\"gridcolor\":\"white\",\"linecolor\":\"white\",\"ticks\":\"\",\"title\":{\"standoff\":15},\"zerolinecolor\":\"white\",\"zerolinewidth\":2},\"yaxis\":{\"automargin\":true,\"gridcolor\":\"white\",\"linecolor\":\"white\",\"ticks\":\"\",\"title\":{\"standoff\":15},\"zerolinecolor\":\"white\",\"zerolinewidth\":2}}},\"xaxis\":{\"anchor\":\"y\",\"domain\":[0.0,1.0],\"matches\":\"x2\",\"showticklabels\":false,\"rangeslider\":{\"visible\":false}},\"yaxis\":{\"anchor\":\"x\",\"domain\":[0.5375,1.0]},\"xaxis2\":{\"anchor\":\"y2\",\"domain\":[0.0,1.0]},\"yaxis2\":{\"anchor\":\"x2\",\"domain\":[0.0,0.4625]},\"annotations\":[{\"font\":{\"size\":16},\"showarrow\":false,\"text\":\"Cota\\u00e7\\u00e3o\",\"x\":0.5,\"xanchor\":\"center\",\"xref\":\"paper\",\"y\":1.0,\"yanchor\":\"bottom\",\"yref\":\"paper\"},{\"font\":{\"size\":16},\"showarrow\":false,\"text\":\"Fechamento\",\"x\":0.5,\"xanchor\":\"center\",\"xref\":\"paper\",\"y\":0.4625,\"yanchor\":\"bottom\",\"yref\":\"paper\"},{\"font\":{\"size\":14},\"showarrow\":false,\"text\":\"An\\u00e1lise feita no evento de Python\",\"x\":1,\"xref\":\"x domain\",\"y\":-1.4,\"yref\":\"y domain\"},{\"font\":{\"size\":14},\"showarrow\":false,\"text\":\"By: @Edson S Costa\",\"x\":0,\"xref\":\"x domain\",\"y\":-1.4,\"yref\":\"y domain\"}],\"title\":{\"text\":\"<b>Advanced Analytics</b> <br>Follow-up WEG S.A\"},\"width\":1000,\"height\":800,\"legend\":{\"font\":{\"size\":10},\"orientation\":\"h\",\"yanchor\":\"bottom\",\"y\":1.02,\"xanchor\":\"right\",\"x\":1}},                        {\"responsive\": true}                    ).then(function(){\n",
              "                            \n",
              "var gd = document.getElementById('3f936b2d-84b4-4428-8ee5-fd9f19093a2a');\n",
              "var x = new MutationObserver(function (mutations, observer) {{\n",
              "        var display = window.getComputedStyle(gd).display;\n",
              "        if (!display || display === 'none') {{\n",
              "            console.log([gd, 'removed!']);\n",
              "            Plotly.purge(gd);\n",
              "            observer.disconnect();\n",
              "        }}\n",
              "}});\n",
              "\n",
              "// Listen for the removal of the full notebook cells\n",
              "var notebookContainer = gd.closest('#notebook-container');\n",
              "if (notebookContainer) {{\n",
              "    x.observe(notebookContainer, {childList: true});\n",
              "}}\n",
              "\n",
              "// Listen for the clearing of the current output cell\n",
              "var outputEl = gd.closest('.output');\n",
              "if (outputEl) {{\n",
              "    x.observe(outputEl, {childList: true});\n",
              "}}\n",
              "\n",
              "                        })                };                            </script>        </div>\n",
              "</body>\n",
              "</html>"
            ]
          },
          "metadata": {}
        }
      ],
      "source": [
        "# Criar a Figura\n",
        "Figura = make_subplots(\n",
        "    rows=2,\n",
        "    cols=1,\n",
        "    specs=[\n",
        "        [{'type':'scatter'}],\n",
        "        [{'type':'scatter'}]\n",
        "    ],\n",
        "    vertical_spacing=0.075,\n",
        "    shared_xaxes=True,\n",
        "    subplot_titles=('Cotação', 'Fechamento')\n",
        ")\n",
        "\n",
        "# Layout e Dimensão\n",
        "Figura.update_layout(\n",
        "    width=1000,\n",
        "    height=800,\n",
        "    title_text='<b>Advanced Analytics</b> <br>Follow-up WEG S.A'\n",
        ")\n",
        "\n",
        "# Adicionado um gráfico na 1º Posição\n",
        "Figura.add_trace(\n",
        "    go.Candlestick(\n",
        "        x=Dados.index,\n",
        "        open=Dados['Open'],\n",
        "        high=Dados['High'],\n",
        "        low=Dados['Low'],\n",
        "        close=Dados['Close'],\n",
        "        increasing_line_color='red',\n",
        "        decreasing_line_color='green'\n",
        "    ),\n",
        "    row=1, col=1\n",
        ")\n",
        "\n",
        "Figura.add_trace(\n",
        "    go.Scatter(\n",
        "        x=Dados.index,\n",
        "        y=Dados['Media_Movel'],\n",
        "        mode='lines',\n",
        "        name='Média Móvel',\n",
        "        line=dict(color='yellow')\n",
        "    ),\n",
        "    row=1, col=1\n",
        ")\n",
        "\n",
        "Figura.update_layout(\n",
        "    xaxis_rangeslider_visible=False\n",
        ")\n",
        "\n",
        "# Adicionado um gráfico na 2º Posição\n",
        "Figura.add_trace(\n",
        "    go.Scatter(\n",
        "        x=Dados.index,\n",
        "        y=Dados['Close'],\n",
        "        mode='lines',\n",
        "        name='Fechamento',\n",
        "        line=dict(color='green')\n",
        "    ),\n",
        "    row=2, col=1\n",
        ")\n",
        "\n",
        "Figura.add_trace(\n",
        "    go.Scatter(\n",
        "        x=Dados.index,\n",
        "        y=Dados['Media_Movel'],\n",
        "        mode='lines',\n",
        "        name='Média Móvel',\n",
        "        line=dict(color='red')\n",
        "    ),\n",
        "    row=2, col=1\n",
        ")\n",
        "\n",
        "Figura.update_layout(\n",
        "    legend=dict(\n",
        "        orientation='h',\n",
        "        yanchor='bottom',\n",
        "        y=1.02,\n",
        "        xanchor='right',\n",
        "        x=1,\n",
        "        font=dict( size=10) \n",
        "    )\n",
        ")\n",
        "\n",
        "Figura.add_annotation(\n",
        "    showarrow=False,\n",
        "    text='Análise feita no evento de Python',\n",
        "    font=dict(size=14),\n",
        "    xref='x domain',\n",
        "    x=1,\n",
        "    yref='y domain',\n",
        "    y=-1.4\n",
        ")\n",
        "\n",
        "Figura.add_annotation(\n",
        "    showarrow=False,\n",
        "    text='By: @Edson S Costa',\n",
        "    font=dict(size=14),\n",
        "    xref='x domain',\n",
        "    x=0,\n",
        "    yref='y domain',\n",
        "    y=-1.4\n",
        ")\n",
        "\n",
        "Figura.show()"
      ]
    },
    {
      "cell_type": "markdown",
      "metadata": {
        "id": "VfBeY6KrONDq"
      },
      "source": [
        "## **Exportando PDF**"
      ]
    },
    {
      "cell_type": "markdown",
      "metadata": {
        "id": "SDrpGHV7ONuf"
      },
      "source": [
        "Kaleido\n",
        "Kaleido é uma biblioteca de plataforma cruzada para geração de imagens estáticas (por exemplo, png, svg, pdf, etc.) para bibliotecas de visualização baseadas na web, com foco particular na eliminação de dependências externas. O foco inicial do projeto é a exportação de imagens plotly.js do Python para uso por plotly.py, mas ele foi projetado para ser relativamente direto para estender a outras bibliotecas de visualização baseadas na web e outras linguagens de programação. O foco principal do Kaleido (pelo menos inicialmente) é servir como uma dependência de bibliotecas de visualização baseadas na web, como plotly.py. Como tal, o foco está em fornecer uma API programática, em vez de amigável ao usuário."
      ]
    },
    {
      "cell_type": "code",
      "execution_count": 36,
      "metadata": {
        "id": "YXHEp12ZOUKJ"
      },
      "outputs": [],
      "source": [
        "# Reiniciei o servidor"
      ]
    },
    {
      "cell_type": "code",
      "execution_count": 37,
      "metadata": {
        "colab": {
          "base_uri": "https://localhost:8080/"
        },
        "id": "zqMewC2mOVfz",
        "outputId": "e9cfd23f-c9f7-4f3a-cf84-2401450915cf"
      },
      "outputs": [
        {
          "output_type": "stream",
          "name": "stdout",
          "text": [
            "Looking in indexes: https://pypi.org/simple, https://us-python.pkg.dev/colab-wheels/public/simple/\n",
            "Requirement already satisfied: kaleido in /usr/local/lib/python3.8/dist-packages (0.2.1)\n"
          ]
        }
      ],
      "source": [
        "!pip install -U kaleido"
      ]
    },
    {
      "cell_type": "code",
      "execution_count": 40,
      "metadata": {
        "id": "VfuuYPh8OWxe"
      },
      "outputs": [],
      "source": [
        "Figura.write_image('Relatório_Financeiro.pdf')"
      ]
    }
  ],
  "metadata": {
    "colab": {
      "provenance": [],
      "authorship_tag": "ABX9TyNeB+k4o3vPjWZOrJa/I8qf",
      "include_colab_link": true
    },
    "kernelspec": {
      "display_name": "Python 3",
      "name": "python3"
    },
    "language_info": {
      "name": "python"
    }
  },
  "nbformat": 4,
  "nbformat_minor": 0
}